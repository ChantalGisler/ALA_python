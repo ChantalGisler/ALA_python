{
 "cells": [
  {
   "cell_type": "markdown",
   "source": [
    "# ala Python Zusammenfassung"
   ],
   "metadata": {
    "collapsed": false,
    "pycharm": {
     "name": "#%% md\n"
    }
   }
  },
  {
   "cell_type": "code",
   "execution_count": 1,
   "outputs": [],
   "source": [
    "import math\n",
    "\n",
    "import numpy as np\n",
    "import matplotlib.pyplot as plt\n",
    "import sympy as sp"
   ],
   "metadata": {
    "collapsed": false,
    "pycharm": {
     "name": "#%%\n"
    }
   }
  },
  {
   "cell_type": "markdown",
   "source": [
    "# Grundlagen der Matrizenkonstruktion und Berechnung\n",
    "## Funktionen in Sympy"
   ],
   "metadata": {
    "collapsed": false,
    "pycharm": {
     "name": "#%% md\n"
    }
   }
  },
  {
   "cell_type": "code",
   "execution_count": 2,
   "outputs": [
    {
     "data": {
      "text/plain": "Matrix([\n[1, 0, 0],\n[0, 1, 0],\n[0, 0, 1]])",
      "text/latex": "$\\displaystyle \\left[\\begin{matrix}1 & 0 & 0\\\\0 & 1 & 0\\\\0 & 0 & 1\\end{matrix}\\right]$"
     },
     "execution_count": 2,
     "metadata": {},
     "output_type": "execute_result"
    }
   ],
   "source": [
    "# Einheitsmatrix\n",
    "E = sp.eye(3)\n",
    "E"
   ],
   "metadata": {
    "collapsed": false,
    "pycharm": {
     "name": "#%%\n"
    }
   }
  },
  {
   "cell_type": "code",
   "execution_count": 3,
   "outputs": [
    {
     "data": {
      "text/plain": "Matrix([\n[0, 0, 0],\n[0, 0, 0],\n[0, 0, 0]])",
      "text/latex": "$\\displaystyle \\left[\\begin{matrix}0 & 0 & 0\\\\0 & 0 & 0\\\\0 & 0 & 0\\end{matrix}\\right]$"
     },
     "execution_count": 3,
     "metadata": {},
     "output_type": "execute_result"
    }
   ],
   "source": [
    "# Nullmatrix\n",
    "O = sp.zeros(3)\n",
    "O"
   ],
   "metadata": {
    "collapsed": false,
    "pycharm": {
     "name": "#%%\n"
    }
   }
  },
  {
   "cell_type": "code",
   "execution_count": 4,
   "outputs": [
    {
     "data": {
      "text/plain": "Matrix([\n[0, 0, 0],\n[0, 0, 0],\n[0, 0, 0],\n[0, 0, 0]])",
      "text/latex": "$\\displaystyle \\left[\\begin{matrix}0 & 0 & 0\\\\0 & 0 & 0\\\\0 & 0 & 0\\\\0 & 0 & 0\\end{matrix}\\right]$"
     },
     "execution_count": 4,
     "metadata": {},
     "output_type": "execute_result"
    }
   ],
   "source": [
    "MO = sp.zeros(4,3)\n",
    "MO"
   ],
   "metadata": {
    "collapsed": false,
    "pycharm": {
     "name": "#%%\n"
    }
   }
  },
  {
   "cell_type": "code",
   "execution_count": 5,
   "outputs": [
    {
     "data": {
      "text/plain": "Matrix([\n[1, 0, 0],\n[0, 2, 0],\n[0, 0, 3]])",
      "text/latex": "$\\displaystyle \\left[\\begin{matrix}1 & 0 & 0\\\\0 & 2 & 0\\\\0 & 0 & 3\\end{matrix}\\right]$"
     },
     "execution_count": 5,
     "metadata": {},
     "output_type": "execute_result"
    }
   ],
   "source": [
    "# Diagonalmatrix erstellen\n",
    "D = sp.diag(1,2,3)\n",
    "D"
   ],
   "metadata": {
    "collapsed": false,
    "pycharm": {
     "name": "#%%\n"
    }
   }
  },
  {
   "cell_type": "code",
   "execution_count": 6,
   "outputs": [
    {
     "data": {
      "text/plain": "18",
      "text/latex": "$\\displaystyle 18$"
     },
     "execution_count": 6,
     "metadata": {},
     "output_type": "execute_result"
    }
   ],
   "source": [
    "# Determinante einer Matrix\n",
    "A = sp.Matrix([[1,5,3],[4,5,6],[7,8,9]])\n",
    "A.det()"
   ],
   "metadata": {
    "collapsed": false,
    "pycharm": {
     "name": "#%%\n"
    }
   }
  },
  {
   "cell_type": "markdown",
   "source": [
    "## Funktionen in numpy"
   ],
   "metadata": {
    "collapsed": false,
    "pycharm": {
     "name": "#%% md\n"
    }
   }
  },
  {
   "cell_type": "code",
   "execution_count": 7,
   "outputs": [
    {
     "data": {
      "text/plain": "array([[1., 0., 0.],\n       [0., 1., 0.],\n       [0., 0., 1.]])"
     },
     "execution_count": 7,
     "metadata": {},
     "output_type": "execute_result"
    }
   ],
   "source": [
    "# Einheitsmatrix\n",
    "E = np.eye(3)\n",
    "E"
   ],
   "metadata": {
    "collapsed": false,
    "pycharm": {
     "name": "#%%\n"
    }
   }
  },
  {
   "cell_type": "code",
   "execution_count": 8,
   "outputs": [
    {
     "data": {
      "text/plain": "array([[0., 0., 0.],\n       [0., 0., 0.],\n       [0., 0., 0.]])"
     },
     "execution_count": 8,
     "metadata": {},
     "output_type": "execute_result"
    }
   ],
   "source": [
    "# Nullmatrix\n",
    "O = np.zeros((3,3))\n",
    "O"
   ],
   "metadata": {
    "collapsed": false,
    "pycharm": {
     "name": "#%%\n"
    }
   }
  },
  {
   "cell_type": "markdown",
   "source": [
    "# LE1 Eigenvektoren, Eigenwerte, Eigenräume"
   ],
   "metadata": {
    "collapsed": false,
    "pycharm": {
     "name": "#%% md\n"
    }
   }
  },
  {
   "cell_type": "code",
   "execution_count": 9,
   "outputs": [
    {
     "data": {
      "text/plain": "array([[ 2,  5],\n       [ 8, 10]])"
     },
     "execution_count": 9,
     "metadata": {},
     "output_type": "execute_result"
    }
   ],
   "source": [
    "A = np.array([[2, 5], [8, 10]])\n",
    "A"
   ],
   "metadata": {
    "collapsed": false,
    "pycharm": {
     "name": "#%%\n"
    }
   }
  },
  {
   "cell_type": "markdown",
   "source": [
    "# Eigenwerte und Eigenvektoren bestimmen\n"
   ],
   "metadata": {
    "collapsed": false,
    "pycharm": {
     "name": "#%% md\n"
    }
   }
  },
  {
   "cell_type": "code",
   "execution_count": 10,
   "outputs": [
    {
     "data": {
      "text/plain": "array([-1.48331477, 13.48331477])"
     },
     "metadata": {},
     "output_type": "display_data"
    },
    {
     "data": {
      "text/plain": "array([[-0.82051622, -0.39921318],\n       [ 0.57162325, -0.91685813]])"
     },
     "metadata": {},
     "output_type": "display_data"
    }
   ],
   "source": [
    "eigenwerteA, eigenvektorenA  = np.linalg.eig(A)\n",
    "display(eigenwerteA, eigenvektorenA)"
   ],
   "metadata": {
    "collapsed": false,
    "pycharm": {
     "name": "#%%\n"
    }
   }
  },
  {
   "cell_type": "code",
   "execution_count": 11,
   "outputs": [
    {
     "data": {
      "text/plain": "array([-0.82051622,  0.57162325])"
     },
     "metadata": {},
     "output_type": "display_data"
    },
    {
     "data": {
      "text/plain": "array([-0.39921318, -0.91685813])"
     },
     "metadata": {},
     "output_type": "display_data"
    }
   ],
   "source": [
    "# beide Eigenvektoren\n",
    "v1 = eigenvektorenA[:,0]\n",
    "v2 = eigenvektorenA[:,1]\n",
    "display(v1, v2)"
   ],
   "metadata": {
    "collapsed": false,
    "pycharm": {
     "name": "#%%\n"
    }
   }
  },
  {
   "cell_type": "code",
   "execution_count": 12,
   "outputs": [
    {
     "data": {
      "text/plain": "<Figure size 1000x500 with 1 Axes>",
      "image/png": "[encoded data removed]"
     },
     "metadata": {},
     "output_type": "display_data"
    }
   ],
   "source": [
    "# Eigenvektoren visuell darstellen\n",
    "plt.figure(figsize=(10,5))\n",
    "plt.plot([0, v1[0] * 20], [0, v1[1] * 20], 'b', label='Eigenvektor v1')\n",
    "plt.plot([0, v2[0] * 20], [0, v2[1] * 20], 'r', label='Eigenvektor v2')\n",
    "plt.grid()\n",
    "plt.gca().set_aspect(\"equal\")\n",
    "plt.legend()\n",
    "plt.title(\"Visuelle Darstellung der Eigenvektoren\")\n",
    "plt.show()"
   ],
   "metadata": {
    "collapsed": false,
    "pycharm": {
     "name": "#%%\n"
    }
   }
  },
  {
   "cell_type": "markdown",
   "source": [
    "# Diagonalisierung einer nicht symmetrischen Matrix"
   ],
   "metadata": {
    "collapsed": false,
    "pycharm": {
     "name": "#%% md\n"
    }
   }
  },
  {
   "cell_type": "code",
   "execution_count": 13,
   "outputs": [
    {
     "data": {
      "text/plain": "array([[ 0,  0, -2],\n       [ 1,  2,  1],\n       [ 1,  0,  3]])"
     },
     "execution_count": 13,
     "metadata": {},
     "output_type": "execute_result"
    }
   ],
   "source": [
    "B = np.array([[0,0,-2], [1,2,1], [1,0,3]])\n",
    "B"
   ],
   "metadata": {
    "collapsed": false,
    "pycharm": {
     "name": "#%%\n"
    }
   }
  },
  {
   "cell_type": "code",
   "execution_count": 14,
   "outputs": [
    {
     "data": {
      "text/plain": "array([2., 1., 2.])"
     },
     "metadata": {},
     "output_type": "display_data"
    },
    {
     "data": {
      "text/plain": "array([[ 0.        , -0.81649658,  0.706555  ],\n       [ 1.        ,  0.40824829,  0.03949763],\n       [ 0.        ,  0.40824829, -0.706555  ]])"
     },
     "metadata": {},
     "output_type": "display_data"
    }
   ],
   "source": [
    "# Eigenwerte und Eigenvektoren bestimmen\n",
    "eigenwerteB, eigenvektorenB = np.linalg.eig(B)\n",
    "display(eigenwerteB, eigenvektorenB)"
   ],
   "metadata": {
    "collapsed": false,
    "pycharm": {
     "name": "#%%\n"
    }
   }
  },
  {
   "cell_type": "code",
   "execution_count": 15,
   "outputs": [
    {
     "data": {
      "text/plain": "array([[2., 0., 0.],\n       [0., 1., 0.],\n       [0., 0., 2.]])"
     },
     "metadata": {},
     "output_type": "display_data"
    }
   ],
   "source": [
    "# Eigenvektoren in eine Diagonalmatrix schreiben\n",
    "D = np.diag(eigenwerteB)\n",
    "display(D)"
   ],
   "metadata": {
    "collapsed": false,
    "pycharm": {
     "name": "#%%\n"
    }
   }
  },
  {
   "cell_type": "code",
   "execution_count": 16,
   "outputs": [
    {
     "data": {
      "text/plain": "array([[ 0.        , -0.81649658,  0.706555  ],\n       [ 1.        ,  0.40824829,  0.03949763],\n       [ 0.        ,  0.40824829, -0.706555  ]])"
     },
     "execution_count": 16,
     "metadata": {},
     "output_type": "execute_result"
    }
   ],
   "source": [
    "# Basis der Eigenvektoren\n",
    "S = eigenvektorenB\n",
    "S"
   ],
   "metadata": {
    "collapsed": false,
    "pycharm": {
     "name": "#%%\n"
    }
   }
  },
  {
   "cell_type": "code",
   "execution_count": 17,
   "outputs": [
    {
     "data": {
      "text/plain": "array([[ 0.        , -0.81649658,  0.706555  ],\n       [ 1.        ,  0.40824829,  0.03949763],\n       [ 0.        ,  0.40824829, -0.706555  ]])"
     },
     "metadata": {},
     "output_type": "display_data"
    }
   ],
   "source": [
    "display(S)"
   ],
   "metadata": {
    "collapsed": false,
    "pycharm": {
     "name": "#%%\n"
    }
   }
  },
  {
   "cell_type": "code",
   "execution_count": 18,
   "outputs": [
    {
     "data": {
      "text/plain": "array([[ 1.0559017 ,  1.        ,  1.1118034 ],\n       [-2.44948974, -0.        , -2.44948974],\n       [-1.41531799, -0.        , -2.83063597]])"
     },
     "execution_count": 18,
     "metadata": {},
     "output_type": "execute_result"
    }
   ],
   "source": [
    "# Inverse der Basis der Eigenvektoren berechnen\n",
    "Sinv = np.linalg.inv(S)\n",
    "Sinv"
   ],
   "metadata": {
    "collapsed": false,
    "pycharm": {
     "name": "#%%\n"
    }
   }
  },
  {
   "cell_type": "code",
   "execution_count": 19,
   "outputs": [
    {
     "data": {
      "text/plain": "array([[-0.,  0., -2.],\n       [ 1.,  2.,  1.],\n       [ 1.,  0.,  3.]])"
     },
     "execution_count": 19,
     "metadata": {},
     "output_type": "execute_result"
    }
   ],
   "source": [
    "# Diagonalisierung von B mit Zusammensetzung der Matrizen S D Sinv = B\n",
    "Bdiagonal = np.round(S @ D @ Sinv)\n",
    "Bdiagonal"
   ],
   "metadata": {
    "collapsed": false,
    "pycharm": {
     "name": "#%%\n"
    }
   }
  },
  {
   "cell_type": "code",
   "execution_count": 20,
   "outputs": [
    {
     "data": {
      "text/plain": "True"
     },
     "execution_count": 20,
     "metadata": {},
     "output_type": "execute_result"
    }
   ],
   "source": [
    "# Kontrolle auf Richtigkeit mittels elementeweiser Vergleich\n",
    "np.allclose(B, Bdiagonal)"
   ],
   "metadata": {
    "collapsed": false,
    "pycharm": {
     "name": "#%%\n"
    }
   }
  },
  {
   "cell_type": "code",
   "execution_count": 21,
   "outputs": [
    {
     "data": {
      "text/plain": "True"
     },
     "execution_count": 21,
     "metadata": {},
     "output_type": "execute_result"
    }
   ],
   "source": [
    "(B == Bdiagonal).all()"
   ],
   "metadata": {
    "collapsed": false,
    "pycharm": {
     "name": "#%%\n"
    }
   }
  },
  {
   "cell_type": "markdown",
   "source": [
    "# Diagonalisieren einer symmetrischen Matrix"
   ],
   "metadata": {
    "collapsed": false,
    "pycharm": {
     "name": "#%% md\n"
    }
   }
  },
  {
   "cell_type": "code",
   "execution_count": 22,
   "outputs": [
    {
     "data": {
      "text/plain": "array([[93., 10., 20.],\n       [10., 42., 30.],\n       [20., 30., 56.]])"
     },
     "execution_count": 22,
     "metadata": {},
     "output_type": "execute_result"
    }
   ],
   "source": [
    "M = np.array([[93.,10.,20.],[10.,42.,30.],[20.,30.,56.]])\n",
    "M\n"
   ],
   "metadata": {
    "collapsed": false,
    "pycharm": {
     "name": "#%%\n"
    }
   }
  },
  {
   "cell_type": "code",
   "execution_count": 23,
   "outputs": [
    {
     "data": {
      "text/plain": "array([109.4080777,  63.7115851,  17.8803372])"
     },
     "metadata": {},
     "output_type": "display_data"
    },
    {
     "data": {
      "text/plain": "array([[ 0.80347987,  0.59142826, -0.06806398],\n       [ 0.33746861, -0.54665882, -0.76634136],\n       [ 0.49044371, -0.5927704 ,  0.63881783]])"
     },
     "metadata": {},
     "output_type": "display_data"
    }
   ],
   "source": [
    "# Eigenwerte und Eigenvektoren bestimmen\n",
    "eigenwerteM, eigenvektorenM = np.linalg.eig(M)\n",
    "display(eigenwerteM, eigenvektorenM)"
   ],
   "metadata": {
    "collapsed": false,
    "pycharm": {
     "name": "#%%\n"
    }
   }
  },
  {
   "cell_type": "code",
   "execution_count": 24,
   "outputs": [
    {
     "data": {
      "text/plain": "array([109.4080777,  63.7115851,  17.8803372])"
     },
     "metadata": {},
     "output_type": "display_data"
    },
    {
     "data": {
      "text/plain": "array([[ 0.80347987,  0.59142826, -0.06806398],\n       [ 0.33746861, -0.54665882, -0.76634136],\n       [ 0.49044371, -0.5927704 ,  0.63881783]])"
     },
     "metadata": {},
     "output_type": "display_data"
    }
   ],
   "source": [
    "# Eigenvektoren absteigend sortieren\n",
    "eigenvektorenM = eigenvektorenM[:, eigenwerteM.argsort()[::-1]]\n",
    "display(eigenwerteM, eigenvektorenM)"
   ],
   "metadata": {
    "collapsed": false,
    "pycharm": {
     "name": "#%%\n"
    }
   }
  },
  {
   "cell_type": "code",
   "execution_count": 25,
   "outputs": [
    {
     "data": {
      "text/plain": "array([[109.4080777,   0.       ,   0.       ],\n       [  0.       ,  63.7115851,   0.       ],\n       [  0.       ,   0.       ,  17.8803372]])"
     },
     "metadata": {},
     "output_type": "display_data"
    }
   ],
   "source": [
    "# Eigenwerte in eine Diagonalmatrix schreiben\n",
    "D = np.diag(eigenwerteM)\n",
    "display(D)"
   ],
   "metadata": {
    "collapsed": false,
    "pycharm": {
     "name": "#%%\n"
    }
   }
  },
  {
   "cell_type": "code",
   "execution_count": 26,
   "outputs": [
    {
     "data": {
      "text/plain": "array([[ 0.80347987,  0.59142826, -0.06806398],\n       [ 0.33746861, -0.54665882, -0.76634136],\n       [ 0.49044371, -0.5927704 ,  0.63881783]])"
     },
     "execution_count": 26,
     "metadata": {},
     "output_type": "execute_result"
    }
   ],
   "source": [
    "# Basis der Eigenvektoren\n",
    "S = eigenvektorenM\n",
    "S"
   ],
   "metadata": {
    "collapsed": false,
    "pycharm": {
     "name": "#%%\n"
    }
   }
  },
  {
   "cell_type": "code",
   "execution_count": 27,
   "outputs": [
    {
     "data": {
      "text/plain": "array([[ 0.80347987,  0.33746861,  0.49044371],\n       [ 0.59142826, -0.54665882, -0.5927704 ],\n       [-0.06806398, -0.76634136,  0.63881783]])"
     },
     "metadata": {},
     "output_type": "display_data"
    },
    {
     "data": {
      "text/plain": "array([[ 0.80347987,  0.33746861,  0.49044371],\n       [ 0.59142826, -0.54665882, -0.5927704 ],\n       [-0.06806398, -0.76634136,  0.63881783]])"
     },
     "metadata": {},
     "output_type": "display_data"
    }
   ],
   "source": [
    "# Inverse der Basis bestimmen. Da es sich um eine symmetrische Matrix handelt, kann sie dazu transponiert werden\n",
    "Stransp = S.T\n",
    "Sinv = np.linalg.inv(S)\n",
    "np.allclose(Sinv, Stransp)\n",
    "display(Sinv, Stransp)"
   ],
   "metadata": {
    "collapsed": false,
    "pycharm": {
     "name": "#%%\n"
    }
   }
  },
  {
   "cell_type": "code",
   "execution_count": 28,
   "outputs": [
    {
     "data": {
      "text/plain": "array([[ 1., -0.,  0.],\n       [-0.,  1., -0.],\n       [ 0., -0.,  1.]])"
     },
     "execution_count": 28,
     "metadata": {},
     "output_type": "execute_result"
    }
   ],
   "source": [
    "# Überprüfen, ob die Basis der Eigenvektoren orthogonal zueinander sind (senkrecht und die Länge 1)\n",
    "# dazu muss S @ S.T = I ergeben. Dies ist eine Eigenschaft der symmetrischen Matrix\n",
    "np.round(S @ S.T)"
   ],
   "metadata": {
    "collapsed": false,
    "pycharm": {
     "name": "#%%\n"
    }
   }
  },
  {
   "cell_type": "code",
   "execution_count": 29,
   "outputs": [
    {
     "data": {
      "text/plain": "array([[93., 10., 20.],\n       [10., 42., 30.],\n       [20., 30., 56.]])"
     },
     "execution_count": 29,
     "metadata": {},
     "output_type": "execute_result"
    }
   ],
   "source": [
    "# Zusammmensetzung aller Matrizen\n",
    "Mdiagonal = np.round(S @ D @ Sinv)\n",
    "Mdiagonal"
   ],
   "metadata": {
    "collapsed": false,
    "pycharm": {
     "name": "#%%\n"
    }
   }
  },
  {
   "cell_type": "code",
   "execution_count": 30,
   "outputs": [
    {
     "data": {
      "text/plain": "True"
     },
     "execution_count": 30,
     "metadata": {},
     "output_type": "execute_result"
    }
   ],
   "source": [
    "# Ueberprüfung, ob M und Mdiagonal gleich sind\n",
    "#Variante 1\n",
    "np.allclose(M, Mdiagonal)\n",
    "# Variante 2\n",
    "(M == Mdiagonal).all()"
   ],
   "metadata": {
    "collapsed": false,
    "pycharm": {
     "name": "#%%\n"
    }
   }
  },
  {
   "cell_type": "markdown",
   "source": [],
   "metadata": {
    "collapsed": false,
    "pycharm": {
     "name": "#%% md\n"
    }
   }
  },
  {
   "cell_type": "markdown",
   "source": [
    "## Orthogonale Matrix\n",
    "\n",
    "Eigenschaften einer orthogonalen Matrix:\n",
    "- Spaltenvektoren stehen senkrecht zueinander\n",
    "- die Spaltenvektoren sind auf den Betrag 1 normiert\n",
    "- Spalten und Zeilen bilden die orthonormale Basis (ONB) von R^n.\n",
    "- die Determinante jeder orthogonalen Matrix ist +1 oder -1 (Schlussfolgerung, dass eine Matrix mit det +1/-1 immer orthogonal ist, gilt nicht!)\n",
    "- Eigenwerte einer orthogonalen Matrix haben alle den Betrag 1\n",
    "- jede orthogonale Matrix ist invertierbar -> ![inv_orthog_M.png](./inv_orthog_M.png)\n",
    "- Produkt zweier orthogonalen Matrizen ist ebenfalls orthogonal\n",
    "- Transformationen mit orthogonalen Matrizen erhalten die Lànge der Vektoren -> ![transf_orthog_M.png](./transf_orthog_M.png)\n",
    "- und erhalten Skalarprodukte zwischen zwei Vektoren und deren Zwischenwinkel -> ![skalarprod_orth_M.png](./skalarprod_orth_M.png)\n",
    "\n",
    "![def_orthogonale_Matrix.png](./def_orthogonale_Matrix.png)\n",
    "\n",
    "\n",
    "Funktion zur Überprüfung, ob eine Matrix orthogonal ist."
   ],
   "metadata": {
    "collapsed": false,
    "pycharm": {
     "name": "#%% md\n"
    }
   }
  },
  {
   "cell_type": "code",
   "execution_count": 31,
   "outputs": [
    {
     "name": "stdout",
     "output_type": "stream",
     "text": [
      "False\n"
     ]
    }
   ],
   "source": [
    "# Matrix erstellen\n",
    "A = np.array([[1,2,3],[4,5,6],[7,8,9]])\n",
    "# Funktion, ob die Matrix orthogonal ist\n",
    "def is_orthogonal(A, tol=1e-8):\n",
    "    return np.allclose(A.T @ A, np.eye(A.shape[1]), atol=tol)\n",
    "\n",
    "print(is_orthogonal(A))\n"
   ],
   "metadata": {
    "collapsed": false,
    "pycharm": {
     "name": "#%%\n"
    }
   }
  },
  {
   "cell_type": "code",
   "execution_count": 32,
   "outputs": [
    {
     "name": "stdout",
     "output_type": "stream",
     "text": [
      "True\n"
     ]
    }
   ],
   "source": [
    "# Orthogonale Matrix erstellen und überprüfen\n",
    "B = np.array([[0,1,0],[1,0,0],[0,0,-1]])\n",
    "print(is_orthogonal(B))"
   ],
   "metadata": {
    "collapsed": false,
    "pycharm": {
     "name": "#%%\n"
    }
   }
  },
  {
   "cell_type": "code",
   "execution_count": 33,
   "outputs": [
    {
     "data": {
      "text/plain": "array([[ 0.70710678,  0.70710678,  0.        ],\n       [-0.70710678,  0.70710678,  0.        ],\n       [ 0.        ,  0.        ,  1.        ]])"
     },
     "execution_count": 33,
     "metadata": {},
     "output_type": "execute_result"
    }
   ],
   "source": [
    "Q = np.array([\n",
    "    [1/np.sqrt(2), 1/np.sqrt(2), 0],\n",
    "    [-1/np.sqrt(2), 1/np.sqrt(2), 0],\n",
    "    [0, 0, 1]\n",
    "])\n",
    "\n",
    "Q"
   ],
   "metadata": {
    "collapsed": false,
    "pycharm": {
     "name": "#%%\n"
    }
   }
  },
  {
   "cell_type": "code",
   "execution_count": 34,
   "outputs": [
    {
     "name": "stdout",
     "output_type": "stream",
     "text": [
      "[[1.00000000e+00 2.23711432e-17 0.00000000e+00]\n",
      " [2.23711432e-17 1.00000000e+00 0.00000000e+00]\n",
      " [0.00000000e+00 0.00000000e+00 1.00000000e+00]]\n"
     ]
    }
   ],
   "source": [
    "print(np.dot(Q, Q.T))"
   ],
   "metadata": {
    "collapsed": false,
    "pycharm": {
     "name": "#%%\n"
    }
   }
  },
  {
   "cell_type": "code",
   "execution_count": 35,
   "outputs": [
    {
     "data": {
      "text/plain": "1.7320508075688772"
     },
     "execution_count": 35,
     "metadata": {},
     "output_type": "execute_result"
    }
   ],
   "source": [
    "# Frobeniusnorm der Matrix berechnen\n",
    "Q_norm = np.linalg.norm(Q, 'fro') # Verwendung der Frobenius-Norm\n",
    "Q_norm"
   ],
   "metadata": {
    "collapsed": false,
    "pycharm": {
     "name": "#%%\n"
    }
   }
  },
  {
   "cell_type": "code",
   "execution_count": 36,
   "outputs": [
    {
     "data": {
      "text/plain": "array([[ 0.40824829,  0.40824829,  0.        ],\n       [-0.40824829,  0.40824829,  0.        ],\n       [ 0.        ,  0.        ,  0.57735027]])"
     },
     "execution_count": 36,
     "metadata": {},
     "output_type": "execute_result"
    }
   ],
   "source": [
    "# Matrix auf den Betrag 1 normieren. Hier wird jede Komponente der Matrix durch die Frobeniusnorm geteilt. Dadurch entsteht die normalisierte Matrix\n",
    "Q_normalized = Q / Q_norm\n",
    "Q_normalized"
   ],
   "metadata": {
    "collapsed": false,
    "pycharm": {
     "name": "#%%\n"
    }
   }
  },
  {
   "cell_type": "code",
   "execution_count": 37,
   "outputs": [
    {
     "name": "stdout",
     "output_type": "stream",
     "text": [
      "True\n"
     ]
    }
   ],
   "source": [
    "print(is_orthogonal(Q))"
   ],
   "metadata": {
    "collapsed": false,
    "pycharm": {
     "name": "#%%\n"
    }
   }
  },
  {
   "cell_type": "markdown",
   "source": [
    "## Drehmatrix\n",
    "Funktion zum drehen einer Matrix"
   ],
   "metadata": {
    "collapsed": false,
    "pycharm": {
     "name": "#%% md\n"
    }
   }
  },
  {
   "cell_type": "code",
   "execution_count": 38,
   "outputs": [
    {
     "name": "stdout",
     "output_type": "stream",
     "text": [
      "[[ 0  0  0]\n",
      " [ 0  0  0]\n",
      " [ 1 -1  0]]\n"
     ]
    }
   ],
   "source": [
    "# Matrix drehen\n",
    "#Funktion, um eine Matrix zu drehen\n",
    "\n",
    "def matrix_drehen(matrix, winkel):\n",
    "    # Winkel in Bogenmass und cosinus, sinus umwandeln\n",
    "    c, s = np.cos(np.radians(winkel)), np.sin(np.radians(winkel))\n",
    "    # Hülle für das Ergebnis erstellen\n",
    "    gedrehte_matrix = np.zeros_like(matrix)\n",
    "    # Anzal n, m auslesen\n",
    "    n, m = matrix.shape\n",
    "\n",
    "    # for-loop erstellen\n",
    "    for i in range(n):\n",
    "        for j in range(m):\n",
    "            x = i * c + j * s\n",
    "            y = -i * s + j * c\n",
    "            gedrehte_matrix[int(x)][int(y)] = matrix[i][j]\n",
    "    # Rückgabewert\n",
    "    return gedrehte_matrix\n",
    "\n",
    "print(matrix_drehen(B, 180))"
   ],
   "metadata": {
    "collapsed": false,
    "pycharm": {
     "name": "#%%\n"
    }
   }
  },
  {
   "cell_type": "code",
   "execution_count": 39,
   "outputs": [
    {
     "name": "stdout",
     "output_type": "stream",
     "text": [
      "[[4 9 7]\n",
      " [3 0 6]\n",
      " [0 0 0]]\n"
     ]
    }
   ],
   "source": [
    "print(matrix_drehen(A, 120))"
   ],
   "metadata": {
    "collapsed": false,
    "pycharm": {
     "name": "#%%\n"
    }
   }
  },
  {
   "cell_type": "markdown",
   "source": [
    "# LE2 Vertiefung lineare Abbildungen und Matrizenalgebra\n",
    "## Bild und Kern einer linearen Abbildung\n"
   ],
   "metadata": {
    "collapsed": false,
    "pycharm": {
     "name": "#%% md\n"
    }
   }
  },
  {
   "cell_type": "code",
   "execution_count": 40,
   "outputs": [
    {
     "data": {
      "text/plain": "Matrix([\n[1, 2, -1],\n[0, 1,  1],\n[1, 1, -2]])",
      "text/latex": "$\\displaystyle \\left[\\begin{matrix}1 & 2 & -1\\\\0 & 1 & 1\\\\1 & 1 & -2\\end{matrix}\\right]$"
     },
     "metadata": {},
     "output_type": "display_data"
    },
    {
     "data": {
      "text/plain": "Matrix([\n[1, 2, -1],\n[0, 1,  1],\n[1, 1, -2]])",
      "text/latex": "$\\displaystyle \\left[\\begin{matrix}1 & 2 & -1\\\\0 & 1 & 1\\\\1 & 1 & -2\\end{matrix}\\right]$"
     },
     "execution_count": 40,
     "metadata": {},
     "output_type": "execute_result"
    }
   ],
   "source": [
    "# Die Abbildungsmatrix erstellen (mit sympy)\n",
    "A = sp.Matrix([[1,2,-1],[0,1,1],[1,1,-2]])\n",
    "display(A)\n",
    "A"
   ],
   "metadata": {
    "collapsed": false,
    "pycharm": {
     "name": "#%%\n"
    }
   }
  },
  {
   "cell_type": "code",
   "execution_count": 41,
   "outputs": [
    {
     "data": {
      "text/plain": "(Matrix([\n [1, 0, -3],\n [0, 1,  1],\n [0, 0,  0]]),\n (0, 1))"
     },
     "execution_count": 41,
     "metadata": {},
     "output_type": "execute_result"
    }
   ],
   "source": [
    "# Matrix in Zeilenstufenform bringen. Die Zeilen, die keine Nullzeilen sind, bilden die Basis.\n",
    "A_rref = sp.Matrix(A).rref()\n",
    "A_rref"
   ],
   "metadata": {
    "collapsed": false,
    "pycharm": {
     "name": "#%%\n"
    }
   }
  },
  {
   "cell_type": "code",
   "execution_count": 42,
   "outputs": [
    {
     "data": {
      "text/plain": "Matrix([\n[0, 1],\n[1, 0],\n[0, 1]])",
      "text/latex": "$\\displaystyle \\left[\\begin{matrix}0 & 1\\\\1 & 0\\\\0 & 1\\end{matrix}\\right]$"
     },
     "metadata": {},
     "output_type": "display_data"
    },
    {
     "data": {
      "text/plain": "Matrix([\n[0, 1],\n[1, 0],\n[0, 1]])",
      "text/latex": "$\\displaystyle \\left[\\begin{matrix}0 & 1\\\\1 & 0\\\\0 & 1\\end{matrix}\\right]$"
     },
     "execution_count": 42,
     "metadata": {},
     "output_type": "execute_result"
    }
   ],
   "source": [
    "# Basis mit sympy erstellen\n",
    "B = sp.Matrix([[0,1],[1,0],[0,1]])\n",
    "display(B)\n",
    "B"
   ],
   "metadata": {
    "collapsed": false,
    "pycharm": {
     "name": "#%%\n"
    }
   }
  },
  {
   "cell_type": "code",
   "execution_count": 43,
   "outputs": [
    {
     "data": {
      "text/plain": "Matrix([\n[1, 0, -3],\n[0, 1,  1],\n[0, 0,  0]])",
      "text/latex": "$\\displaystyle \\left[\\begin{matrix}1 & 0 & -3\\\\0 & 1 & 1\\\\0 & 0 & 0\\end{matrix}\\right]$"
     },
     "execution_count": 43,
     "metadata": {},
     "output_type": "execute_result"
    }
   ],
   "source": [
    "# Matrix in Zeilenstufenform bringen und Kolonnen mit Pivotelementen\n",
    "rref, pivot_columns = A.rref()\n",
    "rref"
   ],
   "metadata": {
    "collapsed": false,
    "pycharm": {
     "name": "#%%\n"
    }
   }
  },
  {
   "cell_type": "code",
   "execution_count": 44,
   "outputs": [
    {
     "data": {
      "text/plain": "(0, 1)"
     },
     "execution_count": 44,
     "metadata": {},
     "output_type": "execute_result"
    }
   ],
   "source": [
    "# Kolonnen mit Pivotelementen ausgeben\n",
    "pivot_columns"
   ],
   "metadata": {
    "collapsed": false,
    "pycharm": {
     "name": "#%%\n"
    }
   }
  },
  {
   "cell_type": "code",
   "execution_count": 45,
   "outputs": [],
   "source": [
    "# Symbole für die spätere Verwendung erstellen\n",
    "x, y, z, = sp.symbols(\"x y z\")"
   ],
   "metadata": {
    "collapsed": false,
    "pycharm": {
     "name": "#%%\n"
    }
   }
  },
  {
   "cell_type": "markdown",
   "source": [
    "## Kern einer Matrix\n",
    "Der Kern einer Matrix ist die Menge aller Vektoren x, die mit der Matrix berechnet: M @ x = 0 den Nullvektor ergibt.\n",
    "Wir bestimmen die Menge aller Vektoren x."
   ],
   "metadata": {
    "collapsed": false,
    "pycharm": {
     "name": "#%% md\n"
    }
   }
  },
  {
   "cell_type": "code",
   "execution_count": 46,
   "outputs": [
    {
     "name": "stdout",
     "output_type": "stream",
     "text": [
      "[Matrix([\n",
      "[ 3],\n",
      "[-1],\n",
      "[ 1]])]\n"
     ]
    }
   ],
   "source": [
    "print(A.nullspace())"
   ],
   "metadata": {
    "collapsed": false,
    "pycharm": {
     "name": "#%%\n"
    }
   }
  },
  {
   "cell_type": "code",
   "execution_count": 47,
   "outputs": [
    {
     "name": "stdout",
     "output_type": "stream",
     "text": [
      "[]\n"
     ]
    }
   ],
   "source": [
    "print(B.nullspace())"
   ],
   "metadata": {
    "collapsed": false,
    "pycharm": {
     "name": "#%%\n"
    }
   }
  },
  {
   "cell_type": "markdown",
   "source": [
    "Mit einem Gleichungssystem der Matrix A wird dies folgendermassen berechnet:"
   ],
   "metadata": {
    "collapsed": false,
    "pycharm": {
     "name": "#%% md\n"
    }
   }
  },
  {
   "cell_type": "code",
   "execution_count": 48,
   "outputs": [
    {
     "data": {
      "text/plain": "[(3*z, -z, z)]"
     },
     "execution_count": 48,
     "metadata": {},
     "output_type": "execute_result"
    }
   ],
   "source": [
    "eq1 = 1 * x + 2 * y - 1 * z\n",
    "eq2 = 0 * x + 1 * y + 1 * z\n",
    "eq3 = 1 * x + 1 * y - 2 * z\n",
    "lsg = sp.solve([eq1, eq2, eq3], [x, y, z], manual = True)\n",
    "lsg"
   ],
   "metadata": {
    "collapsed": false,
    "pycharm": {
     "name": "#%%\n"
    }
   }
  },
  {
   "cell_type": "code",
   "execution_count": 49,
   "outputs": [
    {
     "data": {
      "text/plain": "{y: 0, x: 0}"
     },
     "execution_count": 49,
     "metadata": {},
     "output_type": "execute_result"
    }
   ],
   "source": [
    "# mit der Matrix B\n",
    "eq1 = 0 * x + 1 * y\n",
    "eq2 = 1 * x + 0 * y\n",
    "eq3 = 0 * x + 1 * y\n",
    "lsg = sp.solve([eq1, eq2, eq3], [x, y], manual = True)\n",
    "lsg"
   ],
   "metadata": {
    "collapsed": false,
    "pycharm": {
     "name": "#%%\n"
    }
   }
  },
  {
   "cell_type": "markdown",
   "source": [
    "## Bild einer Matrix\n",
    "Das Bild einer Matrix besteht aus unabhängigen Vektoren. Es sind auch die Vektoren, welche bei der reduzierten Zeilenstufenform die Pivotelemente enthalten. Die Vektoren des Bildes können auch mittels Codefolge erstellt werden."
   ],
   "metadata": {
    "collapsed": false,
    "pycharm": {
     "name": "#%% md\n"
    }
   }
  },
  {
   "cell_type": "code",
   "execution_count": 50,
   "outputs": [
    {
     "data": {
      "text/plain": "Matrix([\n[1,  0],\n[0,  1],\n[1, -1]])",
      "text/latex": "$\\displaystyle \\left[\\begin{matrix}1 & 0\\\\0 & 1\\\\1 & -1\\end{matrix}\\right]$"
     },
     "execution_count": 50,
     "metadata": {},
     "output_type": "execute_result"
    }
   ],
   "source": [
    "# Matrix transponieren\n",
    "AT = A.T\n",
    "AT\n",
    "\n",
    "# auf transponierte Matrix Gauss-Jordan anwenden\n",
    "AT_rref = AT.rref()[0]\n",
    "AT_rref\n",
    "\n",
    "# AT_rref wieder zurück transponieren\n",
    "A_im = AT_rref.T\n",
    "A_im\n",
    "\n",
    "# das Bild als Matrix ausgeben\n",
    "A_image = A_im[ : , :2]\n",
    "A_image"
   ],
   "metadata": {
    "collapsed": false,
    "pycharm": {
     "name": "#%%\n"
    }
   }
  },
  {
   "cell_type": "markdown",
   "source": [
    "## Matrix mit sich selbst multiplizieren\n",
    "potenzieren einer Matrix"
   ],
   "metadata": {
    "collapsed": false,
    "pycharm": {
     "name": "#%% md\n"
    }
   }
  },
  {
   "cell_type": "code",
   "execution_count": 51,
   "outputs": [
    {
     "data": {
      "text/plain": "array([[ 89,  75,  22, 102],\n       [ 75, 116,  27, 120],\n       [ 22,  27,  33,  62],\n       [102, 120,  62, 200]])"
     },
     "execution_count": 51,
     "metadata": {},
     "output_type": "execute_result"
    }
   ],
   "source": [
    "# Matrix erstellen\n",
    "A = np.array([[89, 75, 22, 102], [75,116,27,120],[22,27, 33, 62],[102, 120, 62, 200]])\n",
    "A"
   ],
   "metadata": {
    "collapsed": false,
    "pycharm": {
     "name": "#%%\n"
    }
   }
  },
  {
   "cell_type": "code",
   "execution_count": 52,
   "outputs": [
    {
     "data": {
      "text/plain": "array([[-1309691574,  -321205363,  -330188191,  -690532502],\n       [ -321205363, -1632026314,  1726152085, -1078007836],\n       [ -330188191,  1726152085,   -73443078,   372346786],\n       [ -690532502, -1078007836,   372346786,   978017080]])"
     },
     "execution_count": 52,
     "metadata": {},
     "output_type": "execute_result"
    }
   ],
   "source": [
    "# Matrix 20 mal mit sich selbst multiplizieren\n",
    "A20 = np.linalg.matrix_power(A, 20)\n",
    "A20"
   ],
   "metadata": {
    "collapsed": false,
    "pycharm": {
     "name": "#%%\n"
    }
   }
  },
  {
   "cell_type": "code",
   "execution_count": 53,
   "outputs": [
    {
     "data": {
      "text/plain": "array([[361.75382,   0.     ,  -0.     ,   0.     ],\n       [  0.     ,  42.74593,  -0.     ,   0.     ],\n       [ -0.     ,   0.     ,  26.33719,  -0.     ],\n       [  0.     ,   0.     ,  -0.     ,   7.16306]])"
     },
     "execution_count": 53,
     "metadata": {},
     "output_type": "execute_result"
    }
   ],
   "source": [
    "# Version 2 mit der diagonalisierten Matrix\n",
    "# Inverse der Matrix erstellen\n",
    "ew, ev = np.linalg.eig(A)\n",
    "V = ev\n",
    "V\n",
    "# Inverse von V\n",
    "Vinv = np.linalg.inv(V)\n",
    "Vinv\n",
    "\n",
    "# Diagonalmatrix erstellen\n",
    "D = np.round(Vinv.dot(A).dot(V), 5)\n",
    "D"
   ],
   "metadata": {
    "collapsed": false,
    "pycharm": {
     "name": "#%%\n"
    }
   }
  },
  {
   "cell_type": "code",
   "execution_count": 54,
   "outputs": [
    {
     "data": {
      "text/plain": "array([[ 2.66754183e+50,  2.66279855e+50, -4.79342615e+50,\n         1.45433470e+50],\n       [ 2.66279855e+50,  2.65806371e+50, -4.78490274e+50,\n         1.45174868e+50],\n       [-4.79342615e+50, -4.78490274e+50,  8.61352351e+50,\n        -2.61335957e+50],\n       [ 1.45433470e+50,  1.45174868e+50, -2.61335957e+50,\n         7.92898312e+49]])"
     },
     "execution_count": 54,
     "metadata": {},
     "output_type": "execute_result"
    }
   ],
   "source": [
    "A20 = Vinv @ D ** 20 @ V\n",
    "A20"
   ],
   "metadata": {
    "collapsed": false,
    "pycharm": {
     "name": "#%%\n"
    }
   }
  },
  {
   "cell_type": "code",
   "execution_count": 55,
   "outputs": [
    {
     "data": {
      "text/plain": "Matrix([\n[ 2.66754182546707e+50, 2.66279854838322e+50, -4.79342614599283e+50,  1.45433469649987e+50],\n[ 2.66279854838321e+50, 2.65806370553544e+50, -4.78490273759699e+50,  1.45174867802687e+50],\n[-4.79342614599283e+50,  -4.784902737597e+50,  8.61352350607083e+50, -2.61335957047511e+50],\n[ 1.45433469649987e+50, 1.45174867802687e+50, -2.61335957047512e+50,  7.92898311565568e+49]])",
      "text/latex": "$\\displaystyle \\left[\\begin{matrix}2.66754182546707 \\cdot 10^{50} & 2.66279854838322 \\cdot 10^{50} & -4.79342614599283 \\cdot 10^{50} & 1.45433469649987 \\cdot 10^{50}\\\\2.66279854838321 \\cdot 10^{50} & 2.65806370553544 \\cdot 10^{50} & -4.78490273759699 \\cdot 10^{50} & 1.45174867802687 \\cdot 10^{50}\\\\-4.79342614599283 \\cdot 10^{50} & -4.784902737597 \\cdot 10^{50} & 8.61352350607083 \\cdot 10^{50} & -2.61335957047511 \\cdot 10^{50}\\\\1.45433469649987 \\cdot 10^{50} & 1.45174867802687 \\cdot 10^{50} & -2.61335957047512 \\cdot 10^{50} & 7.92898311565568 \\cdot 10^{49}\\end{matrix}\\right]$"
     },
     "execution_count": 55,
     "metadata": {},
     "output_type": "execute_result"
    }
   ],
   "source": [
    "sp.Matrix(A20)"
   ],
   "metadata": {
    "collapsed": false,
    "pycharm": {
     "name": "#%%\n"
    }
   }
  },
  {
   "cell_type": "markdown",
   "source": [
    "## Exponentialfunktion einer Matrix\n",
    "Matrix mit sich selbst multiplizieren\n",
    "Eigenschaften:\n",
    "- Exponentieren wir die Nullmatrix, so erhalten wir die Einheitsmatrix -> e^0 = I\n",
    "- die Transponierte vertauscht ![exp_transp_vertauscht.png](./exp_transp_vertauscht.png)\n",
    "- es gilt det(e^A) = e^spur(A)"
   ],
   "metadata": {
    "collapsed": false,
    "pycharm": {
     "name": "#%% md\n"
    }
   }
  },
  {
   "cell_type": "code",
   "execution_count": 56,
   "outputs": [
    {
     "data": {
      "text/plain": "array([[ 0,  5],\n       [-1,  6]])"
     },
     "execution_count": 56,
     "metadata": {},
     "output_type": "execute_result"
    }
   ],
   "source": [
    "M = np.array([[0,5],[-1,6]])\n",
    "M"
   ],
   "metadata": {
    "collapsed": false,
    "pycharm": {
     "name": "#%%\n"
    }
   }
  },
  {
   "cell_type": "code",
   "execution_count": 57,
   "outputs": [
    {
     "data": {
      "text/plain": "array([1., 5.])"
     },
     "execution_count": 57,
     "metadata": {},
     "output_type": "execute_result"
    }
   ],
   "source": [
    "ewM, evM = np.linalg.eig(M)\n",
    "ewM"
   ],
   "metadata": {
    "collapsed": false,
    "pycharm": {
     "name": "#%%\n"
    }
   }
  },
  {
   "cell_type": "code",
   "execution_count": 58,
   "outputs": [
    {
     "data": {
      "text/plain": "array([[-0.98058068, -0.70710678],\n       [-0.19611614, -0.70710678]])"
     },
     "execution_count": 58,
     "metadata": {},
     "output_type": "execute_result"
    }
   ],
   "source": [
    "evM"
   ],
   "metadata": {
    "collapsed": false,
    "pycharm": {
     "name": "#%%\n"
    }
   }
  },
  {
   "cell_type": "code",
   "execution_count": 59,
   "outputs": [
    {
     "data": {
      "text/plain": "array([[1., 0.],\n       [0., 5.]])"
     },
     "metadata": {},
     "output_type": "display_data"
    },
    {
     "data": {
      "text/plain": "array([[-0.98058068, -0.70710678],\n       [-0.19611614, -0.70710678]])"
     },
     "metadata": {},
     "output_type": "display_data"
    },
    {
     "data": {
      "text/plain": "array([[-1.27475488,  1.27475488],\n       [ 0.35355339, -1.76776695]])"
     },
     "metadata": {},
     "output_type": "display_data"
    }
   ],
   "source": [
    "# Alle Matrizen erstellen\n",
    "D = np.diag(ewM)\n",
    "S = evM\n",
    "S_inv = np.linalg.inv(S)\n",
    "display(D, S, S_inv)"
   ],
   "metadata": {
    "collapsed": false,
    "pycharm": {
     "name": "#%%\n"
    }
   }
  },
  {
   "cell_type": "code",
   "execution_count": 60,
   "outputs": [
    {
     "data": {
      "text/plain": "array([[ 0,  5],\n       [-1,  6]])"
     },
     "metadata": {},
     "output_type": "display_data"
    }
   ],
   "source": [
    "# Überprüfen, ob die Rekonstruktion die Ursprungsmatrix ergibt\n",
    "M_recon = np.round(S @ D @ S_inv)\n",
    "display(M)"
   ],
   "metadata": {
    "collapsed": false,
    "pycharm": {
     "name": "#%%\n"
    }
   }
  },
  {
   "cell_type": "code",
   "execution_count": 61,
   "outputs": [
    {
     "data": {
      "text/plain": "True"
     },
     "execution_count": 61,
     "metadata": {},
     "output_type": "execute_result"
    }
   ],
   "source": [
    "# Überprüfen mit Vergleichsoperator\n",
    "(M == M_recon).all()"
   ],
   "metadata": {
    "collapsed": false,
    "pycharm": {
     "name": "#%%\n"
    }
   }
  },
  {
   "cell_type": "markdown",
   "source": [
    "Um e^A auszurechnen, müssen die Eigenwerte modifiziert werden."
   ],
   "metadata": {
    "collapsed": false,
    "pycharm": {
     "name": "#%% md\n"
    }
   }
  },
  {
   "cell_type": "code",
   "execution_count": 62,
   "outputs": [
    {
     "data": {
      "text/plain": "array([[  2.71828183,   0.        ],\n       [  0.        , 148.4131591 ]])"
     },
     "metadata": {},
     "output_type": "display_data"
    }
   ],
   "source": [
    "e_hoch_ew = np.exp(ewM)\n",
    "eD = np.diag(e_hoch_ew)\n",
    "display(eD)"
   ],
   "metadata": {
    "collapsed": false,
    "pycharm": {
     "name": "#%%\n"
    }
   }
  },
  {
   "cell_type": "code",
   "execution_count": 63,
   "outputs": [
    {
     "data": {
      "text/plain": "array([[-34., 182.],\n       [-36., 185.]])"
     },
     "metadata": {},
     "output_type": "display_data"
    }
   ],
   "source": [
    "# um e^A zu berechnen, werden alle Matrizen benutzt\n",
    "e_hoch_M = np.round(S @ eD @ S_inv)\n",
    "display(e_hoch_M)"
   ],
   "metadata": {
    "collapsed": false,
    "pycharm": {
     "name": "#%%\n"
    }
   }
  },
  {
   "cell_type": "code",
   "execution_count": 64,
   "outputs": [
    {
     "data": {
      "text/plain": "array([[-34., 182.],\n       [-36., 185.]])"
     },
     "metadata": {},
     "output_type": "display_data"
    }
   ],
   "source": [
    "# Version 2 mit Funktion von scipy\n",
    "from scipy.linalg import expm\n",
    "e_M_check = np.round(expm(M))\n",
    "display(e_M_check)"
   ],
   "metadata": {
    "collapsed": false,
    "pycharm": {
     "name": "#%%\n"
    }
   }
  },
  {
   "cell_type": "code",
   "execution_count": 65,
   "outputs": [
    {
     "data": {
      "text/plain": "True"
     },
     "execution_count": 65,
     "metadata": {},
     "output_type": "execute_result"
    }
   ],
   "source": [
    "# Kontrolle, ob die beiden Resultate dieselben sind\n",
    "(e_M_check == e_hoch_M).all()"
   ],
   "metadata": {
    "collapsed": false,
    "pycharm": {
     "name": "#%%\n"
    }
   }
  },
  {
   "cell_type": "markdown",
   "source": [
    "# LE 3 Basistransformationen\n",
    "## Basistransformationen von Vektoren\n",
    "\n",
    "![Basistransformation_vektor.png](./Basistransformation_vektor.png)"
   ],
   "metadata": {
    "collapsed": false,
    "pycharm": {
     "name": "#%% md\n"
    }
   }
  },
  {
   "cell_type": "code",
   "execution_count": 66,
   "outputs": [
    {
     "data": {
      "text/plain": "array([[1.],\n       [2.],\n       [3.]])"
     },
     "execution_count": 66,
     "metadata": {},
     "output_type": "execute_result"
    }
   ],
   "source": [
    "# Vektor in der Standardbasis\n",
    "vector = np.array([[1.],[2.],[3.]])\n",
    "vector"
   ],
   "metadata": {
    "collapsed": false,
    "pycharm": {
     "name": "#%%\n"
    }
   }
  },
  {
   "cell_type": "code",
   "execution_count": 67,
   "outputs": [
    {
     "data": {
      "text/plain": "array([[1, 0, 0],\n       [0, 2, 0],\n       [0, 0, 3]])"
     },
     "execution_count": 67,
     "metadata": {},
     "output_type": "execute_result"
    }
   ],
   "source": [
    "# Standardbasis erstellen\n",
    "Basis = np.array([[1,0,0],[0,2,0],[0,0,3]])\n",
    "Basis"
   ],
   "metadata": {
    "collapsed": false,
    "pycharm": {
     "name": "#%%\n"
    }
   }
  },
  {
   "cell_type": "code",
   "execution_count": 68,
   "outputs": [
    {
     "data": {
      "text/plain": "array([[1.        , 0.        , 0.        ],\n       [0.        , 0.5       , 0.        ],\n       [0.        , 0.        , 0.33333333]])"
     },
     "execution_count": 68,
     "metadata": {},
     "output_type": "execute_result"
    }
   ],
   "source": [
    "# Inverse der Standardbasis erstellen\n",
    "Basis_inv = np.linalg.inv(Basis)\n",
    "Basis_inv"
   ],
   "metadata": {
    "collapsed": false,
    "pycharm": {
     "name": "#%%\n"
    }
   }
  },
  {
   "cell_type": "code",
   "execution_count": 69,
   "outputs": [
    {
     "name": "stdout",
     "output_type": "stream",
     "text": [
      "[[1.]\n",
      " [1.]\n",
      " [1.]]\n"
     ]
    }
   ],
   "source": [
    "# Basistransformation durchführen\n",
    "vector_B = Basis_inv @ vector\n",
    "print(vector_B)"
   ],
   "metadata": {
    "collapsed": false,
    "pycharm": {
     "name": "#%%\n"
    }
   }
  },
  {
   "cell_type": "markdown",
   "source": [
    "### Basistransformationen von Matrizen\n",
    "![Basistransformation_matrix.png](./Basistransformation_matrix.png)"
   ],
   "metadata": {
    "collapsed": false,
    "pycharm": {
     "name": "#%% md\n"
    }
   }
  },
  {
   "cell_type": "code",
   "execution_count": 70,
   "outputs": [
    {
     "data": {
      "text/plain": "array([[ 1,  0],\n       [-1,  2]])"
     },
     "execution_count": 70,
     "metadata": {},
     "output_type": "execute_result"
    }
   ],
   "source": [
    "# Abbildungsmatrix erstellen\n",
    "A = np.array([[1, 0], [-1, 2]])\n",
    "A"
   ],
   "metadata": {
    "collapsed": false,
    "pycharm": {
     "name": "#%%\n"
    }
   }
  },
  {
   "cell_type": "code",
   "execution_count": 71,
   "outputs": [
    {
     "data": {
      "text/plain": "array([[2, 0],\n       [1, 2]])"
     },
     "execution_count": 71,
     "metadata": {},
     "output_type": "execute_result"
    }
   ],
   "source": [
    "# Basis / Transformationsmatrix erstellen\n",
    "Basis = np.array([[2, 0], [1, 2]])\n",
    "Basis"
   ],
   "metadata": {
    "collapsed": false,
    "pycharm": {
     "name": "#%%\n"
    }
   }
  },
  {
   "cell_type": "code",
   "execution_count": 72,
   "outputs": [
    {
     "data": {
      "text/plain": "array([[ 0.5 ,  0.  ],\n       [-0.25,  0.5 ]])"
     },
     "execution_count": 72,
     "metadata": {},
     "output_type": "execute_result"
    }
   ],
   "source": [
    "# Inverse der Basis / Transformationsmatrix erstellen\n",
    "Basis_inv = np.linalg.inv(Basis)\n",
    "Basis_inv\n"
   ],
   "metadata": {
    "collapsed": false,
    "pycharm": {
     "name": "#%%\n"
    }
   }
  },
  {
   "cell_type": "code",
   "execution_count": 73,
   "outputs": [
    {
     "data": {
      "text/plain": "array([[ 1. ,  0. ],\n       [-0.5,  2. ]])"
     },
     "execution_count": 73,
     "metadata": {},
     "output_type": "execute_result"
    }
   ],
   "source": [
    "# Basistransformation einer Abbildungsmatrix durchführen\n",
    "Ab = Basis_inv @ A @ Basis\n",
    "Ab"
   ],
   "metadata": {
    "collapsed": false,
    "pycharm": {
     "name": "#%%\n"
    }
   }
  },
  {
   "cell_type": "markdown",
   "source": [
    "## Eigenbasis\n",
    "Manchmal macht es Sinn, in eine Eigenbasis zu wechseln, um ein Problem einfacher darstellen zu können.\n",
    "Z.B. um Mischterme los zu werden.\n",
    "Um von einer Matrix in die Eigenbasis zu kommen, werden folgende Schritte durchlaufen:"
   ],
   "metadata": {
    "collapsed": false,
    "pycharm": {
     "name": "#%% md\n"
    }
   }
  },
  {
   "cell_type": "code",
   "execution_count": 74,
   "outputs": [
    {
     "data": {
      "text/plain": "array([[3, 2, 4],\n       [2, 0, 2],\n       [4, 2, 3]])"
     },
     "execution_count": 74,
     "metadata": {},
     "output_type": "execute_result"
    }
   ],
   "source": [
    "# Matrix erstellen\n",
    "A = np.array([\n",
    "    [3,2,4],\n",
    "    [2,0,2],\n",
    "    [4,2,3]\n",
    "    ])\n",
    "A"
   ],
   "metadata": {
    "collapsed": false,
    "pycharm": {
     "name": "#%%\n"
    }
   }
  },
  {
   "cell_type": "code",
   "execution_count": 75,
   "outputs": [
    {
     "data": {
      "text/plain": "array([-1.,  8., -1.])"
     },
     "metadata": {},
     "output_type": "display_data"
    },
    {
     "data": {
      "text/plain": "array([[-0.74535599,  0.66666667, -0.20756326],\n       [ 0.2981424 ,  0.33333333, -0.77602137],\n       [ 0.59628479,  0.66666667,  0.59557394]])"
     },
     "metadata": {},
     "output_type": "display_data"
    }
   ],
   "source": [
    "# Eigenwerte und Eigenvektoren bestimmen\n",
    "ew, ev = np.linalg.eig(A)\n",
    "display(ew,ev)"
   ],
   "metadata": {
    "collapsed": false,
    "pycharm": {
     "name": "#%%\n"
    }
   }
  },
  {
   "cell_type": "code",
   "execution_count": 76,
   "outputs": [
    {
     "data": {
      "text/plain": "array([[-0.74535599,  0.66666667, -0.20756326],\n       [ 0.2981424 ,  0.33333333, -0.77602137],\n       [ 0.59628479,  0.66666667,  0.59557394]])"
     },
     "execution_count": 76,
     "metadata": {},
     "output_type": "execute_result"
    }
   ],
   "source": [
    "# Basis erstellen aus den Eigenvektoren (mit normalisierten Eigenvektoren)\n",
    "B = ev\n",
    "B\n",
    "T = B\n",
    "T"
   ],
   "metadata": {
    "collapsed": false,
    "pycharm": {
     "name": "#%%\n"
    }
   }
  },
  {
   "cell_type": "code",
   "execution_count": 77,
   "outputs": [
    {
     "data": {
      "text/plain": "array([[-0.74535599,  0.55747669,  0.46661765],\n       [ 0.66666667,  0.33333333,  0.66666667],\n       [-0.        , -0.93126488,  0.46563244]])"
     },
     "execution_count": 77,
     "metadata": {},
     "output_type": "execute_result"
    }
   ],
   "source": [
    "# Inverse der Basis erstellen\n",
    "T_inv = np.linalg.inv(T)\n",
    "T_inv"
   ],
   "metadata": {
    "collapsed": false,
    "pycharm": {
     "name": "#%%\n"
    }
   }
  },
  {
   "cell_type": "code",
   "execution_count": 78,
   "outputs": [
    {
     "name": "stdout",
     "output_type": "stream",
     "text": [
      "[[-1.  0. -0.]\n",
      " [-0.  8. -0.]\n",
      " [ 0.  0. -1.]]\n"
     ]
    }
   ],
   "source": [
    "Ab = T_inv @ A @ T\n",
    "print(np.round(Ab))"
   ],
   "metadata": {
    "collapsed": false,
    "pycharm": {
     "name": "#%%\n"
    }
   }
  },
  {
   "cell_type": "markdown",
   "source": [
    "Quadratische Form und Basistransformation einer Matrix mit der Eigenbasis\n"
   ],
   "metadata": {
    "collapsed": false,
    "pycharm": {
     "name": "#%% md\n"
    }
   }
  },
  {
   "cell_type": "code",
   "execution_count": 79,
   "outputs": [
    {
     "data": {
      "text/plain": "array([[x],\n       [y],\n       [z]], dtype=object)"
     },
     "execution_count": 79,
     "metadata": {},
     "output_type": "execute_result"
    }
   ],
   "source": [
    "# Vektoren und Matrix definieren für die quadratische Form\n",
    "vector = np.array([\n",
    "    [x],\n",
    "    [y],\n",
    "    [z]\n",
    "])\n",
    "vector"
   ],
   "metadata": {
    "collapsed": false,
    "pycharm": {
     "name": "#%%\n"
    }
   }
  },
  {
   "cell_type": "code",
   "execution_count": 80,
   "outputs": [
    {
     "data": {
      "text/plain": "array([[x, y, z]], dtype=object)"
     },
     "execution_count": 80,
     "metadata": {},
     "output_type": "execute_result"
    }
   ],
   "source": [
    "# Vektor transponieren\n",
    "vector_T = vector.T\n",
    "vector_T"
   ],
   "metadata": {
    "collapsed": false,
    "pycharm": {
     "name": "#%%\n"
    }
   }
  },
  {
   "cell_type": "code",
   "execution_count": 81,
   "outputs": [
    {
     "data": {
      "text/plain": "array([[3, 2, 4],\n       [2, 0, 2],\n       [4, 2, 3]])"
     },
     "execution_count": 81,
     "metadata": {},
     "output_type": "execute_result"
    }
   ],
   "source": [
    "# Matrix erstellen\n",
    "A = np.array([\n",
    "    [3,2,4],\n",
    "    [2,0,2],\n",
    "    [4,2,3]\n",
    "    ])\n",
    "A"
   ],
   "metadata": {
    "collapsed": false,
    "pycharm": {
     "name": "#%%\n"
    }
   }
  },
  {
   "cell_type": "code",
   "execution_count": 82,
   "outputs": [
    {
     "data": {
      "text/plain": "[[3*x**2 + 4*x*y + 8*x*z + 4*y*z + 3*z**2]]",
      "text/latex": "$\\displaystyle \\left[\\left[\\begin{matrix}3 x^{2} + 4 x y + 8 x z + 4 y z + 3 z^{2}\\end{matrix}\\right]\\right]$"
     },
     "execution_count": 82,
     "metadata": {},
     "output_type": "execute_result"
    }
   ],
   "source": [
    "# die allgemeine quadratische Form berechnen\n",
    "sp.simplify(vector_T @ A @ vector)"
   ],
   "metadata": {
    "collapsed": false,
    "pycharm": {
     "name": "#%%\n"
    }
   }
  },
  {
   "cell_type": "code",
   "execution_count": 83,
   "outputs": [
    {
     "data": {
      "text/plain": "array([-1.,  8., -1.])"
     },
     "metadata": {},
     "output_type": "display_data"
    },
    {
     "data": {
      "text/plain": "array([[-0.74535599,  0.66666667, -0.20756326],\n       [ 0.2981424 ,  0.33333333, -0.77602137],\n       [ 0.59628479,  0.66666667,  0.59557394]])"
     },
     "metadata": {},
     "output_type": "display_data"
    },
    {
     "data": {
      "text/plain": "array([[-0.74535599,  0.55747669,  0.46661765],\n       [ 0.66666667,  0.33333333,  0.66666667],\n       [-0.        , -0.93126488,  0.46563244]])"
     },
     "metadata": {},
     "output_type": "display_data"
    }
   ],
   "source": [
    "# das Resultat vereinfachen, indem die Eigenbasis mit der Matrix multipliziert wird\n",
    "ew, ev = np.linalg.eig(A)\n",
    "Basis = ev\n",
    "display(ew)\n",
    "display(Basis)\n",
    "Basis_inv = np.linalg.inv(Basis)\n",
    "display(Basis_inv)\n"
   ],
   "metadata": {
    "collapsed": false,
    "pycharm": {
     "name": "#%%\n"
    }
   }
  },
  {
   "cell_type": "code",
   "execution_count": 84,
   "outputs": [
    {
     "data": {
      "text/plain": "array([[-1.,  0., -0.],\n       [-0.,  8., -0.],\n       [ 0.,  0., -1.]])"
     },
     "execution_count": 84,
     "metadata": {},
     "output_type": "execute_result"
    }
   ],
   "source": [
    "# Basistransformation durchführen\n",
    "Ab = np.round(Basis_inv @ A @ Basis)\n",
    "Ab"
   ],
   "metadata": {
    "collapsed": false,
    "pycharm": {
     "name": "#%%\n"
    }
   }
  },
  {
   "cell_type": "code",
   "execution_count": 85,
   "outputs": [
    {
     "data": {
      "text/plain": "[[-1.0*x**2 + 8.0*y**2 - 1.0*z**2]]",
      "text/latex": "$\\displaystyle \\left[\\left[\\begin{matrix}- 1.0 x^{2} + 8.0 y^{2} - 1.0 z^{2}\\end{matrix}\\right]\\right]$"
     },
     "execution_count": 85,
     "metadata": {},
     "output_type": "execute_result"
    }
   ],
   "source": [
    "sp.simplify(vector_T @ Ab @ vector)"
   ],
   "metadata": {
    "collapsed": false,
    "pycharm": {
     "name": "#%%\n"
    }
   }
  },
  {
   "cell_type": "markdown",
   "source": [
    "## Hauptkomponentenanalyse (PCA) -> Aufgabe"
   ],
   "metadata": {
    "collapsed": false,
    "pycharm": {
     "name": "#%% md\n"
    }
   }
  },
  {
   "cell_type": "code",
   "execution_count": 86,
   "outputs": [
    {
     "name": "stdout",
     "output_type": "stream",
     "text": [
      "(2, 20)\n"
     ]
    },
    {
     "data": {
      "text/plain": "array([[-0.57091174, -1.01007461, -1.44923749,  1.18573976, -1.88840036,\n         1.18573976,  0.52699545,  1.18573976,  1.62490264, -2.1079818 ,\n        -0.3513303 ,  0.08783258,  0.74657689,  0.30741401,  0.30741401,\n         0.30741401, -0.3513303 , -0.3513303 ,  0.30741401,  0.30741401],\n       [-0.51124062, -0.92436435, -1.54404995,  1.45109711, -1.64733088,\n         1.24453524,  0.41828778,  0.93469244,  1.65765897, -2.16373555,\n         0.31500685, -0.20139782,  0.10844498,  0.10844498,  0.41828778,\n         0.62484964, -0.51124062, -0.30467875, -0.20139782,  0.72813058]])"
     },
     "execution_count": 86,
     "metadata": {},
     "output_type": "execute_result"
    }
   ],
   "source": [
    "# Messpunkte erstellen\n",
    "x = [-2, -4, -6, 6, -8, 6, 3, 6, 8, -9, -1, 1, 4, 2, 2, 2, -1, -1, 2, 2]\n",
    "y = [-3, -7, -13, 16, -14, 14, 6, 11, 18, -19, 5, 0, 3, 3, 6, 8, -3, -1, 0, 9]\n",
    "\n",
    "# Standardisierte Messpunkte erstellen\n",
    "x = (np.array(x) - np.mean(x)) / np.std(x)\n",
    "y = (np.array(y) - np.mean(y)) / np.std(y)\n",
    "\n",
    "# Matrix erstellen\n",
    "X = np.array([x,y])\n",
    "print(X.shape)\n",
    "X"
   ],
   "metadata": {
    "collapsed": false,
    "pycharm": {
     "name": "#%%\n"
    }
   }
  },
  {
   "cell_type": "code",
   "execution_count": 87,
   "outputs": [
    {
     "data": {
      "text/plain": "<matplotlib.collections.PathCollection at 0x1c0a62908e0>"
     },
     "execution_count": 87,
     "metadata": {},
     "output_type": "execute_result"
    },
    {
     "data": {
      "text/plain": "<Figure size 640x480 with 1 Axes>",
      "image/png": "[encoded data removed]"
     },
     "metadata": {},
     "output_type": "display_data"
    }
   ],
   "source": [
    "# visuelle Darstellung der Messpunkte\n",
    "plt.scatter(X[0,:], X[1,:])"
   ],
   "metadata": {
    "collapsed": false,
    "pycharm": {
     "name": "#%%\n"
    }
   }
  },
  {
   "cell_type": "code",
   "execution_count": 88,
   "outputs": [
    {
     "data": {
      "text/plain": "array([[20.        , 19.10896792],\n       [19.10896792, 20.        ]])"
     },
     "execution_count": 88,
     "metadata": {},
     "output_type": "execute_result"
    }
   ],
   "source": [
    "# quadratische Form berechnen\n",
    "XXT = X @ X.T\n",
    "XXT"
   ],
   "metadata": {
    "collapsed": false,
    "pycharm": {
     "name": "#%%\n"
    }
   }
  },
  {
   "cell_type": "code",
   "execution_count": 89,
   "outputs": [
    {
     "data": {
      "text/plain": "array([ 0.89103208, 39.10896792])"
     },
     "metadata": {},
     "output_type": "display_data"
    },
    {
     "data": {
      "text/plain": "array([[-0.70710678, -0.70710678],\n       [ 0.70710678, -0.70710678]])"
     },
     "metadata": {},
     "output_type": "display_data"
    }
   ],
   "source": [
    "# Eigenwerte und Eigenvektoren berechnen\n",
    "ew, ev = np.linalg.eig(XXT)\n",
    "display(ew, ev)"
   ],
   "metadata": {
    "collapsed": false,
    "pycharm": {
     "name": "#%%\n"
    }
   }
  },
  {
   "cell_type": "code",
   "execution_count": 90,
   "outputs": [
    {
     "data": {
      "text/plain": "[39.10896791545882, 0.8910320845411768]"
     },
     "metadata": {},
     "output_type": "display_data"
    },
    {
     "data": {
      "text/plain": "array([[-0.70710678, -0.70710678],\n       [ 0.70710678, -0.70710678]])"
     },
     "metadata": {},
     "output_type": "display_data"
    }
   ],
   "source": [
    "# Eigenwerte absteigend sortieren\n",
    "ew = np.sort(ew)[::-1]\n",
    "\n",
    "# Variante 2\n",
    "ew = sorted(ew, reverse=True)\n",
    "display(ew)\n",
    "\n",
    "# Eigenvektoren der Grösse nach sortieren\n",
    "ev = ev[:, np.argsort(ew)[::-1]]\n",
    "display(ev)\n",
    "\n",
    "# einzelne Eigenvektoren extrahieren\n",
    "ev1 = ev[:,0]\n",
    "ev2 = ev[:,1]\n"
   ],
   "metadata": {
    "collapsed": false,
    "pycharm": {
     "name": "#%%\n"
    }
   }
  },
  {
   "cell_type": "code",
   "execution_count": 91,
   "outputs": [
    {
     "data": {
      "text/plain": "<Figure size 640x480 with 1 Axes>",
      "image/png": "[encoded data removed]"
     },
     "metadata": {},
     "output_type": "display_data"
    }
   ],
   "source": [
    "# visuell darstellen\n",
    "plt.scatter(X[0,:], X[1,:])\n",
    "plt.plot([0, ev1[0]], [0, ev1[1]], color='red')\n",
    "plt.plot([0, ev2[0]], [0, ev2[1]], color='magenta')\n",
    "plt.grid()\n",
    "plt.legend(['ev1', 'ev2'])\n",
    "plt.show()"
   ],
   "metadata": {
    "collapsed": false,
    "pycharm": {
     "name": "#%%\n"
    }
   }
  },
  {
   "cell_type": "code",
   "execution_count": 92,
   "outputs": [
    {
     "data": {
      "text/plain": "array([[ 0.04219385,  0.06060631, -0.06704253,  0.18763598,  0.17046187,\n         0.04157468, -0.07686793, -0.17751726,  0.02316223, -0.03942385,\n         0.47117151, -0.20451677, -0.4512274 , -0.14069235,  0.07839959,\n         0.22446089, -0.11307367,  0.03298763, -0.3597843 ,  0.29749154],\n       [ 0.76519727,  1.36785491,  2.11657384, -1.86452523,  2.50013954,\n        -1.71846394, -0.66841618, -1.49937199, -2.32112158,  3.0205603 ,\n         0.02568456,  0.08030275, -0.60459176, -0.29405671, -0.51314866,\n        -0.65920995,  0.60992975,  0.46386845, -0.07496477, -0.7322406 ]])"
     },
     "execution_count": 92,
     "metadata": {},
     "output_type": "execute_result"
    }
   ],
   "source": [
    "# Messwerte transformieren mit der Eigenbasis von XXT\n",
    "eigenbasis = ev\n",
    "eigenbasis_inv = np.linalg.inv(eigenbasis)\n",
    "\n",
    "Xb = eigenbasis_inv @ X\n",
    "\n",
    "y_b = Xb[0,:] # erste Zeile\n",
    "x_b = Xb[1,:] # zweite Zeile\n",
    "\n",
    "Xb"
   ],
   "metadata": {
    "collapsed": false,
    "pycharm": {
     "name": "#%%\n"
    }
   }
  },
  {
   "cell_type": "code",
   "execution_count": 93,
   "outputs": [],
   "source": [
    "# Eigenvektoren von Xb berechnen\n",
    "ewXb, evXb = np.linalg.eig(Xb @ Xb.T)\n",
    "v1 = evXb[:,0]\n",
    "v2 = evXb[:,1]"
   ],
   "metadata": {
    "collapsed": false,
    "pycharm": {
     "name": "#%%\n"
    }
   }
  },
  {
   "cell_type": "code",
   "execution_count": 94,
   "outputs": [
    {
     "data": {
      "text/plain": "<Figure size 640x480 with 1 Axes>",
      "image/png": "[encoded data removed]"
     },
     "metadata": {},
     "output_type": "display_data"
    }
   ],
   "source": [
    "# visuell darstellen\n",
    "plt.scatter(X[0,:], X[1,:], color='green', label = \"vor der Transformation\")\n",
    "plt.scatter(x_b, y_b, color='red', label = \"nach der Transformation\")\n",
    "plt.legend()\n",
    "plt.grid()\n",
    "plt.show()"
   ],
   "metadata": {
    "collapsed": false,
    "pycharm": {
     "name": "#%%\n"
    }
   }
  },
  {
   "cell_type": "code",
   "execution_count": 95,
   "outputs": [
    {
     "data": {
      "text/plain": "<Figure size 640x480 with 1 Axes>",
      "image/png": "[encoded data removed]"
     },
     "metadata": {},
     "output_type": "display_data"
    }
   ],
   "source": [
    "# Visualisierung der Eigenvektoren von Xb @ Xb.T\n",
    "plt.scatter(X[0, :], X[1, :], color = \"blue\", label = \"vor der Transformation\")\n",
    "plt.scatter(x_b, y_b, color = \"red\", label = \"nach der Transformation\")\n",
    "plt.plot([0, v1[0]], [0, v1[1]], color = \"green\")\n",
    "plt.plot([0, v2[0]], [0, v2[1]], color = \"magenta\")\n",
    "plt.legend()\n",
    "plt.grid()\n",
    "plt.show()"
   ],
   "metadata": {
    "collapsed": false,
    "pycharm": {
     "name": "#%%\n"
    }
   }
  },
  {
   "cell_type": "code",
   "execution_count": 96,
   "outputs": [
    {
     "data": {
      "text/plain": "array([-0.57091174, -1.01007461, -1.44923749,  1.18573976, -1.88840036,\n        1.18573976,  0.52699545,  1.18573976,  1.62490264, -2.1079818 ,\n       -0.3513303 ,  0.08783258,  0.74657689,  0.30741401,  0.30741401,\n        0.30741401, -0.3513303 , -0.3513303 ,  0.30741401,  0.30741401])"
     },
     "execution_count": 96,
     "metadata": {},
     "output_type": "execute_result"
    }
   ],
   "source": [
    "# Rücktransformation der komprimierten Daten\n",
    "x = X[0,:]\n",
    "x"
   ],
   "metadata": {
    "collapsed": false,
    "pycharm": {
     "name": "#%%\n"
    }
   }
  },
  {
   "cell_type": "code",
   "execution_count": 97,
   "outputs": [
    {
     "data": {
      "text/plain": "array([[-0.57091174, -1.01007461, -1.44923749,  1.18573976, -1.88840036,\n         1.18573976,  0.52699545,  1.18573976,  1.62490264, -2.1079818 ,\n        -0.3513303 ,  0.08783258,  0.74657689,  0.30741401,  0.30741401,\n         0.30741401, -0.3513303 , -0.3513303 ,  0.30741401,  0.30741401],\n       [ 0.        ,  0.        ,  0.        ,  0.        ,  0.        ,\n         0.        ,  0.        ,  0.        ,  0.        ,  0.        ,\n         0.        ,  0.        ,  0.        ,  0.        ,  0.        ,\n         0.        ,  0.        ,  0.        ,  0.        ,  0.        ]])"
     },
     "execution_count": 97,
     "metadata": {},
     "output_type": "execute_result"
    }
   ],
   "source": [
    "# y eliminieren und mit 0 auffüllen\n",
    "Z_x = np.vstack([x, np.zeros_like(x)])\n",
    "Z_x"
   ],
   "metadata": {
    "collapsed": false,
    "pycharm": {
     "name": "#%%\n"
    }
   }
  },
  {
   "cell_type": "code",
   "execution_count": 98,
   "outputs": [
    {
     "data": {
      "text/plain": "array([[ 0.40369556,  0.71423061,  1.02476566, -0.83844463,  1.3353007 ,\n        -0.83844463, -0.37264206, -0.83844463, -1.14897967,  1.49056823,\n         0.24842804, -0.06210701, -0.52790958, -0.21737453, -0.21737453,\n        -0.21737453,  0.24842804,  0.24842804, -0.21737453, -0.21737453],\n       [ 0.40369556,  0.71423061,  1.02476566, -0.83844463,  1.3353007 ,\n        -0.83844463, -0.37264206, -0.83844463, -1.14897967,  1.49056823,\n         0.24842804, -0.06210701, -0.52790958, -0.21737453, -0.21737453,\n        -0.21737453,  0.24842804,  0.24842804, -0.21737453, -0.21737453]])"
     },
     "metadata": {},
     "output_type": "display_data"
    }
   ],
   "source": [
    "# Transformation mit der Eigenbasis von XXT\n",
    "Z = eigenbasis_inv @ Z_x\n",
    "display(Z)"
   ],
   "metadata": {
    "collapsed": false,
    "pycharm": {
     "name": "#%%\n"
    }
   }
  },
  {
   "cell_type": "code",
   "execution_count": 99,
   "outputs": [
    {
     "data": {
      "text/plain": "<Figure size 640x480 with 1 Axes>",
      "image/png": "[encoded data removed]"
     },
     "metadata": {},
     "output_type": "display_data"
    }
   ],
   "source": [
    "# Visuelle Darstellung\n",
    "plt.scatter(Z[0,:], Z[1,:])\n",
    "plt.show()"
   ],
   "metadata": {
    "collapsed": false,
    "pycharm": {
     "name": "#%%\n"
    }
   }
  },
  {
   "cell_type": "markdown",
   "source": [
    "# LE 4 Normen und Ähnlichkeitsmasse\n",
    "\n"
   ],
   "metadata": {
    "collapsed": false,
    "pycharm": {
     "name": "#%% md\n"
    }
   }
  },
  {
   "cell_type": "code",
   "execution_count": 100,
   "outputs": [
    {
     "data": {
      "text/plain": "array([[ 0],\n       [ 2],\n       [-1]])"
     },
     "execution_count": 100,
     "metadata": {},
     "output_type": "execute_result"
    }
   ],
   "source": [
    "# Vektor definieren\n",
    "v = np.array([0,2,-1]).reshape(3,1)\n",
    "v"
   ],
   "metadata": {
    "collapsed": false,
    "pycharm": {
     "name": "#%%\n"
    }
   }
  },
  {
   "cell_type": "code",
   "execution_count": 160,
   "outputs": [
    {
     "data": {
      "text/plain": "array([[ 0,  0, -2],\n       [ 1,  2,  1],\n       [ 1,  0,  3]])"
     },
     "execution_count": 160,
     "metadata": {},
     "output_type": "execute_result"
    }
   ],
   "source": [
    "# Matrix erstellen\n",
    "M = np.array([\n",
    "    [0,0,-2],\n",
    "    [1,2,1],\n",
    "    [1,0,3]\n",
    "])\n",
    "M"
   ],
   "metadata": {
    "collapsed": false,
    "pycharm": {
     "name": "#%%\n"
    }
   }
  },
  {
   "cell_type": "code",
   "execution_count": 161,
   "outputs": [
    {
     "data": {
      "text/plain": "3"
     },
     "execution_count": 161,
     "metadata": {},
     "output_type": "execute_result"
    }
   ],
   "source": [
    "# maximales Matrixelement\n",
    "np.max(M)"
   ],
   "metadata": {
    "collapsed": false,
    "pycharm": {
     "name": "#%%\n"
    }
   }
  },
  {
   "cell_type": "code",
   "execution_count": 162,
   "outputs": [
    {
     "data": {
      "text/plain": "3"
     },
     "execution_count": 162,
     "metadata": {},
     "output_type": "execute_result"
    }
   ],
   "source": [
    "np.max(np.abs(M))"
   ],
   "metadata": {
    "collapsed": false,
    "pycharm": {
     "name": "#%%\n"
    }
   }
  },
  {
   "cell_type": "code",
   "execution_count": 163,
   "outputs": [
    {
     "data": {
      "text/plain": "array([[ 2,  2,  4],\n       [ 2,  4,  2],\n       [ 4,  2, 14]])"
     },
     "metadata": {},
     "output_type": "display_data"
    }
   ],
   "source": [
    "# prüfen der Symmetrie\n",
    "MTM = M.T @ M\n",
    "display(MTM)"
   ],
   "metadata": {
    "collapsed": false,
    "pycharm": {
     "name": "#%%\n"
    }
   }
  },
  {
   "cell_type": "code",
   "execution_count": 164,
   "outputs": [
    {
     "data": {
      "text/plain": "14"
     },
     "execution_count": 164,
     "metadata": {},
     "output_type": "execute_result"
    }
   ],
   "source": [
    "np.max(MTM)"
   ],
   "metadata": {
    "collapsed": false,
    "pycharm": {
     "name": "#%%\n"
    }
   }
  },
  {
   "cell_type": "markdown",
   "source": [
    "## Normen berechnen\n",
    "Jede dieser Normen bietet eine unterschiedliche Sicht auf die \"Größe\" oder \"Länge\" des gegebenen Vektors oder der gegebenen Matrix, und welche man verwenden sollte, hängt vom spezifischen Kontext und den spezifischen Anforderungen des Problems ab, das man zu lösen versucht.\n",
    "\n",
    "## Vektornormen\n",
    "### L1-Norm oder Manhattan-Norm"
   ],
   "metadata": {
    "collapsed": false,
    "pycharm": {
     "name": "#%% md\n"
    }
   }
  },
  {
   "cell_type": "code",
   "execution_count": 103,
   "outputs": [
    {
     "data": {
      "text/plain": "3.0"
     },
     "metadata": {},
     "output_type": "display_data"
    }
   ],
   "source": [
    "# Berechnet die L1-Norm (auch bekannt als Manhattan-Norm) eines Vektors v, die gleich der Summe der absoluten Werte seiner Elemente ist.\n",
    "display(np.linalg.norm(v, ord=1))"
   ],
   "metadata": {
    "collapsed": false,
    "pycharm": {
     "name": "#%%\n"
    }
   }
  },
  {
   "cell_type": "markdown",
   "source": [
    "## L2-Norm oder Euklidische Norm"
   ],
   "metadata": {
    "collapsed": false,
    "pycharm": {
     "name": "#%% md\n"
    }
   }
  },
  {
   "cell_type": "code",
   "execution_count": 104,
   "outputs": [
    {
     "data": {
      "text/plain": "2.23606797749979"
     },
     "metadata": {},
     "output_type": "display_data"
    }
   ],
   "source": [
    "# Berechnet die L2-Norm (auch bekannt als Euklidische Norm) eines Vektors v, die gleich der Quadratwurzel der Summe der Quadrate seiner Elemente ist.\n",
    "display(np.linalg.norm(v, ord=2))"
   ],
   "metadata": {
    "collapsed": false,
    "pycharm": {
     "name": "#%%\n"
    }
   }
  },
  {
   "cell_type": "markdown",
   "source": [
    "## L∞-Norm oder Maximumsnorm"
   ],
   "metadata": {
    "collapsed": false,
    "pycharm": {
     "name": "#%% md\n"
    }
   }
  },
  {
   "cell_type": "code",
   "execution_count": 105,
   "outputs": [
    {
     "data": {
      "text/plain": "2.0"
     },
     "metadata": {},
     "output_type": "display_data"
    }
   ],
   "source": [
    "# Berechnet die L∞-Norm (auch bekannt als Maximumsnorm) eines Vektors v, die gleich dem Maximum seiner absoluten Werte ist.\n",
    "display(np.linalg.norm(v, ord=np.inf))"
   ],
   "metadata": {
    "collapsed": false,
    "pycharm": {
     "name": "#%%\n"
    }
   }
  },
  {
   "cell_type": "markdown",
   "source": [
    "# Operatornormen\n",
    "Matrizennormen können auf zwei Arten definiert werden: Einerseits können wir eine m x n-Matrix in einen\n",
    "Vektor in R^mxn umwandeln und dann ganz normal die  **Vektornormen**\n",
    "darauf anwenden. Andererseits können wir auch wie in der Einführung motiviert eine Matrizennorm über\n",
    "die Wirkung der Matrix auf Vektoren definieren, deswegen spricht man hier auch von **Operatornormen**\n"
   ],
   "metadata": {
    "collapsed": false,
    "pycharm": {
     "name": "#%% md\n"
    }
   }
  },
  {
   "cell_type": "markdown",
   "source": [
    "## L1-Norm oder Spaltensummennorm"
   ],
   "metadata": {
    "collapsed": false,
    "pycharm": {
     "name": "#%% md\n"
    }
   }
  },
  {
   "cell_type": "code",
   "execution_count": 106,
   "outputs": [
    {
     "data": {
      "text/plain": "6.0"
     },
     "metadata": {},
     "output_type": "display_data"
    }
   ],
   "source": [
    "# Berechnet die L1-Norm einer Matrix M, auch bekannt als die maximale Spaltensummennorm, d.h., sie berechnet die maximalen absoluten Spaltensummen.\n",
    "display(np.linalg.norm(M, ord=1))"
   ],
   "metadata": {
    "collapsed": false,
    "pycharm": {
     "name": "#%%\n"
    }
   }
  },
  {
   "cell_type": "markdown",
   "source": [
    "## L2-Norm oder Spektralnorm"
   ],
   "metadata": {
    "collapsed": false,
    "pycharm": {
     "name": "#%% md\n"
    }
   }
  },
  {
   "cell_type": "code",
   "execution_count": 107,
   "outputs": [
    {
     "data": {
      "text/plain": "3.968118785068667"
     },
     "metadata": {},
     "output_type": "display_data"
    }
   ],
   "source": [
    "# Berechnet die L2-Norm oder Spektralnorm einer Matrix M, auch bekannt als die größte Singulärzahl der Matrix.\n",
    "display(np.linalg.norm(M, ord=2))"
   ],
   "metadata": {
    "collapsed": false,
    "pycharm": {
     "name": "#%%\n"
    }
   }
  },
  {
   "cell_type": "markdown",
   "source": [
    "## L∞-Norm oder Zeilensummennorm / Gesamtnorm"
   ],
   "metadata": {
    "collapsed": false,
    "pycharm": {
     "name": "#%% md\n"
    }
   }
  },
  {
   "cell_type": "code",
   "execution_count": 108,
   "outputs": [
    {
     "data": {
      "text/plain": "4.0"
     },
     "metadata": {},
     "output_type": "display_data"
    }
   ],
   "source": [
    "# Berechnet die L∞-Norm einer Matrix M, auch bekannt als die maximale Zeilensummennorm, d.h., sie berechnet die maximalen absoluten Zeilensummen.\n",
    "display(np.linalg.norm(M, ord=np.inf))"
   ],
   "metadata": {
    "collapsed": false,
    "pycharm": {
     "name": "#%%\n"
    }
   }
  },
  {
   "cell_type": "code",
   "execution_count": 109,
   "outputs": [
    {
     "data": {
      "text/plain": "4.47213595499958"
     },
     "metadata": {},
     "output_type": "display_data"
    }
   ],
   "source": [
    "# Berechnet die Frobenius-Norm einer Matrix M, die gleich der Quadratwurzel der Summe der Quadrate ihrer Elemente ist.\n",
    "display(np.linalg.norm(M, ord='fro'))"
   ],
   "metadata": {
    "collapsed": false,
    "pycharm": {
     "name": "#%%\n"
    }
   }
  },
  {
   "cell_type": "code",
   "execution_count": 110,
   "outputs": [
    {
     "data": {
      "text/plain": "2.0123466170855586"
     },
     "execution_count": 110,
     "metadata": {},
     "output_type": "execute_result"
    }
   ],
   "source": [
    "# Funktion für alle Elemente als Betrag hoch einer Potenz, Aufsummieren und Wurzel ziehen\n",
    "def norm(M, p):\n",
    "    return np.sum(np.abs(M)**p)**(1/p)\n",
    "\n",
    "norm(v, 5)"
   ],
   "metadata": {
    "collapsed": false,
    "pycharm": {
     "name": "#%%\n"
    }
   }
  },
  {
   "cell_type": "code",
   "execution_count": 111,
   "outputs": [
    {
     "data": {
      "text/plain": "6"
     },
     "execution_count": 111,
     "metadata": {},
     "output_type": "execute_result"
    }
   ],
   "source": [
    "# Funktion für die Summe aller Elemente als Betrag einer Matrix\n",
    "def summennorm(M):\n",
    "    return np.max(np.sum(np.abs(M), axis=0))\n",
    "summennorm(M)"
   ],
   "metadata": {
    "collapsed": false,
    "pycharm": {
     "name": "#%%\n"
    }
   }
  },
  {
   "cell_type": "code",
   "execution_count": 112,
   "outputs": [
    {
     "data": {
      "text/plain": "4.47213595499958"
     },
     "execution_count": 112,
     "metadata": {},
     "output_type": "execute_result"
    }
   ],
   "source": [
    "# Berechnen der Quadratwurzel aus der Spur der Matrix\n",
    "sum(np.diag(M.T @ M))**0.5"
   ],
   "metadata": {
    "collapsed": false,
    "pycharm": {
     "name": "#%%\n"
    }
   }
  },
  {
   "cell_type": "code",
   "execution_count": 113,
   "outputs": [
    {
     "data": {
      "text/plain": "9.0"
     },
     "execution_count": 113,
     "metadata": {},
     "output_type": "execute_result"
    }
   ],
   "source": [
    "# Funktion für die Gesamtnorm einer Matrix\n",
    "def get_gesamtnorm(M: np.array) -> float:\n",
    "    return (M.shape[0] * M.shape[1]) ** 0.5 * np.max(np.abs(M))\n",
    "get_gesamtnorm(M)"
   ],
   "metadata": {
    "collapsed": false,
    "pycharm": {
     "name": "#%%\n"
    }
   }
  },
  {
   "cell_type": "code",
   "execution_count": 114,
   "outputs": [
    {
     "data": {
      "text/plain": "6.0"
     },
     "execution_count": 114,
     "metadata": {},
     "output_type": "execute_result"
    }
   ],
   "source": [
    "# Maximaler WErt einer Spaltensumme der Matrix\n",
    "np.linalg.norm(M, ord=1)"
   ],
   "metadata": {
    "collapsed": false,
    "pycharm": {
     "name": "#%%\n"
    }
   }
  },
  {
   "cell_type": "code",
   "execution_count": 115,
   "outputs": [
    {
     "data": {
      "text/plain": "15.745966692414838"
     },
     "execution_count": 115,
     "metadata": {},
     "output_type": "execute_result"
    }
   ],
   "source": [
    "# Spektralnorm von M: Wurzel aus dem größten Eigenwert von M.T @ M\n",
    "np.linalg.norm(MTM, ord=2)"
   ],
   "metadata": {
    "collapsed": false,
    "pycharm": {
     "name": "#%%\n"
    }
   }
  },
  {
   "cell_type": "code",
   "execution_count": 116,
   "outputs": [
    {
     "data": {
      "text/plain": "15.745966692414834"
     },
     "execution_count": 116,
     "metadata": {},
     "output_type": "execute_result"
    }
   ],
   "source": [
    "# Version 2\n",
    "np.linalg.norm(M, ord=2)**2"
   ],
   "metadata": {
    "collapsed": false,
    "pycharm": {
     "name": "#%%\n"
    }
   }
  },
  {
   "cell_type": "code",
   "execution_count": 117,
   "outputs": [
    {
     "data": {
      "text/plain": "4.0"
     },
     "execution_count": 117,
     "metadata": {},
     "output_type": "execute_result"
    }
   ],
   "source": [
    "# Zeilennorm: Maximale Zeilensumme\n",
    "np.linalg.norm(M, ord=np.inf)"
   ],
   "metadata": {
    "collapsed": false,
    "pycharm": {
     "name": "#%%\n"
    }
   }
  },
  {
   "cell_type": "markdown",
   "source": [
    "## Distanz\n",
    "![Distanz.png](./Distanz.png)"
   ],
   "metadata": {
    "collapsed": false,
    "pycharm": {
     "name": "#%% md\n"
    }
   }
  },
  {
   "cell_type": "code",
   "execution_count": 118,
   "outputs": [],
   "source": [
    "v1 = np.array([1,0,-1]).reshape(3,1)\n",
    "v2 = np.array([1,2,0]).reshape(3,1)"
   ],
   "metadata": {
    "collapsed": false,
    "pycharm": {
     "name": "#%%\n"
    }
   }
  },
  {
   "cell_type": "markdown",
   "source": [
    "## Euklidische Distanz"
   ],
   "metadata": {
    "collapsed": false,
    "pycharm": {
     "name": "#%% md\n"
    }
   }
  },
  {
   "cell_type": "code",
   "execution_count": 119,
   "outputs": [
    {
     "data": {
      "text/plain": "2.23606797749979"
     },
     "execution_count": 119,
     "metadata": {},
     "output_type": "execute_result"
    }
   ],
   "source": [
    "# euklidische Distanz\n",
    "np.linalg.norm(v1 - v2, ord = 2)"
   ],
   "metadata": {
    "collapsed": false,
    "pycharm": {
     "name": "#%%\n"
    }
   }
  },
  {
   "cell_type": "markdown",
   "source": [
    "## Manhattan Distanz"
   ],
   "metadata": {
    "collapsed": false,
    "pycharm": {
     "name": "#%% md\n"
    }
   }
  },
  {
   "cell_type": "code",
   "execution_count": 120,
   "outputs": [
    {
     "data": {
      "text/plain": "3.0"
     },
     "execution_count": 120,
     "metadata": {},
     "output_type": "execute_result"
    }
   ],
   "source": [
    "np.linalg.norm(v1 - v2, ord = 1)"
   ],
   "metadata": {
    "collapsed": false,
    "pycharm": {
     "name": "#%%\n"
    }
   }
  },
  {
   "cell_type": "markdown",
   "source": [
    "## Maximum Distanz\n"
   ],
   "metadata": {
    "collapsed": false,
    "pycharm": {
     "name": "#%% md\n"
    }
   }
  },
  {
   "cell_type": "code",
   "execution_count": 121,
   "outputs": [
    {
     "data": {
      "text/plain": "2.0"
     },
     "execution_count": 121,
     "metadata": {},
     "output_type": "execute_result"
    }
   ],
   "source": [
    "np.linalg.norm(v1 - v2, ord = np.inf)"
   ],
   "metadata": {
    "collapsed": false,
    "pycharm": {
     "name": "#%%\n"
    }
   }
  },
  {
   "cell_type": "markdown",
   "source": [
    "# Ähnlichkeitsmasse\n"
   ],
   "metadata": {
    "collapsed": false,
    "pycharm": {
     "name": "#%% md\n"
    }
   }
  },
  {
   "cell_type": "code",
   "execution_count": 122,
   "outputs": [],
   "source": [
    "v1 = np.array([1,0,-1]).reshape(3,1)\n",
    "v2 = np.array([1,2,0]).reshape(3,1)"
   ],
   "metadata": {
    "collapsed": false,
    "pycharm": {
     "name": "#%%\n"
    }
   }
  },
  {
   "cell_type": "code",
   "execution_count": 123,
   "outputs": [
    {
     "data": {
      "text/plain": "array([[0.31622777]])"
     },
     "execution_count": 123,
     "metadata": {},
     "output_type": "execute_result"
    }
   ],
   "source": [
    "# Cosinus-Aehnlichkeit (Cosin-similarity)\n",
    "(v1.T @ v2) / (np.linalg.norm(v1) * np.linalg.norm(v2))"
   ],
   "metadata": {
    "collapsed": false,
    "pycharm": {
     "name": "#%%\n"
    }
   }
  },
  {
   "cell_type": "code",
   "execution_count": 124,
   "outputs": [
    {
     "data": {
      "text/plain": "array([[ 1.        , -0.21678238],\n       [-0.21678238,  1.        ]])"
     },
     "execution_count": 124,
     "metadata": {},
     "output_type": "execute_result"
    }
   ],
   "source": [
    "# Korrelations-Ähnlichkeit\n",
    "x = (0.9, -1.0, 0.7, -1.9, 0.9, -1.7, 0.3, -1.6, -2.7, 0.6)\n",
    "y = (-0.5, -0.1, -0.6, -0.1, -2.5, -2.2, 1.1, 0.6, 0.6, 0.2)\n",
    "\n",
    "# Korrelationsmatrix erstellen\n",
    "np.corrcoef(x,y)"
   ],
   "metadata": {
    "collapsed": false,
    "pycharm": {
     "name": "#%%\n"
    }
   }
  },
  {
   "cell_type": "code",
   "execution_count": 125,
   "outputs": [],
   "source": [
    "# Jaccard-Ähnlichkeit (Binär)\n",
    "x = [1, 1, 0, 0, 1, 0, 1]\n",
    "y = [0, 1, 1, 0, 1, 0, 1]"
   ],
   "metadata": {
    "collapsed": false,
    "pycharm": {
     "name": "#%%\n"
    }
   }
  },
  {
   "cell_type": "code",
   "execution_count": 126,
   "outputs": [],
   "source": [
    "# Funktion für Jaccard-Ähnlichkeit\n",
    "def jaccard_binary(x,y):\n",
    "    schnittmenge = np.logical_and(x,y)\n",
    "    vereinigung = np.logical_or(x, y)\n",
    "    return schnittmenge.sum() / vereinigung.sum()"
   ],
   "metadata": {
    "collapsed": false,
    "pycharm": {
     "name": "#%%\n"
    }
   }
  },
  {
   "cell_type": "code",
   "execution_count": 127,
   "outputs": [
    {
     "data": {
      "text/plain": "array([False,  True, False, False,  True, False,  True])"
     },
     "execution_count": 127,
     "metadata": {},
     "output_type": "execute_result"
    }
   ],
   "source": [
    "schnittmenge = np.logical_and(x,y)\n",
    "schnittmenge"
   ],
   "metadata": {
    "collapsed": false,
    "pycharm": {
     "name": "#%%\n"
    }
   }
  },
  {
   "cell_type": "code",
   "execution_count": 128,
   "outputs": [
    {
     "data": {
      "text/plain": "array([ True,  True,  True, False,  True, False,  True])"
     },
     "execution_count": 128,
     "metadata": {},
     "output_type": "execute_result"
    }
   ],
   "source": [
    "vereinigung = np.logical_or(x, y)\n",
    "vereinigung"
   ],
   "metadata": {
    "collapsed": false,
    "pycharm": {
     "name": "#%%\n"
    }
   }
  },
  {
   "cell_type": "code",
   "execution_count": 129,
   "outputs": [
    {
     "data": {
      "text/plain": "0.6"
     },
     "execution_count": 129,
     "metadata": {},
     "output_type": "execute_result"
    }
   ],
   "source": [
    "jaccard_binary(x,y)"
   ],
   "metadata": {
    "collapsed": false,
    "pycharm": {
     "name": "#%%\n"
    }
   }
  },
  {
   "cell_type": "markdown",
   "source": [
    "# LE 5 Transfer auf Machine Learning - Algorithmen\n",
    "Alles essenzielle Wissen von LE 5\n",
    "\n",
    "## Lineare Regression\n",
    "![lineare_regression.png](./lineare_regression.png)\n"
   ],
   "metadata": {
    "collapsed": false,
    "pycharm": {
     "name": "#%% md\n"
    }
   }
  },
  {
   "cell_type": "code",
   "execution_count": 130,
   "outputs": [
    {
     "data": {
      "text/plain": "array([[ 0. ,  3.8],\n       [ 1. ,  3.9],\n       [ 2. ,  5.4],\n       [ 3. ,  6.5],\n       [ 4. ,  6.1],\n       [ 5. , 10.5],\n       [ 6. , 10.3],\n       [ 7. , 12.6],\n       [ 8. , 12.1],\n       [ 9. , 14.4],\n       [10. , 14.7]])"
     },
     "metadata": {},
     "output_type": "display_data"
    }
   ],
   "source": [
    "w = np.array(\n",
    "    [(0.0, 3.8), (1.0, 3.9), (2.0, 5.4), (3.0, 6.5), (4.0, 6.1), (5.0, 10.5), (6.0, 10.3), (7.0, 12.6),\n",
    "     (8.0, 12.1), (9.0, 14.4), (10.0, 14.7)] )\n",
    "display(w)\n",
    "\n",
    "x = w[ : , 0]\n",
    "y = w[ : , 1]"
   ],
   "metadata": {
    "collapsed": false,
    "pycharm": {
     "name": "#%%\n"
    }
   }
  },
  {
   "cell_type": "code",
   "execution_count": 131,
   "outputs": [
    {
     "data": {
      "text/plain": "<Figure size 640x480 with 1 Axes>",
      "image/png": "[encoded data removed]"
     },
     "metadata": {},
     "output_type": "display_data"
    }
   ],
   "source": [
    "# Visuelle Darstellung der Punkte\n",
    "plt.scatter(x, y, color = \"b\", label = \"Messpunkte\")\n",
    "plt.grid()\n",
    "plt.legend()\n",
    "plt.show()"
   ],
   "metadata": {
    "collapsed": false,
    "pycharm": {
     "name": "#%%\n"
    }
   }
  },
  {
   "cell_type": "code",
   "execution_count": 132,
   "outputs": [
    {
     "data": {
      "text/plain": "array([[ 1.,  0.],\n       [ 1.,  1.],\n       [ 1.,  2.],\n       [ 1.,  3.],\n       [ 1.,  4.],\n       [ 1.,  5.],\n       [ 1.,  6.],\n       [ 1.,  7.],\n       [ 1.,  8.],\n       [ 1.,  9.],\n       [ 1., 10.]])"
     },
     "metadata": {},
     "output_type": "display_data"
    }
   ],
   "source": [
    "# Matrix A erstellen\n",
    "ones = np.ones(len(x)).reshape(-1,1)\n",
    "x_A = x.reshape(-1,1)\n",
    "\n",
    "A = np.hstack([ones, x_A,])\n",
    "display(A)"
   ],
   "metadata": {
    "collapsed": false,
    "pycharm": {
     "name": "#%%\n"
    }
   }
  },
  {
   "cell_type": "code",
   "execution_count": 133,
   "outputs": [],
   "source": [
    "# Matrix (Vektor) b erstellen\n",
    "b = y.reshape(-1,1)"
   ],
   "metadata": {
    "collapsed": false,
    "pycharm": {
     "name": "#%%\n"
    }
   }
  },
  {
   "cell_type": "markdown",
   "source": [
    "![normalengleichung.png](./normalengleichung.png)"
   ],
   "metadata": {
    "collapsed": false,
    "pycharm": {
     "name": "#%% md\n"
    }
   }
  },
  {
   "cell_type": "code",
   "execution_count": 134,
   "outputs": [
    {
     "data": {
      "text/plain": "array([[3.07272727],\n       [1.20909091]])"
     },
     "execution_count": 134,
     "metadata": {},
     "output_type": "execute_result"
    }
   ],
   "source": [
    "# Normalengleichung durchfuheren\n",
    "x_v = np.linalg.inv(A.T @ A) @ (A.T @ b)\n",
    "x_v"
   ],
   "metadata": {
    "collapsed": false,
    "pycharm": {
     "name": "#%%\n"
    }
   }
  },
  {
   "cell_type": "code",
   "execution_count": 135,
   "outputs": [
    {
     "data": {
      "text/plain": "array([3.07272727])"
     },
     "metadata": {},
     "output_type": "display_data"
    },
    {
     "data": {
      "text/plain": "array([1.20909091])"
     },
     "metadata": {},
     "output_type": "display_data"
    }
   ],
   "source": [
    "# Interpretation vom x_v Vektor\n",
    "achsenabschnitt = x_v[0]\n",
    "steigung_x = x_v[1]\n",
    "\n",
    "display(achsenabschnitt, steigung_x)"
   ],
   "metadata": {
    "collapsed": false,
    "pycharm": {
     "name": "#%%\n"
    }
   }
  },
  {
   "cell_type": "code",
   "execution_count": 136,
   "outputs": [
    {
     "data": {
      "text/plain": "<Figure size 640x480 with 1 Axes>",
      "image/png": "[encoded data removed]"
     },
     "metadata": {},
     "output_type": "display_data"
    }
   ],
   "source": [
    "# Visuelle Darstellung der Punkte mit der Gerade\n",
    "values = np.linspace(min(x), max(x), 2)\n",
    "plt.scatter(x, y, color = \"b\", label = \"Messpunkte\")\n",
    "plt.plot(values, achsenabschnitt + steigung_x * values, c = \"r\", label = \"Regression Gerade\")\n",
    "plt.plot()\n",
    "plt.grid()\n",
    "plt.legend()\n",
    "plt.show()"
   ],
   "metadata": {
    "collapsed": false,
    "pycharm": {
     "name": "#%%\n"
    }
   }
  },
  {
   "cell_type": "markdown",
   "source": [
    "# Mutliple lineare Regression"
   ],
   "metadata": {
    "collapsed": false,
    "pycharm": {
     "name": "#%% md\n"
    }
   }
  },
  {
   "cell_type": "code",
   "execution_count": 137,
   "outputs": [
    {
     "data": {
      "text/plain": "array([[  0. ,   3.8,   3.8],\n       [  1. ,   3.9,   3.9],\n       [  2. ,   5.4,  10.8],\n       [  3. ,   6.5,  19.5],\n       [  4. ,   6.1,  24.5],\n       [  5. ,  10.5,  50.8],\n       [  6. ,  10.3,  61. ],\n       [  7. ,  12.6,  84. ],\n       [  8. ,  12.1,  96. ],\n       [  9. ,  14.4, 130. ],\n       [ 10. ,  14.7, 147. ]])"
     },
     "metadata": {},
     "output_type": "display_data"
    }
   ],
   "source": [
    "w = np.array(\n",
    "    [(0.0, 3.8, 3.8), (1.0, 3.9, 3.9), (2.0, 5.4, 10.8), (3.0, 6.5, 19.5), (4.0, 6.1, 24.5), (5.0, 10.5, 50.8),\n",
    "     (6.0, 10.3, 61), (7.0, 12.6, 84), (8.0, 12.1, 96), (9.0, 14.4, 130), (10.0, 14.7, 147)] )\n",
    "display(w)\n",
    "\n",
    "x = w[ : , 0]\n",
    "y = w[ : , 1]\n",
    "z = w[ : , 2]"
   ],
   "metadata": {
    "collapsed": false,
    "pycharm": {
     "name": "#%%\n"
    }
   }
  },
  {
   "cell_type": "code",
   "execution_count": 138,
   "outputs": [
    {
     "data": {
      "text/plain": "<Figure size 1000x1000 with 1 Axes>",
      "image/png": "[encoded data removed]"
     },
     "metadata": {},
     "output_type": "display_data"
    }
   ],
   "source": [
    "# Visuelle Darstellung der Punkte\n",
    "fig = plt.figure(figsize = (10,10))\n",
    "ax = fig.add_subplot(projection='3d')\n",
    "ax.scatter(x, y, z, c = \"r\", label = \"Messpunkte\")\n",
    "plt.legend()\n",
    "plt.grid()\n",
    "plt.show()"
   ],
   "metadata": {
    "collapsed": false,
    "pycharm": {
     "name": "#%%\n"
    }
   }
  },
  {
   "cell_type": "code",
   "execution_count": 139,
   "outputs": [],
   "source": [
    "# Matrix A und b definieren\n",
    "ones = np.ones(len(x)).reshape(-1,1)\n",
    "x_A = x.reshape(-1,1)\n",
    "y_A = y.reshape(-1,1)\n",
    "A = np.hstack([ones, x_A, y_A])\n",
    "\n",
    "b = z.reshape(-1,1)"
   ],
   "metadata": {
    "collapsed": false,
    "pycharm": {
     "name": "#%%\n"
    }
   }
  },
  {
   "cell_type": "code",
   "execution_count": 140,
   "outputs": [
    {
     "data": {
      "text/plain": "array([[-31.96251549],\n       [  9.12275143],\n       [  4.7969725 ]])"
     },
     "execution_count": 140,
     "metadata": {},
     "output_type": "execute_result"
    }
   ],
   "source": [
    "# Normalengleichung durchfuheren (Nach Vektor x aufloesen)\n",
    "x_v = np.linalg.inv(A.T @ A) @ (A.T @ b)\n",
    "x_v"
   ],
   "metadata": {
    "collapsed": false,
    "pycharm": {
     "name": "#%%\n"
    }
   }
  },
  {
   "cell_type": "code",
   "execution_count": 141,
   "outputs": [
    {
     "data": {
      "text/plain": "array([-31.96251549])"
     },
     "metadata": {},
     "output_type": "display_data"
    },
    {
     "data": {
      "text/plain": "array([9.12275143])"
     },
     "metadata": {},
     "output_type": "display_data"
    },
    {
     "data": {
      "text/plain": "array([4.7969725])"
     },
     "metadata": {},
     "output_type": "display_data"
    }
   ],
   "source": [
    "# Interpreation von Vektor x_v\n",
    "achsenabschnitt = x_v[0]\n",
    "steigung_x = x_v[1]\n",
    "steigung_y = x_v[2]\n",
    "\n",
    "display(achsenabschnitt, steigung_x, steigung_y)"
   ],
   "metadata": {
    "collapsed": false,
    "pycharm": {
     "name": "#%%\n"
    }
   }
  },
  {
   "cell_type": "code",
   "execution_count": 142,
   "outputs": [
    {
     "data": {
      "text/plain": "<Figure size 1000x1000 with 1 Axes>",
      "image/png": "[encoded data removed]"
     },
     "metadata": {},
     "output_type": "display_data"
    }
   ],
   "source": [
    "# Visuelle Darstellung von Punkten und Gerade\n",
    "values_x = np.linspace(min(x), max(x), 2)\n",
    "values_y = np.linspace(min(y), max(y), 2)\n",
    "fig = plt.figure(figsize = (10,10))\n",
    "ax = fig.add_subplot(projection='3d')\n",
    "ax.scatter(x, y, z, c = \"r\", label = \"Messpunkte\")\n",
    "ax.plot(values_x, values_y, achsenabschnitt + steigung_x * values_x + steigung_y * values_y, c = \"b\", label = \"Regressiongerade\")\n",
    "ax.view_init(azim=0, elev=90) # Vogelperspektive\n",
    "ax.view_init(-10,40)\n",
    "plt.legend()\n",
    "plt.grid()\n",
    "plt.show()"
   ],
   "metadata": {
    "collapsed": false,
    "pycharm": {
     "name": "#%%\n"
    }
   }
  },
  {
   "cell_type": "markdown",
   "source": [
    "# Singulärwertzerlegung"
   ],
   "metadata": {
    "collapsed": false,
    "pycharm": {
     "name": "#%% md\n"
    }
   }
  },
  {
   "cell_type": "code",
   "execution_count": 143,
   "outputs": [
    {
     "data": {
      "text/plain": "array([[ 10,  20,  30],\n       [ 69, 420, 360],\n       [  5,  42,  70]])"
     },
     "execution_count": 143,
     "metadata": {},
     "output_type": "execute_result"
    }
   ],
   "source": [
    "M = np.array([[10,20,30],[69,420,360],[5,42,70]])\n",
    "M"
   ],
   "metadata": {
    "collapsed": false,
    "pycharm": {
     "name": "#%%\n"
    }
   }
  },
  {
   "cell_type": "markdown",
   "source": [
    "## Singularwertzerlegung durchführen"
   ],
   "metadata": {
    "collapsed": false,
    "pycharm": {
     "name": "#%% md\n"
    }
   }
  },
  {
   "cell_type": "code",
   "execution_count": 144,
   "outputs": [
    {
     "data": {
      "text/plain": "array([[-0.06338763,  0.32673631, -0.94298748],\n       [-0.98844328, -0.15092952,  0.01414751],\n       [-0.13770215,  0.93298642,  0.33252738]])"
     },
     "metadata": {},
     "output_type": "display_data"
    },
    {
     "data": {
      "text/plain": "array([[563.96162596,   0.        ,   0.        ],\n       [  0.        ,  27.38723139,   0.        ],\n       [  0.        ,   0.        ,   6.87197227]])"
     },
     "metadata": {},
     "output_type": "display_data"
    },
    {
     "data": {
      "text/plain": "array([[-0.12327962, -0.74862793, -0.65142794],\n       [-0.0906204 , -0.6452001 ,  0.75862031],\n       [-0.98822572,  0.15255508,  0.01169906]])"
     },
     "metadata": {},
     "output_type": "display_data"
    }
   ],
   "source": [
    "U, S, VT = np.linalg.svd(M)\n",
    "S = np.diag(S)\n",
    "display(U, S, VT)"
   ],
   "metadata": {
    "collapsed": false,
    "pycharm": {
     "name": "#%%\n"
    }
   }
  },
  {
   "cell_type": "code",
   "execution_count": 145,
   "outputs": [
    {
     "data": {
      "text/plain": "array([563.96162596,   6.87197227,  27.38723139])"
     },
     "execution_count": 145,
     "metadata": {},
     "output_type": "execute_result"
    }
   ],
   "source": [
    "# Zusammenhang Eigenwerte und Singulaerwerte einer Matrix\n",
    "np.linalg.eigvals(M.T@ M) ** 0.5"
   ],
   "metadata": {
    "collapsed": false,
    "pycharm": {
     "name": "#%%\n"
    }
   }
  },
  {
   "cell_type": "code",
   "execution_count": 146,
   "outputs": [
    {
     "data": {
      "text/plain": "array([[  4.40702357,  26.76209556,  23.2873718 ],\n       [ 68.72149335, 417.31820678, 363.13465136],\n       [  9.57373818,  58.13749169,  50.58906473]])"
     },
     "execution_count": 146,
     "metadata": {},
     "output_type": "execute_result"
    }
   ],
   "source": [
    "# Matrix M rekonstruieren mit Rang k\n",
    "k = 1\n",
    "M_recon = U[ : , :k] @ S[ :k , :k ] @ VH[:k , :]\n",
    "M_recon"
   ],
   "metadata": {
    "collapsed": false,
    "pycharm": {
     "name": "#%%\n"
    }
   }
  },
  {
   "cell_type": "code",
   "execution_count": 147,
   "outputs": [
    {
     "data": {
      "text/plain": "28.236225776055058"
     },
     "execution_count": 147,
     "metadata": {},
     "output_type": "execute_result"
    }
   ],
   "source": [
    "# Distanzen zwischen 2 Matrizen berechnen\n",
    "np.linalg.norm(M - M_recon, ord = \"fro\")"
   ],
   "metadata": {
    "collapsed": false,
    "pycharm": {
     "name": "#%%\n"
    }
   }
  },
  {
   "cell_type": "code",
   "execution_count": 148,
   "outputs": [
    {
     "data": {
      "text/plain": "28.236225776055058"
     },
     "execution_count": 148,
     "metadata": {},
     "output_type": "execute_result"
    }
   ],
   "source": [
    "# Matrizen vertauschen\n",
    "np.linalg.norm(M_recon - M, ord = \"fro\")"
   ],
   "metadata": {
    "collapsed": false,
    "pycharm": {
     "name": "#%%\n"
    }
   }
  },
  {
   "cell_type": "code",
   "execution_count": 149,
   "outputs": [
    {
     "data": {
      "text/plain": "27.387231390293532"
     },
     "execution_count": 149,
     "metadata": {},
     "output_type": "execute_result"
    }
   ],
   "source": [
    "np.linalg.norm(M_recon - M, ord = 2)"
   ],
   "metadata": {
    "collapsed": false,
    "pycharm": {
     "name": "#%%\n"
    }
   }
  },
  {
   "cell_type": "markdown",
   "source": [
    "# Konditionszahl einer Matrix\n",
    "Bei der Konditionszahl einer Matrix handelt es sich um ein Maß für die Empfindlichkeit der Lösung eines linearen Gleichungssystems Ax = b gegenüber Störungen in den Koeffizienten von A und b.\n",
    "Die Konditionszahl k(kappa) berechnet sich wie folgt:\n",
    "![konditionszahl.png](./konditionszahl.png)\n",
    "und stellt somit das Verhältnis im Betrag zwischen dem grössten und dem kleinsten Eigenwert dar.\n",
    "Gegeben sind folgende Matrizen:\n",
    "![matrix_a_kappa.png](./matrix_a_kappa.png)"
   ],
   "metadata": {
    "collapsed": false,
    "pycharm": {
     "name": "#%% md\n"
    }
   }
  },
  {
   "cell_type": "code",
   "execution_count": 150,
   "outputs": [
    {
     "data": {
      "text/plain": "array([[-0.77777778,  0.44444444,  0.44444444],\n       [ 0.44444444, -0.11111111,  0.88888889],\n       [ 0.44444444,  0.88888889, -0.11111111]])"
     },
     "execution_count": 150,
     "metadata": {},
     "output_type": "execute_result"
    }
   ],
   "source": [
    "# Matrix A erstellen\n",
    "A = np.array([\n",
    "    [-7,4,4],\n",
    "    [4,-1,8],\n",
    "    [4,8,-1]\n",
    "])\n",
    "A = (1/9)*A\n",
    "A"
   ],
   "metadata": {
    "collapsed": false,
    "pycharm": {
     "name": "#%%\n"
    }
   }
  },
  {
   "cell_type": "code",
   "execution_count": 151,
   "outputs": [
    {
     "data": {
      "text/plain": "array([[ 1,  0, -1],\n       [ 0,  4, -3],\n       [-1, -3, 20]])"
     },
     "execution_count": 151,
     "metadata": {},
     "output_type": "execute_result"
    }
   ],
   "source": [
    "# Matrix B erstellen\n",
    "B = np.array([\n",
    "    [1,0,-1],\n",
    "    [0,4,-3],\n",
    "    [-1,-3,20]\n",
    "])\n",
    "B"
   ],
   "metadata": {
    "collapsed": false,
    "pycharm": {
     "name": "#%%\n"
    }
   }
  },
  {
   "cell_type": "code",
   "execution_count": 152,
   "outputs": [],
   "source": [
    "# Funktion kappa(A) erstellen\n",
    "def kappa(A):\n",
    "    eigenwerte = np.linalg.eigvals(A)\n",
    "    lambda_max = max(abs(eigenwerte))\n",
    "    lambda_min = min(abs(eigenwerte))\n",
    "    return lambda_max / lambda_min\n"
   ],
   "metadata": {
    "collapsed": false,
    "pycharm": {
     "name": "#%%\n"
    }
   }
  },
  {
   "cell_type": "code",
   "execution_count": 153,
   "outputs": [
    {
     "data": {
      "text/plain": "1.0000000000000002"
     },
     "execution_count": 153,
     "metadata": {},
     "output_type": "execute_result"
    }
   ],
   "source": [
    "# Konditionszahl von Matrix A berechnen\n",
    "kappa(A)"
   ],
   "metadata": {
    "collapsed": false,
    "pycharm": {
     "name": "#%%\n"
    }
   }
  },
  {
   "cell_type": "code",
   "execution_count": 154,
   "outputs": [
    {
     "data": {
      "text/plain": "21.95516850022584"
     },
     "execution_count": 154,
     "metadata": {},
     "output_type": "execute_result"
    }
   ],
   "source": [
    "# Konditionszahl von Matrix B berechnen\n",
    "kappa(B)"
   ],
   "metadata": {
    "collapsed": false,
    "pycharm": {
     "name": "#%%\n"
    }
   }
  },
  {
   "cell_type": "code",
   "execution_count": 155,
   "outputs": [
    {
     "data": {
      "text/plain": "1.0"
     },
     "execution_count": 155,
     "metadata": {},
     "output_type": "execute_result"
    }
   ],
   "source": [
    "lambda_max_A = max(abs(np.linalg.eigvals(A)))\n",
    "lambda_max_A"
   ],
   "metadata": {
    "collapsed": false,
    "pycharm": {
     "name": "#%%\n"
    }
   }
  },
  {
   "cell_type": "code",
   "execution_count": 156,
   "outputs": [
    {
     "data": {
      "text/plain": "True"
     },
     "execution_count": 156,
     "metadata": {},
     "output_type": "execute_result"
    }
   ],
   "source": [
    "is_orthogonal(A)"
   ],
   "metadata": {
    "collapsed": false,
    "pycharm": {
     "name": "#%%\n"
    }
   }
  },
  {
   "cell_type": "code",
   "execution_count": 157,
   "outputs": [
    {
     "data": {
      "text/plain": "False"
     },
     "execution_count": 157,
     "metadata": {},
     "output_type": "execute_result"
    }
   ],
   "source": [
    "is_orthogonal(B)"
   ],
   "metadata": {
    "collapsed": false,
    "pycharm": {
     "name": "#%%\n"
    }
   }
  },
  {
   "cell_type": "code",
   "execution_count": 157,
   "outputs": [],
   "source": [],
   "metadata": {
    "collapsed": false,
    "pycharm": {
     "name": "#%%\n"
    }
   }
  }
 ],
 "metadata": {
  "kernelspec": {
   "display_name": "Python 3",
   "language": "python",
   "name": "python3"
  },
  "language_info": {
   "codemirror_mode": {
    "name": "ipython",
    "version": 2
   },
   "file_extension": ".py",
   "mimetype": "text/x-python",
   "name": "python",
   "nbconvert_exporter": "python",
   "pygments_lexer": "ipython2",
   "version": "2.7.6"
  }
 },
 "nbformat": 4,
 "nbformat_minor": 0
}