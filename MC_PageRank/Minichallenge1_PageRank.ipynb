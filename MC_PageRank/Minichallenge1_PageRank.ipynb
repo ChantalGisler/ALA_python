{
 "cells": [
  {
   "attachments": {
    "image.png": {
     "image/png": "[encoded data removed]"
    }
   },
   "cell_type": "markdown",
   "metadata": {
    "pycharm": {
     "name": "#%% md\n"
    }
   },
   "source": [
    "<div style=\"width: 80%;\">\n",
    "\n",
    "<img src=\"attachment:image.png\" width=\"500\" style=\"float: left\">\n",
    "<div style=\"clear: both\"></div>\n",
    "<br>\n",
    "\n",
    "<div style=\"font-size: 20pt; float: left;\">Anwendungen der linearen Algebra</div>\n",
    "<div style=\"font-size: 20pt; text-align: right;\">FS 2023</div>\n",
    "<div style=\"font-size: 15pt; margin-top: 10px;\">Fachexperten: Roger Burkhardt, Cédric Huwyler</div>\n",
    "</div>\n",
    "<br>\n",
    "\n",
    "\n",
    "# Mini-Challenge 1 zum Thema *Page Rank*\n",
    "\n",
    "In der Kompetenz *Mathematische Grundlagen* haben Sie Graphen als mathematische Struktur kennengelernt, insbesondere, dass diese mit Hilfe der linearen Algebra, mit einer sogenannten *Adjazenzmatrix* repräsentiert werden können. Wie Sie sich sicher vorstellen können, können mit Hilfe dieser Matrix auch interessante Erkenntnisse über den Graphen gewonnen werden, indem wir darauf die in diesem Semester aufgebauten Erkenntnisse anwenden. In dieser ersten Minichallenge setzen wir uns dazu mit einem wichtigen Problem der Graphentheorie und noch wichtigerem Problem in der *Sozialen Netzwerkanalyse* (siehe separate Kompetenz) auseinander:\n",
    "\n",
    "<div class=\"alert alert-block alert-success\">Gegeben sei ein Graph mit Knoten und Kanten. Welche Knoten im Graph sind wichtig, welche Knoten weniger wichtig?</div>\n",
    "\n",
    "Die Beantwortung dieser Frage ist natürlich in ihrer Natur absolut subjektiv, was wichtig ist, ist eine sehr individuelle Entscheidung. So kann man zum Beispiel definieren, dass ein Knoten wichtig ist, wenn er viele Verbindungen zu anderen Knoten hat. Ist jemand, der auf Facebook möglichst viele Leute um ihre Freundschaft angefragt hat wirklich eine wichtige Person? Laut anderen Definitionen ist ein Knoten wichtig, wenn möglichst viele kürzeste Verbindungen zwischen anderen Knoten über ihn gehen oder wenn er zu möglichst vielen anderen Knoten ihr nächster Nachbar ist, und so weiter. Wie kann man also die Subjektivität dieser Definition übergehen? Ein einfacher Lösungsansatz ist hier *Rekursion*:\n",
    "\n",
    "*Wichtig ist ein Knoten dann, wenn er mit wichtigen Knoten verbunden ist.*\n",
    "\n",
    "Dieser Ansatz stellt ausschliesslich die Kanten zwischen den Knoten in den Vordergrund, also den Vernetzungsaspekt eines Knotes. Andere Knoteneigenschaften spielen keine Rolle.\n",
    "\n",
    "Leute, die sehr viele wichtige andere Leute in ihrem Netzwerk haben, sind also wichtig. Was ist jetzt aber wichtig? Wir haben es rekursiv definiert und müssen dazu zuerst eine entsprechende rekursive Gleichung aufstellen und diese lösen. Genau das werden Sie in dieser Mini-Challenge tun.\n",
    "\n",
    "In dieser Mini-Challenge werden Sie lernen, Graphenprobleme mit Matrizen und den Tools der linearen Algebra anzugehen und damit ihre Werkzeugkiste auf ein komplexes System anzuwenden. Dabei soll die Graphentheorie nicht in aller Tiefe erkundet werden (das werden sie in *Soziale Netzwerkanalyse* lernen), sondern vor allem die damit verbundene lineare Algebra.\n",
    "\n",
    "**Musterlösung:**\n",
    "\n",
    "Zu dieser Minichallenge existiert (bewusst) keine Musterlösung. Sie können Sie aber gerne zur Durchsicht und Kommentierung uns entweder in einer der Sprechstunden vorstellen oder mit Ihren Mitstudierenden auf Spaces diskutieren."
   ]
  },
  {
   "cell_type": "markdown",
   "metadata": {
    "pycharm": {
     "name": "#%% md\n"
    }
   },
   "source": [
    "Wir laden zuerst die für diese Übung benötigten Module. **Hinweis:** Wir benutzen das Modul `networkx` für die graphische Darstellung von Graphen."
   ]
  },
  {
   "cell_type": "code",
   "execution_count": 540,
   "metadata": {
    "pycharm": {
     "name": "#%%\n"
    }
   },
   "outputs": [],
   "source": [
    "import numpy as np\n",
    "import matplotlib.pyplot as plt\n",
    "import sympy as sp\n",
    "import networkx as nx"
   ]
  },
  {
   "cell_type": "markdown",
   "metadata": {
    "pycharm": {
     "name": "#%% md\n"
    }
   },
   "source": [
    "## Aufgabe 1: Repräsentation von Graphen mit Matrizen"
   ]
  },
  {
   "cell_type": "markdown",
   "metadata": {
    "pycharm": {
     "name": "#%% md\n"
    }
   },
   "source": [
    "### Ein kleines Beispiel"
   ]
  },
  {
   "cell_type": "markdown",
   "metadata": {
    "pycharm": {
     "name": "#%% md\n"
    }
   },
   "source": [
    "Graphen haben Sie bereits in *Mathematische Grundlagen* kennengelernt, hier trotzdem noch einmal eine kurze Zusammenfassung der Begrifflichkeiten:\n",
    "\n",
    "Graphen bestehen aus **Knoten** (numerierte Kreise, Englisch: *node*) und **Kanten** (Pfeile / Verbindungen, Englisch: *edge*) und sind entweder **gerichtet** oder **ungerichtet**. Bei gerichteten Graphen kann der Kante nur in einer Richtung gefolgt werden, darum werden solche Kanten üblicherweise mit Pfeilen dargestellt. Sind die Kanten verschieden wichtig, so nennt man einen solchen Graphen **gewichtet** und visualisiert dies mit Pfeilen verschiedener Dicke. Hier ist ein Beispiel eines sehr einfachen, gerichteten, ungewichteten Graphen:"
   ]
  },
  {
   "cell_type": "markdown",
   "metadata": {
    "pycharm": {
     "name": "#%% md\n"
    }
   },
   "source": [
    "<div><img src=\"mc1_bild1.png\" width=\"500\"></div>"
   ]
  },
  {
   "cell_type": "markdown",
   "metadata": {
    "pycharm": {
     "name": "#%% md\n"
    }
   },
   "source": [
    "Es gibt zwei äquivalente mathematische Darstellungsarten mit Matrizen für den obigen Graphen:\n",
    "\n",
    "1. Die **Adjazenzmatrix** ist eine Matrix $A \\in \\mathbb{R}^{n\\times n}$ für einen Graphen mit $n$ Knoten, deren Elemente eins sind wo zwei Knoten verbunden sind und sonst null. Für das obige Beispiel ist\n",
    "\n",
    "$$\n",
    "A = \\begin{pmatrix}  0 & 0 & 1 & 1 \\\\ 1 & 0 & 1 & 1 \\\\ 0 & 0 & 0 & 0 \\\\ 1 & 0 & 0 & 0 \\end{pmatrix}\n",
    "$$\n",
    "\n",
    "In der ersten Zeile stehen zum Beispiel alle Verbindungen mit Ausgangsknoten 1 zum Endknoten $i$: Der Knoten 1 hat also Verbindungen zu den Knoten 3 und 4 und keine Verbindungen zum Knoten 2 (und keine Verbindung zu sich selbst; Graphen in denen Knoten zu sich selbst verbinden betrachten wir hier nicht, die Diagonale von $A$ wird also immer Null sein).\n",
    "\n",
    "2. Die **Inzidenzmatrix** ist eine Matrix $E \\in \\mathbb{R}^{m\\times2}$ für einen Graphen mit $m$ Kanten. In der ersten Spalte von $E$ steht jeweils die Nummer des Ausgangsknotens einer Verbindung, in der zweiten Spalte die Nummer des Endknotens, und das für alle $m$ Kanten:\n",
    "\n",
    "$$\n",
    "E = \\begin{pmatrix} 1 & 3 \\\\ 1 & 4 \\\\ 2 & 1 \\\\ 2 & 3 \\\\ 2 & 4 \\\\ 4 & 1 \\end{pmatrix}\n",
    "$$"
   ]
  },
  {
   "cell_type": "markdown",
   "metadata": {
    "pycharm": {
     "name": "#%% md\n"
    }
   },
   "source": [
    "$A$ und $E$ haben u.a. folgende Eigenschaften:\n",
    "\n",
    "* Für ungerichtete Graphen gilt $A^T = A$ und damit ist $A$ symmetrisch, für *gerichtete* Graphen (wie in diesem Beispiel) gilt diese Aussage jedoch nicht.\n",
    "* $E$ hat genauso viele Zeilen, wie $A$ Elemente ungleich Null hat, also $\\sum_{i,j=1}^n A_{ij} = m$.\n",
    "* $A$ ist quadratisch und hat genauso viele Zeilen und Spalten wie die Anzahl Knoten, die in $E$ vorkommen.\n",
    "* $A$ besitzt im Allgemeinen keine Inverse."
   ]
  },
  {
   "cell_type": "markdown",
   "metadata": {
    "pycharm": {
     "name": "#%% md\n"
    }
   },
   "source": [
    "### Graph für die Aufgabenstellung\n",
    "\n",
    "Der folgende gerichtete Graph sei nun gegeben:"
   ]
  },
  {
   "cell_type": "markdown",
   "metadata": {
    "pycharm": {
     "name": "#%% md\n"
    }
   },
   "source": [
    "<div><img src=\"mc1_bild2.png\" width=\"600\"></div>"
   ]
  },
  {
   "cell_type": "markdown",
   "metadata": {
    "pycharm": {
     "name": "#%% md\n"
    }
   },
   "source": [
    "Definieren Sie zuerst seine Inzidenzmatrix als $13\\times2$-Matrix. Beachten Sie: der letzte Graph begann mit der Knotennumerierung bei 1, dieser beginnt bei 0."
   ]
  },
  {
   "cell_type": "code",
   "execution_count": 541,
   "metadata": {
    "pycharm": {
     "name": "#%%\n"
    }
   },
   "outputs": [
    {
     "name": "stdout",
     "output_type": "stream",
     "text": [
      "(13, 2)\n"
     ]
    }
   ],
   "source": [
    "# IHR CODE STARTET HIER\n",
    "# Inzidenzmatrix E\n",
    "E = np.array([\n",
    "    [0,1],\n",
    "    [0,6],\n",
    "    [0,7],\n",
    "    [1,2],\n",
    "    [1,7],\n",
    "    [2,1],\n",
    "    [2,7],\n",
    "    [3,5],\n",
    "    [3,7],\n",
    "    [4,5],\n",
    "    [5,6],\n",
    "    [6,5],\n",
    "    [7,6]\n",
    "])\n",
    "print(E.shape)\n",
    "# Dieses Assert-Statement sollte von Ihrer Matrix E erfüllt werden\n",
    "assert( E.shape==(13,2) )"
   ]
  },
  {
   "cell_type": "markdown",
   "metadata": {
    "pycharm": {
     "name": "#%% md\n"
    }
   },
   "source": [
    "Die Inzidenzmatrix braucht zum Abtippen wesentlich weniger Konzentration als die Adjazenzmatrix, meistens ist die Adjazenzmatrix für Berechnungen aber spannender. Aus diesem Grund hätten wir gerne eine Funktion `adj( E )`, die aus einer beliebigen Inzidenzmatrix die Adjazenzmatrix berechnet und sie zurückgibt. Schreiben Sie eine solche Funktion.\n",
    "\n",
    "**Hinweise**: \n",
    "* Sie dürfen annehmen, dass die Knotennummerierung in der Inzidenzmatrix immer bei 0 beginnt und durchgehend ist.\n",
    "* Es ist sehr hilfreich, zuerst die Anzahl Knoten und Kanten im Graphen zu bestimmen."
   ]
  },
  {
   "cell_type": "code",
   "execution_count": 542,
   "metadata": {
    "pycharm": {
     "name": "#%%\n"
    }
   },
   "outputs": [],
   "source": [
    "# Funktion zur Erstellung der Adjazenzmatrix aus einer Inziendenzmatrix\n",
    "def adj(incidence_matrix):\n",
    "    num_nodes = len(np.unique(incidence_matrix))\n",
    "    num_edges = len(incidence_matrix)\n",
    "\n",
    "    # Adjanzenzmatrix mit Nullen initialisieren\n",
    "    adj_matrix = np.zeros((num_nodes, num_nodes))\n",
    "\n",
    "    # For-Loop über alle Kanten (für die Knoten, welche durch die Kanten verbunden sind)\n",
    "    for i in range(num_edges):\n",
    "        # Ausgangsknoten\n",
    "        start_node = incidence_matrix[i][0]\n",
    "        # Endknoten\n",
    "        end_node = incidence_matrix[i][1]\n",
    "        # Verbindung in Adjazenzmatrix eintragen\n",
    "        adj_matrix[start_node][end_node] = 1\n",
    "    return adj_matrix\n"
   ]
  },
  {
   "cell_type": "markdown",
   "metadata": {
    "pycharm": {
     "name": "#%% md\n"
    }
   },
   "source": [
    "Nun können Sie die zur obigen Inzidenzmatrix $E$ passende Adjazenzmatrix $A$ bestimmen. Passt sie zum obigen Graphen?"
   ]
  },
  {
   "cell_type": "code",
   "execution_count": 543,
   "metadata": {
    "pycharm": {
     "name": "#%%\n"
    }
   },
   "outputs": [
    {
     "name": "stdout",
     "output_type": "stream",
     "text": [
      "[[0. 1. 0. 0. 0. 0. 1. 1.]\n",
      " [0. 0. 1. 0. 0. 0. 0. 1.]\n",
      " [0. 1. 0. 0. 0. 0. 0. 1.]\n",
      " [0. 0. 0. 0. 0. 1. 0. 1.]\n",
      " [0. 0. 0. 0. 0. 1. 0. 0.]\n",
      " [0. 0. 0. 0. 0. 0. 1. 0.]\n",
      " [0. 0. 0. 0. 0. 1. 0. 0.]\n",
      " [0. 0. 0. 0. 0. 0. 1. 0.]]\n"
     ]
    }
   ],
   "source": [
    "A = adj( E )\n",
    "print( A )"
   ]
  },
  {
   "cell_type": "markdown",
   "metadata": {
    "pycharm": {
     "name": "#%% md\n"
    }
   },
   "source": [
    "Ist $A$ invertierbar?"
   ]
  },
  {
   "cell_type": "code",
   "execution_count": 544,
   "metadata": {
    "pycharm": {
     "name": "#%%\n"
    }
   },
   "outputs": [
    {
     "name": "stdout",
     "output_type": "stream",
     "text": [
      "False\n"
     ]
    }
   ],
   "source": [
    "# ist A invertierbar?\n",
    "# Funktion zur Überprüfung der Invertierbarkeit\n",
    "def is_invertible(matrix):\n",
    "    det = np.linalg.det(matrix)\n",
    "    if det == 0:\n",
    "        return False\n",
    "    else:\n",
    "        return True\n",
    "\n",
    "print(is_invertible(A))\n"
   ]
  },
  {
   "cell_type": "markdown",
   "metadata": {
    "pycharm": {
     "name": "#%% md\n"
    }
   },
   "source": [
    "Prüfen Sie als Unit-Test, ob die Anzahl Zeilen von $E$ mit der Summe der Elemente aus $A$ übereinstimmen:"
   ]
  },
  {
   "cell_type": "code",
   "execution_count": 545,
   "metadata": {
    "pycharm": {
     "name": "#%%\n"
    }
   },
   "outputs": [],
   "source": [
    "# Unit-Test\n",
    "def test_ad(incidence_matrix):\n",
    "    # Adjazenzmatrix aus Inzidenzmatrix erstellen\n",
    "    adj_matrix = adj(incidence_matrix)\n",
    "    # Überprüfung, ob die Anzahl Zeilen von E mit der Summe der Elemente aus A übereinstimmen\n",
    "    assert len(incidence_matrix) == np.sum(adj_matrix)\n",
    "    return True\n"
   ]
  },
  {
   "cell_type": "code",
   "execution_count": 546,
   "outputs": [
    {
     "data": {
      "text/plain": "True"
     },
     "execution_count": 546,
     "metadata": {},
     "output_type": "execute_result"
    }
   ],
   "source": [
    "test_ad(E)"
   ],
   "metadata": {
    "collapsed": false,
    "pycharm": {
     "name": "#%%\n"
    }
   }
  },
  {
   "cell_type": "markdown",
   "metadata": {
    "pycharm": {
     "name": "#%% md\n"
    }
   },
   "source": [
    "Zur Visualisierung Ihrer Graphen stellen wir Ihnen eine Funktion zur Verfügung. Damit können Sie verifizieren, ob Sie die Inzidenzmatrix korrekt eingegeben und richtig in die Adjazenzmatrix umgewandelt haben:"
   ]
  },
  {
   "cell_type": "code",
   "execution_count": 547,
   "metadata": {
    "pycharm": {
     "name": "#%%\n"
    }
   },
   "outputs": [],
   "source": [
    "def plot_graph( A, knoten_gewichte=None ):\n",
    "    \"\"\"\n",
    "    Funktion zur graphischen Darstellung eines Graphen. \n",
    "    Benutzt das 'spring layout', eventuell muss die Funktion mehrere Male ausgeführt werden, bis eine schöne Darstellung \n",
    "    des Graphen vorliegt.\n",
    "    \n",
    "    Arguments: \n",
    "    A -- Adjazenzmatrix (shape (n_knoten,n_knoten))\n",
    "    knoten_gewichte -- Liste mit Gewichte für jeden Knoten im Graphen (bei None erhalten alle Knoten die gleichen Gewichte)\n",
    "    \"\"\"\n",
    "    \n",
    "    if knoten_gewichte is None:\n",
    "        knoten_gewichte = np.array( [1] * A.shape[0] )\n",
    "    \n",
    "    assert( len( knoten_gewichte) == A.shape[0] )\n",
    "        \n",
    "    knoten_gewichte = knoten_gewichte / np.mean( knoten_gewichte )\n",
    "    \n",
    "    plt.figure(figsize=(8,8))\n",
    "    G = nx.DiGraph( A )\n",
    "    pos = nx.layout.spring_layout(G)\n",
    "    options = {\n",
    "    'node_color': '#dd0000',\n",
    "    'node_size': knoten_gewichte*2500,\n",
    "    'width': 3,\n",
    "    'arrowstyle': '-|>',\n",
    "    'arrowsize': 12,\n",
    "    }\n",
    "        \n",
    "    nx.draw_networkx(G, pos, arrows=True, **options )\n",
    "    plt.axis(\"off\")\n",
    "    plt.show()"
   ]
  },
  {
   "cell_type": "markdown",
   "metadata": {
    "pycharm": {
     "name": "#%% md\n"
    }
   },
   "source": [
    "Natürlich werden die Knoten etwas anders angeordnet sein, als im obigen Bild. Möglicherweise müssen Sie die Funktion mehrmals ausführen, bis Sie einen schön dargestellten Plot bekommen:"
   ]
  },
  {
   "cell_type": "code",
   "execution_count": 548,
   "metadata": {
    "pycharm": {
     "name": "#%%\n"
    }
   },
   "outputs": [
    {
     "data": {
      "text/plain": "<Figure size 800x800 with 1 Axes>",
      "image/png": "[encoded data removed]"
     },
     "metadata": {},
     "output_type": "display_data"
    }
   ],
   "source": [
    "plot_graph( A )"
   ]
  },
  {
   "cell_type": "markdown",
   "metadata": {
    "pycharm": {
     "name": "#%% md\n"
    }
   },
   "source": [
    "## Aufgabe 2: Zentralitätsmasse auf gerichteten Graphen"
   ]
  },
  {
   "cell_type": "markdown",
   "metadata": {
    "pycharm": {
     "name": "#%% md\n"
    }
   },
   "source": [
    "Nun können wir beliebige Graphen mit Matrizen darstellen und können damit erste Berechnungen machen. Eine häufige Aufgabenstellung ist das Finden von wichtigen Knoten in einem Netzwerk. In dieser Aufgabe werden Sie zwei verschiedenartige Zentralitätsmasse kennenlernen."
   ]
  },
  {
   "cell_type": "markdown",
   "metadata": {
    "pycharm": {
     "name": "#%% md\n"
    }
   },
   "source": [
    "### Teilaufgabe a) In- und Outdegree"
   ]
  },
  {
   "cell_type": "markdown",
   "metadata": {
    "pycharm": {
     "name": "#%% md\n"
    }
   },
   "source": [
    "Das einfachste Mass für Wichtigkeit ist die Anzahl Verbindungen, die ein Knoten nach aussen hat (*'Outdegree'*) und die Anzahl Verbindungen, die einen Knoten von aussen ansteuern (*'Indegree'*). Berechnen Sie im Folgenden über die Matrix $A$ den Indegree und den Outdegree aller Knoten. Geben Sie Ihr Resultat angemessen aus. Welche Knoten haben den grössten Out- respektive Indegree? (Tipp: Prüfen Sie ihre Resultate anhand der graphischen Darstellung nach)"
   ]
  },
  {
   "cell_type": "code",
   "execution_count": 549,
   "metadata": {
    "pycharm": {
     "name": "#%%\n"
    }
   },
   "outputs": [
    {
     "data": {
      "text/plain": "array([3., 2., 2., 2., 1., 1., 1., 1.])"
     },
     "execution_count": 549,
     "metadata": {},
     "output_type": "execute_result"
    }
   ],
   "source": [
    "# Outdegree für A berechnen\n",
    "outdegrees = np.sum(A, axis=1)\n",
    "outdegrees"
   ]
  },
  {
   "cell_type": "code",
   "execution_count": 550,
   "outputs": [
    {
     "data": {
      "text/plain": "0"
     },
     "execution_count": 550,
     "metadata": {},
     "output_type": "execute_result"
    }
   ],
   "source": [
    "# Knoten mit dem grössten Outdegree in A\n",
    "A_max_outdegree = np.argmax(outdegrees)\n",
    "A_max_outdegree"
   ],
   "metadata": {
    "collapsed": false,
    "pycharm": {
     "name": "#%%\n"
    }
   }
  },
  {
   "cell_type": "code",
   "execution_count": 551,
   "outputs": [
    {
     "data": {
      "text/plain": "3.0"
     },
     "execution_count": 551,
     "metadata": {},
     "output_type": "execute_result"
    }
   ],
   "source": [
    "# Anzahl Outdegree für den Knoten mit dem grössten Outdegree\n",
    "A_max_outdegree_value = np.max(outdegrees)\n",
    "A_max_outdegree_value"
   ],
   "metadata": {
    "collapsed": false,
    "pycharm": {
     "name": "#%%\n"
    }
   }
  },
  {
   "cell_type": "code",
   "execution_count": 552,
   "outputs": [
    {
     "data": {
      "text/plain": "array([0., 2., 1., 0., 0., 3., 3., 4.])"
     },
     "execution_count": 552,
     "metadata": {},
     "output_type": "execute_result"
    }
   ],
   "source": [
    "# Indegree für A berechnen\n",
    "indegrees = np.sum(A, axis=0)\n",
    "indegrees\n",
    "\n",
    "\n"
   ],
   "metadata": {
    "collapsed": false,
    "pycharm": {
     "name": "#%%\n"
    }
   }
  },
  {
   "cell_type": "code",
   "execution_count": 553,
   "outputs": [
    {
     "data": {
      "text/plain": "7"
     },
     "execution_count": 553,
     "metadata": {},
     "output_type": "execute_result"
    }
   ],
   "source": [
    "# Knoten mit dem grössten Indegree in A\n",
    "A_max_indegree = np.argmax(indegrees)\n",
    "A_max_indegree"
   ],
   "metadata": {
    "collapsed": false,
    "pycharm": {
     "name": "#%%\n"
    }
   }
  },
  {
   "cell_type": "code",
   "execution_count": 554,
   "outputs": [
    {
     "data": {
      "text/plain": "4.0"
     },
     "execution_count": 554,
     "metadata": {},
     "output_type": "execute_result"
    }
   ],
   "source": [
    "# Anzahl Indegree für den Knoten mit dem grössten Indegree\n",
    "A_max_indegree_value = np.max(indegrees)\n",
    "A_max_indegree_value"
   ],
   "metadata": {
    "collapsed": false,
    "pycharm": {
     "name": "#%%\n"
    }
   }
  },
  {
   "cell_type": "code",
   "execution_count": 555,
   "outputs": [],
   "source": [
    "# Funktion zur Berechnung der Knoten mit dem grössten Outdegree und Indegree\n",
    "def calculate_degrees(adj_matrix):\n",
    "    # Outdegree für jeden Knoten berechnen\n",
    "    outdegrees = np.sum(adj_matrix, axis=1)\n",
    "\n",
    "    # Indegree für jeden Knoten berechnen\n",
    "    indegrees = np.sum(adj_matrix, axis=0)\n",
    "\n",
    "    # Maximum und Minimum für Outdegree und Indegree berechnen\n",
    "    max_outdegree = np.argmax(outdegrees)\n",
    "    max_indegree = np.argmax(indegrees)\n",
    "\n",
    "    print(\"Knoten mit dem grössten Outdegree: \", max_outdegree)\n",
    "    print(\"Knoten mit dem grössten Indegree: \", max_indegree)"
   ],
   "metadata": {
    "collapsed": false,
    "pycharm": {
     "name": "#%%\n"
    }
   }
  },
  {
   "cell_type": "code",
   "execution_count": 556,
   "outputs": [
    {
     "name": "stdout",
     "output_type": "stream",
     "text": [
      "Knoten mit dem grössten Outdegree:  0\n",
      "Knoten mit dem grössten Indegree:  7\n"
     ]
    }
   ],
   "source": [
    "calculate_degrees(A)"
   ],
   "metadata": {
    "collapsed": false,
    "pycharm": {
     "name": "#%%\n"
    }
   }
  },
  {
   "cell_type": "markdown",
   "metadata": {
    "pycharm": {
     "name": "#%% md\n"
    }
   },
   "source": [
    "Knoten mit am meisten Eingangsverbindungen (Suchen Sie eine Funktion in Numpy, die nicht das Maximum, sondern den Ort des Maximums ausgibt):"
   ]
  },
  {
   "cell_type": "code",
   "execution_count": 557,
   "metadata": {
    "pycharm": {
     "name": "#%%\n"
    }
   },
   "outputs": [],
   "source": [
    "def calculate_max_indegree(adj_matrix):\n",
    "    # Indegree für jeden Knoten berechnen\n",
    "    indegrees = np.sum(adj_matrix, axis=0)\n",
    "\n",
    "    # Maximum für Indegree berechnen\n",
    "    max_indegree = np.argmax(indegrees)\n",
    "\n",
    "    return max_indegree"
   ]
  },
  {
   "cell_type": "code",
   "execution_count": 558,
   "outputs": [
    {
     "data": {
      "text/plain": "7"
     },
     "execution_count": 558,
     "metadata": {},
     "output_type": "execute_result"
    }
   ],
   "source": [
    "calculate_max_indegree(A)"
   ],
   "metadata": {
    "collapsed": false,
    "pycharm": {
     "name": "#%%\n"
    }
   }
  },
  {
   "cell_type": "markdown",
   "metadata": {
    "pycharm": {
     "name": "#%% md\n"
    }
   },
   "source": [
    "Knoten mit am meisten Ausgangsverbindungen:"
   ]
  },
  {
   "cell_type": "code",
   "execution_count": 559,
   "outputs": [],
   "source": [
    "# Funktion für die Berechnung des höchsten Outdegree\n",
    "def calculate_max_outdegree(adj_matrix):\n",
    "    # Outdegree für jeden Knoten berechnen\n",
    "    outdegrees = np.sum(adj_matrix, axis=1)\n",
    "\n",
    "    # Maximum für Outdegree berechnen\n",
    "    max_outdegree = np.argmax(outdegrees)\n",
    "\n",
    "    return max_outdegree"
   ],
   "metadata": {
    "collapsed": false,
    "pycharm": {
     "name": "#%%\n"
    }
   }
  },
  {
   "cell_type": "code",
   "execution_count": 560,
   "outputs": [
    {
     "data": {
      "text/plain": "0"
     },
     "execution_count": 560,
     "metadata": {},
     "output_type": "execute_result"
    }
   ],
   "source": [
    "calculate_max_outdegree(A)"
   ],
   "metadata": {
    "collapsed": false,
    "pycharm": {
     "name": "#%%\n"
    }
   }
  },
  {
   "cell_type": "markdown",
   "metadata": {
    "pycharm": {
     "name": "#%% md\n"
    }
   },
   "source": [
    "Mit der Ihnen zur Verfügung gestellten Funktion `plot_graph` können Sie die Knotengrössen nach Ausgangsgrad darstellen:"
   ]
  },
  {
   "cell_type": "code",
   "execution_count": 561,
   "metadata": {
    "pycharm": {
     "name": "#%%\n"
    }
   },
   "outputs": [
    {
     "data": {
      "text/plain": "<Figure size 800x800 with 1 Axes>",
      "image/png": "[encoded data removed]"
     },
     "metadata": {},
     "output_type": "display_data"
    }
   ],
   "source": [
    "plot_graph( A, knoten_gewichte=outdegrees )"
   ]
  },
  {
   "cell_type": "markdown",
   "metadata": {
    "pycharm": {
     "name": "#%% md\n"
    }
   },
   "source": [
    "### Teilaufgabe b) Eigenvector Centrality aus numerischer Sicht: als Fixpunktverfahren"
   ]
  },
  {
   "cell_type": "markdown",
   "source": [
    "Das Konzept *'wer am meisten Verbindungen hat, ist am wichtigsten'* ist sehr einfach. Stellen Sie sich vor, jeder Knoten ist eine Webseite, die über die Pfeile auf andere Webseiten verbindet. Wenn wir zum Beispiel gefundene Suchresultate nach Wichtigkeit sortieren und einer Benutzerin präsentieren wollen, ist es für eine 'böswillige' Webseite sehr einfach zu tricksen: Einfach möglichst viele neue Webseiten erstellen, die auf die eigene Webseite zeigen und schon kommt man ganz oben (sogenannte [Link Farms](https://en.wikipedia.org/wiki/Link_farm)).\n",
    "\n",
    "Im Folgenden möchten wir das bereits in der Einführung angesprochene, etwas abstraktere und rekursiv definierte Zentralitätsmass einführen:\n",
    "\n",
    "**Wir definieren die Wichtigkeit eines Knotens als die Summe der Wichtigkeit aller Knoten, die auf diesen Knoten verbinden.**\n",
    "\n",
    "Sei ein Graph $G$ mit $n$ Knoten und $m$ Kanten gegeben. Dann bezeichne $x_i$ die Wichtigkeit eines Knotens und für diese gilt:\n",
    "\n",
    "$$ x_i = \\sum_{k\\in N(i)} x_k, $$\n",
    "\n",
    "wobei $N(i)$ die *Nachbarschaft* des Knotens $i$ bezeichnet: eine Liste aller Knoten, die zum Knoten $i$ eine Verbindung haben. $N(6)$ ist also zum Beispiel $\\{0,5,7\\}$. Diese Formel ist ein Spezialfall der sogenannten [Eigenvector Centrality](https://en.wikipedia.org/wiki/Eigenvector_centrality) (welche etwas allgemeiner definiert ist, wir setzen für diesen konkreten Fall aber $\\lambda=1$). In Teilaufgabe c) wird Ihnen klar, was dieses Wichtigkeitsmass mit Eigenvektoren zu tun hat.\n",
    "\n",
    "Wir können $N(i)$ auch über die Adjazenzmatrix repräsentieren (überlegen Sie sich warum das so funktioniert und warum die Transponierte genommen werden muss, am besten führen Sie sich dazu noch einmal die Definition der Adjazenzmatrix zu Gemüte):\n",
    "\n",
    "$$ x_i = \\sum_{k} a_{ki} x_k = \\sum_{k} a^T_{ik} x_k, $$\n",
    "\n",
    "und mit der Definition der Matrixmultiplikation als Summenformel:\n",
    "\n",
    "$$ \\mathbf{x} = A^T \\mathbf{x}. $$\n",
    "\n",
    "Was für einen Schritt! Wir haben eine Summenformel als Matrizenmultiplikation geschrieben! Damit müssen wir erstens die Summe nicht mehr mit einem (in Python langsamen) `for`-Loop berechnen, sondern können die volle Power der Libraries für lineare Algebra benutzen (was durchaus eine Geschwindigkeitssteigerung um einen Faktor 10-100 ausmachen kann) und zweitens können wir nun unser Wissen über Matrizen einsetzen, statt die Summe auseinanderzunehmen.\n",
    "\n",
    "Wir nennen diese Art Gleichung auch *Fixpunktgleichung*, da $\\mathbf{x}$ unter der Anwendung von $A^T$ *fix* bleiben soll. Es bieten sich zwei Möglichkeiten, diese Gleichung nach $\\mathbf{x}$ aufzulösen, eine numerische und eine analytische. Wir befassen uns zuerst mit der numerischen:\n",
    "\n",
    "Fixpunktgleichungen können rekursiv gelöst werden, indem $x$ immer wieder für sich selbst eingesetzt wird:\n",
    "\n",
    "$$ \\mathbf{x} = A^T \\mathbf{x} = A^T \\left( A^T \\mathbf{x} \\right) = A^T \\left( A^T \\left( A^T \\mathbf{x}\\right)\\right) = \\dots. $$\n",
    "\n",
    "$\\mathbf{x}$ soll also ausgehend von einem zufälligen Startwert $\\mathbf{x}_0$ solange von links mit $A^T$ multipliziert werden, bis es den Fixpunkt erreicht, wo $\\mathbf{x}$ sich auch nach Anwendung von $A^T$ nicht mehr ändert und damit die Gleichung $\\mathbf{x} = A^T \\mathbf{x}$ erfüllt ist. Es kann je nach Matrix möglicherweise mehrere solche Fixpunkte geben und je nach gewähltem zufälligen Startpunkt erreicht man einen anderen oder auch keinen."
   ],
   "metadata": {
    "collapsed": false,
    "pycharm": {
     "name": "#%% md\n"
    }
   }
  },
  {
   "cell_type": "markdown",
   "source": [
    "Im Folgenden ist ein Funktionsgerüst gegeben, das Sie vervollständigen sollen, um die Wichtigkeiten $\\mathbf{x}$ im gegebenen Graphen rekursiv mit zu berechnen.\n",
    "\n",
    "**Hinweise**:\n",
    "* Initialisieren Sie am Anfang die Komponenten von $\\mathbf{x}$ zufällig auf Werte zwischen 0 und 1, benutzen Sie dazu `np.random.rand(n)`, wobei $n$ die Dimension des Vektors $\\mathbf{x}$ bezeichnet.\n",
    "* Natürlich wird Ihr $\\mathbf{x}$ nie genau auf einen Wert konvergieren, die relative Differenz $|\\mathbf{x}_{n+1}-\\mathbf{x}|/|\\mathbf{x}|$ wird aber immer kleiner werden. Brechen Sie die Iteration ab, wenn ein gewisser Toleranzwert unterschritten wird.\n",
    "* Blöderweise ist $||A|| > 1$ und damit divergiert $\\mathbf{x} = A^T \\mathbf{x}$. Da Wichtigkeiten als relative Grössen zu interpretieren sind (in Prozent), können Sie dieses Problem lösen, indem Sie $\\mathbf{x}$ nach jeder Iteration so durch eine Zahl dividieren, dass nachher $\\sum_i x_i = 1$. Schalten Sie diese Normalisierung ein und aus und beobachten Sie das Verhalten der Funktion.\n",
    "* Zum Testen der Funktion kann es auch interessant sein, jeweils die Anzahl der benötigten Iterationen bis zum Erreichen des Toleranzwertes auszugeben.\n",
    "* Lassen Sie Ihre Funktion mehrere Male auf dem Graphen laufen. Kommt für verschiedene zufällige Startwerte das gleiche Resultat heraus?"
   ],
   "metadata": {
    "collapsed": false,
    "pycharm": {
     "name": "#%% md\n"
    }
   }
  },
  {
   "cell_type": "code",
   "execution_count": 562,
   "outputs": [],
   "source": [
    "def eigenvector_centrality( A, tol ):\n",
    "    \"\"\"\n",
    "    Funktion zur iterativen Berechnung der Eigenvector Centrality, die ausgehend von einem zufällig initialisierten x\n",
    "    durch wiederholte Multiplikation mit A.T den Fixpunkt von x = A.T x sucht.\n",
    "\n",
    "    Das Verfahren läuft so lange, bis |xneu-x|/|x| kleiner als eine vorgegebene Toleranz tol ist, |x| steht\n",
    "    dabei für die Länge des Vektors x.\n",
    "\n",
    "    Arguments:\n",
    "    A -- Adjazenzmatrix des Graphen (shape (n,n))\n",
    "    tol -- Toleranz für Abbruch (hier könnten Sie einen guten Defaultwert setzen)\n",
    "\n",
    "    Returns:\n",
    "    x -- gefundener Fixpunkt für Wichtigkeiten der einzelnen Knoten\n",
    "    \"\"\"\n",
    "\n",
    "    # IHR CODE STARTET HIER\n",
    "    # Initialisier x mit zufälligen Werten\n",
    "    n = len(A)\n",
    "    x = np.random.rand(n)\n",
    "    x = x/np.linalg.norm(x) # auf die Länge 1 normalisieren\n",
    "\n",
    "    while True:\n",
    "        # das neue x druch Multiplikation mit A.T berechnen\n",
    "        xneu = np.dot(A.T, x)\n",
    "        xneu = xneu/np.linalg.norm(xneu) # auf die Länge 1 normalisieren\n",
    "\n",
    "        # Differenz berechnen zwischen altem und neuem x\n",
    "        diff = np.linalg.norm(xneu-x)/np.linalg.norm(x)\n",
    "\n",
    "        # Abbruchbedingung wenn die Differezn kleiner als die Toleranz (tol) ist\n",
    "        if diff < tol:\n",
    "            break\n",
    "\n",
    "        # das x auf die nächste Iteration aktualisieren\n",
    "        x = xneu\n",
    "\n",
    "        return x\n"
   ],
   "metadata": {
    "collapsed": false,
    "pycharm": {
     "name": "#%%\n"
    }
   }
  },
  {
   "cell_type": "markdown",
   "source": [
    "Berechnen Sie nun die Eigenvector Centrality auf Ihrem Graphen und stellen Sie die Gewichtsverteilung grapisch mit `plot_graph` dar:"
   ],
   "metadata": {
    "collapsed": false,
    "pycharm": {
     "name": "#%% md\n"
    }
   }
  },
  {
   "cell_type": "code",
   "execution_count": 563,
   "outputs": [
    {
     "name": "stdout",
     "output_type": "stream",
     "text": [
      "[0.         0.25658285 0.09226717 0.         0.         0.6206223\n",
      " 0.44104811 0.58818071]\n"
     ]
    }
   ],
   "source": [
    "# IHR CODE\n",
    "print(eigenvector_centrality(A, 0.0001))"
   ],
   "metadata": {
    "collapsed": false,
    "pycharm": {
     "name": "#%%\n"
    }
   }
  },
  {
   "cell_type": "code",
   "execution_count": 564,
   "outputs": [
    {
     "data": {
      "text/plain": "<Figure size 800x800 with 1 Axes>",
      "image/png": "[encoded data removed]"
     },
     "metadata": {},
     "output_type": "display_data"
    }
   ],
   "source": [
    "# Berechnen der Eigenvector-Centrality\n",
    "weights = eigenvector_centrality(A, 0.0001)\n",
    "\n",
    "# Darstellen der Gewichtsverteilung im Plot\n",
    "plot_graph(A, weights)"
   ],
   "metadata": {
    "collapsed": false,
    "pycharm": {
     "name": "#%%\n"
    }
   }
  },
  {
   "cell_type": "markdown",
   "source": [
    "Was fällt Ihnen auf? Beschreiben Sie Ihre Beobachtungen. Warum ist die Situation so wie sie ist? Versuchen Sie sich vorzustellen, Sie sässen auf einem Knoten und würden jeweils zufällig eine der ausgehenden Verbindungen wählen und so auf den nächsten Knoten springen. Als Analogie können Sie sich Webseiten vorstellen, die aufeinander verlinken. Landen Sie am Ende Ihrer Reise bei gewissen Knoten öfters als bei anderen? Sind die Wichtigkeiten ähnlich wie der Eingangs- und Ausgangsgrad oder nicht?"
   ],
   "metadata": {
    "collapsed": false,
    "pycharm": {
     "name": "#%% md\n"
    }
   }
  },
  {
   "cell_type": "markdown",
   "source": [
    "-----\n",
    "\n",
    "*Ihre Antwort in Markdown*\n",
    "\n",
    "-----\n",
    "\n",
    "1. **Wichtige Knoten**: Knoten mit einer höheren Eigenvector-Centrality (also einem größeren Gewicht in der Darstellung) sind im Netzwerk wichtiger. Sie sind nicht nur gut vernetzt (hoher Outdegree), sondern auch mit anderen wichtigen Knoten verbunden. Das ist das Prinzip der Eigenvector-Centrality: Ein Knoten ist umso wichtiger, je mehr er mit wichtigen Knoten verbunden ist.\n",
    "\n",
    "2. **Vergleich mit In-/Outdegree**: Während der Indegree und der Outdegree lediglich die Anzahl der ein- bzw. ausgehenden Verbindungen eines Knotens zählen, berücksichtigt die Eigenvector-Centrality auch die Qualität dieser Verbindungen. Ein Knoten mit vielen Verbindungen zu unwichtigen Knoten kann weniger wichtig sein als ein Knoten mit wenigen, aber hochwertigen Verbindungen.\n",
    "\n",
    "3. **Random Walks**: Wenn Sie zufällige Verbindungen wählen und durch das Netzwerk \"laufen\", werden Sie wahrscheinlich häufiger bei den Knoten mit einer höheren Eigenvector-Centrality landen. Dies liegt daran, dass diese Knoten von vielen anderen Knoten aus erreichbar sind, einschließlich anderer wichtiger Knoten.\n",
    "\n",
    "4. **Vergleich mit der Realität**: Die Analogie mit Webseiten, die aufeinander verlinken, ist passend. Wichtige Webseiten (wie z.B. Wikipedia-Artikel) haben viele eingehende Links von anderen Seiten. Aber um wirklich wichtig zu sein, müssen diese anderen Seiten selbst wichtig sein. Dies ist das Prinzip des PageRank-Algorithmus von Google, der auf der Eigenvector-Centrality basiert.\n"
   ],
   "metadata": {
    "collapsed": false,
    "pycharm": {
     "name": "#%% md\n"
    }
   }
  },
  {
   "cell_type": "markdown",
   "metadata": {
    "pycharm": {
     "name": "#%% md\n"
    }
   },
   "source": [
    "### Teilaufgabe c) Eigenvector Centrality aus analytischer Sicht: als Eigenvektorproblem\n",
    "\n",
    "Teilaufgabe b) war eher aufwändig zum Lösen. Nun möchten wir uns der analytischen Lösung des Problems widmen. Man kann feststellen, dass mit\n",
    "\n",
    "$$\\mathbf{x} = A^T \\mathbf{x}$$\n",
    "\n",
    "$\\mathbf{x}$ gerade ein Eigenvektor von $A^T$ zum Eigenwert 1 ist. Finden wir also Eigenvektoren von $A^T$ zum besagten Eigenwert, haben wir bereits die Lösung des Problems in der Hand.\n",
    "\n",
    "Bestimmen Sie dazu das charakteristische Polynom $p_A(\\lambda)$ von $A^T$ **mit SymPy** und der Determinantenformel und geben Sie es aus. \n",
    "Berechnen Sie ebenfalls mit sympy die Lösungen von $p_A(\\lambda) = 0$ und damit die Eigenwerte $\\lambda_i$ und geben Sie sie aus:\n",
    "\n",
    "(Mit SymPy sollten Sie sich schon ausführlich im Rahmen von *Grundlagen der linearen Algebra* auseinandergesetzt haben. Ansonsten finden Sie [hier](https://docs.sympy.org/latest/tutorial/index.html) das offizielle Tutorial.) "
   ]
  },
  {
   "cell_type": "code",
   "execution_count": 565,
   "metadata": {
    "pycharm": {
     "name": "#%%\n"
    }
   },
   "outputs": [
    {
     "name": "stdout",
     "output_type": "stream",
     "text": [
      "Das charakteristische Polynom von A^T lautet: PurePoly(1.0*λ**8 - 2.0*λ**6 + 1.0*λ**4, λ, domain='RR')\n",
      "Die Eigenwerte von A^T sind: [-1.00000000000000, 0.0, 1.00000000000000]\n"
     ]
    }
   ],
   "source": [
    "# Lambda als Symbol definieren\n",
    "λ = sp.Symbol('λ') # ja, Python kann Unicode!\n",
    "\n",
    "# Adjanzenmatrix aus dem vorigen Code verwenden mit sympy und transponieren\n",
    "A_sp = sp.Matrix(A.T)\n",
    "\n",
    "# Charakteristisches Polynom berechnen\n",
    "p_A = A_sp.charpoly(λ)\n",
    "\n",
    "# Ausgabe des charakteristischen Polynoms\n",
    "print(\"Das charakteristische Polynom von A^T lautet:\", p_A)\n",
    "\n",
    "# Berechnen der Nullstellen des charakteristischen Polynoms\n",
    "ew = sp.solve(p_A, λ)\n",
    "\n",
    "# Ausgabe der Eigenwerte\n",
    "print(\"Die Eigenwerte von A^T sind:\", ew)\n"
   ]
  },
  {
   "cell_type": "markdown",
   "metadata": {
    "pycharm": {
     "name": "#%% md\n"
    }
   },
   "source": [
    "Was ist die algebraische Vielfachheit des Eigenvektors $\\lambda=1$?"
   ]
  },
  {
   "cell_type": "code",
   "execution_count": 566,
   "outputs": [
    {
     "name": "stdout",
     "output_type": "stream",
     "text": [
      "Die algebraische Vielfachheit des Eigenwerts λ=1 ist: 2\n"
     ]
    }
   ],
   "source": [
    "# Berechnen der algebraischen Vielfachheit des Eigenvektors λ=1\n",
    "print(\"Die algebraische Vielfachheit des Eigenwerts λ=1 ist:\", p_A.as_poly().count(1))"
   ],
   "metadata": {
    "collapsed": false,
    "pycharm": {
     "name": "#%%\n"
    }
   }
  },
  {
   "cell_type": "markdown",
   "metadata": {
    "pycharm": {
     "name": "#%% md\n"
    }
   },
   "source": [
    "-----\n",
    "\n",
    "*Ihre Antwort in Markdown*\n",
    "\n",
    "-----"
   ]
  },
  {
   "cell_type": "markdown",
   "metadata": {
    "pycharm": {
     "name": "#%% md\n"
    }
   },
   "source": [
    "Im Prinzip könnten Sie nun auch das Gleichungssystem $(A^T-1 \\cdot I)\\,\\mathbf{x} = \\mathbf{0}$ selbst lösen und den Eigenraum zum Eigenvektor 1 bestimmen (die anderen Eigenwerte von $A^T$ kommen ja für die obige Gleichung nicht in Frage). Wir überspringen diesen Schritt. Finden Sie die Eigenwerte und Eigenvektoren stattdessen mit `np.linalg.eig` und extrahieren Sie aus dem Resultat ausschliesslich die Eigen(basis)vektoren zum Eigenwert 1. Geben Sie diese aus.\n",
    "\n",
    "**Hinweis**: \n",
    "* Wegen numerischen Fehlern sind die Eigenwerte nicht genau ganze Zahlen. Benutzen Sie statt `ew==1` den Ausdruck `np.isclose(ew,1)` (`ew` ist dabei ein Vektor aus Eigenwerten).\n",
    "* Runden Sie die Eigenvektoren *in der Ausgabe* geeignet, so dass Ihr Resultat einfacher ablesbar wird.\n",
    "* Mit `help(np.linalg.eig)` erfahren Sie mehr über diese Funktion, **insbesondere wie die Eigenvektoren zu interpretieren sind**"
   ]
  },
  {
   "cell_type": "code",
   "execution_count": 567,
   "metadata": {
    "pycharm": {
     "name": "#%%\n"
    }
   },
   "outputs": [
    {
     "data": {
      "text/plain": "array([ 1.00000000e+00, -1.00000000e+00,  1.00000000e+00, -1.00000000e+00,\n        1.92296269e-16,  0.00000000e+00,  0.00000000e+00,  0.00000000e+00])"
     },
     "metadata": {},
     "output_type": "display_data"
    },
    {
     "data": {
      "text/plain": "array([[ 0.00000000e+00,  0.00000000e+00,  0.00000000e+00,\n         0.00000000e+00,  0.00000000e+00,  4.21637021e-01,\n         0.00000000e+00,  0.00000000e+00],\n       [ 0.00000000e+00,  0.00000000e+00,  3.14018492e-16,\n         6.80767271e-01, -4.53246652e-17, -2.29771455e-17,\n         4.35717277e-17,  0.00000000e+00],\n       [ 0.00000000e+00,  0.00000000e+00,  3.14018492e-16,\n        -6.80767271e-01,  9.06493304e-17, -4.21637021e-01,\n        -6.97399353e-17,  0.00000000e+00],\n       [ 0.00000000e+00,  0.00000000e+00,  0.00000000e+00,\n         0.00000000e+00,  0.00000000e+00,  0.00000000e+00,\n         1.35973996e-16,  0.00000000e+00],\n       [ 0.00000000e+00,  0.00000000e+00,  0.00000000e+00,\n         0.00000000e+00,  0.00000000e+00,  0.00000000e+00,\n         0.00000000e+00,  7.07106781e-01],\n       [ 7.07106781e-01,  7.07106781e-01, -7.07106781e-01,\n         1.91196032e-01, -7.07106781e-01, -7.37864787e-01,\n         7.07106781e-01,  1.58187870e-17],\n       [ 7.07106781e-01, -7.07106781e-01, -7.07106781e-01,\n        -1.91196032e-01, -1.14035411e-16, -4.89079835e-18,\n        -1.34111408e-16, -7.07106781e-01],\n       [ 0.00000000e+00,  0.00000000e+00,  6.28036983e-16,\n         8.49080949e-17,  7.07106781e-01,  3.16227766e-01,\n        -7.07106781e-01,  0.00000000e+00]])"
     },
     "metadata": {},
     "output_type": "display_data"
    },
    {
     "data": {
      "text/plain": "array([ True, False,  True, False, False, False, False, False])"
     },
     "metadata": {},
     "output_type": "display_data"
    }
   ],
   "source": [
    "# Eigenwerte und Eigenvektoren mit numpy berechnen\n",
    "ew, ev = np.linalg.eig(A.T)\n",
    "\n",
    "# Finden der Indizes der Eigenwerte, die nahe bei 1 sind\n",
    "indices = np.isclose(ew, 1)\n",
    "\n",
    "display(ew, ev, indices)"
   ]
  },
  {
   "cell_type": "code",
   "execution_count": 568,
   "metadata": {
    "pycharm": {
     "name": "#%%\n"
    }
   },
   "outputs": [
    {
     "name": "stdout",
     "output_type": "stream",
     "text": [
      "[[ 0.     0.   ]\n",
      " [ 0.     0.   ]\n",
      " [ 0.     0.   ]\n",
      " [ 0.     0.   ]\n",
      " [ 0.     0.   ]\n",
      " [ 0.707 -0.707]\n",
      " [ 0.707 -0.707]\n",
      " [ 0.     0.   ]]\n"
     ]
    }
   ],
   "source": [
    "# extrahieren der Eigenvektoren zum Eigenwert 1\n",
    "ev_1 = ev[:, indices]\n",
    "\n",
    "# Ausgabe der Eigenvektoren, runden auf 3 Dezimalstellen\n",
    "print(np.round(ev_1, 3))"
   ]
  },
  {
   "cell_type": "markdown",
   "metadata": {
    "pycharm": {
     "name": "#%% md\n"
    }
   },
   "source": [
    "Lösen alle Eigenvektoren die Gleichung $\\mathbf{x} = A^T\\mathbf{x}$ ?"
   ]
  },
  {
   "cell_type": "code",
   "execution_count": 569,
   "metadata": {
    "pycharm": {
     "name": "#%%\n"
    }
   },
   "outputs": [
    {
     "name": "stdout",
     "output_type": "stream",
     "text": [
      "Eigenvektor 0 löst die Gleichung.\n",
      "Eigenvektor 1 löst die Gleichung.\n"
     ]
    }
   ],
   "source": [
    "for i in range(ev_1.shape[1]):\n",
    "    x = ev_1[:, i]  # Eigenvektor\n",
    "    Ax = np.dot(A.T, x)  # A^T x\n",
    "\n",
    "    # Überprüfe, ob A^T x und x (fast) gleich sind\n",
    "    if np.allclose(Ax, x):\n",
    "        print(f\"Eigenvektor {i} löst die Gleichung.\")\n",
    "    else:\n",
    "        print(f\"Eigenvektor {i} löst die Gleichung nicht.\")\n",
    "\n"
   ]
  },
  {
   "cell_type": "markdown",
   "metadata": {
    "pycharm": {
     "name": "#%% md\n"
    }
   },
   "source": [
    "Sind die Eigenvektoren linear unabhängig? Was ist Dimension des Eigenraums $E_1$ und damit die geometrische Vielfachheit zum Eigenwert 1?"
   ]
  },
  {
   "cell_type": "code",
   "execution_count": 570,
   "outputs": [
    {
     "name": "stdout",
     "output_type": "stream",
     "text": [
      "False\n"
     ]
    },
    {
     "data": {
      "text/plain": "1"
     },
     "metadata": {},
     "output_type": "display_data"
    },
    {
     "data": {
      "text/plain": "2"
     },
     "metadata": {},
     "output_type": "display_data"
    }
   ],
   "source": [
    "# Rang der Matrix aus den Eigenvektoren\n",
    "rank = np.linalg.matrix_rank(ev_1)\n",
    "rank\n",
    "\n",
    "print(rank == ev_1.shape[1])\n",
    "\n",
    "# Dimension des Eigenraums\n",
    "dim = ev_1.shape[1]\n",
    "dim\n",
    "\n",
    "display(rank, dim)"
   ],
   "metadata": {
    "collapsed": false,
    "pycharm": {
     "name": "#%%\n"
    }
   }
  },
  {
   "cell_type": "markdown",
   "metadata": {
    "pycharm": {
     "name": "#%% md\n"
    }
   },
   "source": [
    "-----\n",
    "\n",
    "*Ihre Antwort in Markdown*\n",
    "\n",
    "-----\n",
    "Da der Rang der Matrix von der Dimension der Eigenvektoren unteschiedlich ist, sind die Eigenvektoren linear abhängig."
   ]
  },
  {
   "cell_type": "markdown",
   "metadata": {
    "pycharm": {
     "name": "#%% md\n"
    }
   },
   "source": [
    "Normalisieren Sie zum Vergleich mit Ihren Resultaten aus Teilaufgabe b) die gefundene Basis aus linear unabhängigen Eigenvektoren von $A^T$ zum Eigenwert 1, indem Sie jeden Basisvektor durch die Summe seiner Elemente teilen. Zeigen Sie, dass Sie nun damit die gleichen Wichtigkeiten bekommen wie in Teilaufgabe b)."
   ]
  },
  {
   "cell_type": "code",
   "execution_count": 571,
   "metadata": {
    "pycharm": {
     "name": "#%%\n"
    }
   },
   "outputs": [
    {
     "name": "stdout",
     "output_type": "stream",
     "text": [
      "Eigenvektor 0 ist gleich Wichtigkeit 0.0: False\n",
      "Eigenvektor 1 ist gleich Wichtigkeit 0.0: False\n"
     ]
    }
   ],
   "source": [
    "# Basisvektoren normalisieren\n",
    "norm_vecs = ev_1 / np.sum(ev_1, axis=0)\n",
    "\n",
    "# berechnen der Wichtigkeiten aus Teilaufgabe b)\n",
    "importance_b = np.round(eigenvector_centrality(A, 0.0001), 0)\n",
    "importance_b\n",
    "\n",
    "# Vergleich der normalisierten Vektoren mid den Wichtigkeiten aus Teilaufgabe b)\n",
    "for i in range(norm_vecs.shape[1]):\n",
    "    print(f\"Eigenvektor {i} ist gleich Wichtigkeit {importance_b[i]}: {np.allclose(norm_vecs[:, i], importance_b[i])}\")\n",
    "\n"
   ]
  },
  {
   "cell_type": "markdown",
   "metadata": {
    "pycharm": {
     "name": "#%% md\n"
    }
   },
   "source": [
    "Weil die Wichtigkeiten ganz einfach als Eigenwertproblem berechenbar sind, hat dieses Wichtigkeitsmass den Namen **Eigenvector Centrality** bekommen. Es macht theoretisch Sinn, aber seine praktischen Probleme sind offensichtlich: fliesst wie zum Beispiel in diesem Graphen die Wichtigkeit immer in zwei Knoten, die sie sich dann gegenseitig zuschaufeln, gehen alle anderen Knoten leer aus und bekommen die Wichtigkeit 0. Es wäre aber durchaus nützlich, etwas differenziertere Wichtigkeiten zu erhalten."
   ]
  },
  {
   "cell_type": "markdown",
   "metadata": {
    "pycharm": {
     "name": "#%% md\n"
    }
   },
   "source": [
    "## Aufgabe 3: Page Rank"
   ]
  },
  {
   "cell_type": "markdown",
   "metadata": {
    "pycharm": {
     "name": "#%% md\n"
    }
   },
   "source": [
    "Motiviert durch die Probleme der Eigenvector Centrality möchten wir den Gedankengang noch etwas weiterführen: Wenn ein Knoten die Wichtigkeit $x_k$ besitzt, aber 10 Verbindungen zu anderen Knoten hat, dann sollte jeder dieser anderen Knoten von ihm nur seinen Anteil dieser Wichtigkeit abbekommen, in diesem Fall $\\frac{x_k}{10}$; damit bleibt die totale Wichtigkeit im System erhalten (statt dass sie wie vorher divergiert). Dazu modifizieren wir die Eigenvector Centrality folgendermassen:\n",
    "\n",
    "$$ x_i = \\sum_k A^T_{ik} \\frac{x_k}{L(k)},  $$\n",
    "\n",
    "wobei $L(k) = \\sum_i A_{ki}$ die Anzahl der von Knoten $k$ ausgehenden Verbindungen bezeichnet. Den Ausgangsgrad $L(k)$ des Knotens $k$ können wir auch in die Matrix nehmen:\n",
    "\n",
    "$$ x_i = \\sum_k \\frac{A^T_{ik}}{L(k)} x_k \\equiv \\sum_k H_{ik} x_k, \\quad \\text{mit} \\quad H_{ik} = \\frac{A^T_{ik}}{L(k)}.$$\n",
    "\n",
    "### Teilaufgabe a) Berechnung von H\n",
    "\n",
    "Berechnen Sie die Matrix $H$, indem Sie alle Elemente der Matrix $A$ durch ihren Ausgangsgrad dividieren (siehe Aufgabe 2a)) und geben Sie sie aus.\n",
    "\n",
    "**Hinweis:** Die Spalten von $H$ sollten sich damit jeweils zu eins summieren, prüfen Sie dies mit einem `assert`-Statement."
   ]
  },
  {
   "cell_type": "code",
   "execution_count": 572,
   "metadata": {
    "pycharm": {
     "name": "#%%\n"
    }
   },
   "outputs": [
    {
     "data": {
      "text/plain": "array([0., 2., 1., 0., 0., 3., 3., 4.])"
     },
     "execution_count": 572,
     "metadata": {},
     "output_type": "execute_result"
    }
   ],
   "source": [
    "# Berechnen der Ausgangsgrade für jeden Knoten\n",
    "Lk = np.sum(A, axis=0)\n",
    "Lk"
   ]
  },
  {
   "cell_type": "code",
   "execution_count": 573,
   "outputs": [
    {
     "data": {
      "text/plain": "array([1., 2., 1., 1., 1., 3., 3., 4.])"
     },
     "execution_count": 573,
     "metadata": {},
     "output_type": "execute_result"
    }
   ],
   "source": [
    "# um zu vermeiden, dass wir durch 0 teilen, setzen wir alle 0-Einträge auf 1\n",
    "Lk[Lk == 0] = 1\n",
    "Lk"
   ],
   "metadata": {
    "collapsed": false,
    "pycharm": {
     "name": "#%%\n"
    }
   }
  },
  {
   "cell_type": "code",
   "execution_count": 574,
   "outputs": [
    {
     "data": {
      "text/plain": "array([[0.        , 0.5       , 0.        , 0.        , 0.        ,\n        0.        , 0.33333333, 0.25      ],\n       [0.        , 0.        , 1.        , 0.        , 0.        ,\n        0.        , 0.        , 0.25      ],\n       [0.        , 0.5       , 0.        , 0.        , 0.        ,\n        0.        , 0.        , 0.25      ],\n       [0.        , 0.        , 0.        , 0.        , 0.        ,\n        0.33333333, 0.        , 0.25      ],\n       [0.        , 0.        , 0.        , 0.        , 0.        ,\n        0.33333333, 0.        , 0.        ],\n       [0.        , 0.        , 0.        , 0.        , 0.        ,\n        0.        , 0.33333333, 0.        ],\n       [0.        , 0.        , 0.        , 0.        , 0.        ,\n        0.33333333, 0.        , 0.        ],\n       [0.        , 0.        , 0.        , 0.        , 0.        ,\n        0.        , 0.33333333, 0.        ]])"
     },
     "execution_count": 574,
     "metadata": {},
     "output_type": "execute_result"
    }
   ],
   "source": [
    "# Berechnen der Matrix H\n",
    "H = A / Lk\n",
    "H"
   ],
   "metadata": {
    "collapsed": false,
    "pycharm": {
     "name": "#%%\n"
    }
   }
  },
  {
   "cell_type": "markdown",
   "metadata": {
    "pycharm": {
     "name": "#%% md\n"
    }
   },
   "source": [
    " ### Teilaufgabe b) Exakte Lösung\n",
    "\n",
    "Zur Vermeidung von numerischen Instabilitäten fügen wir ohne weitere Erläuterungen einen sogenannten *Dämpfungsterm* zur Formel hinzu:\n",
    "\n",
    "$$ x_i = (1-d) \\frac{1}{n} + d \\sum_k \\frac{A^T_{ik}}{L(k)} x_k,$$\n",
    "\n",
    "mit der Anzahl Knoten $n$ und dem Dämpfungsfaktor $d=0.85$. Die 'Dämpfung' sorgt dafür, dass kein $x_i$ null ist, sondern mindestens $\\frac{1-d}{n}$. Das ist die ursprüngliche Formel, die Larry Page und Sergey Brin als *Google Page Rank* eingeführt haben $^1$. Mit der oben berechneten Matrix $H$ lautet sie:\n",
    "\n",
    "$$  x_i = \\frac{1-d}{n} + d \\sum_k H_{ik} x_k.$$\n",
    "\n",
    "Mit Matrizen und Vektoren geschrieben:\n",
    "\n",
    "$$ \\mathbf{x} = \\frac{1-d}{n} \\mathbf{1} + d \\, H \\, \\mathbf{x},$$\n",
    "\n",
    "wobei $\\mathbf{1}$ einen Vektor aus $n$ Einsen bezeichnet.\n",
    "\n",
    "Um die obige Gleichung nach $\\mathbf{x}$ aufzulösen, müssen wir nach ein paar Umformungen die Marix $H$ invertieren, d.h. wir müssen die Adjazenzmatrix invertieren. Für die Adjazenzmatrizen grosser Graphen ist es nicht einfach, die Inverse zu berechnen.\n",
    "In diesem Fall haben Sie aber Glück: Der Graph ist klein genug und es braucht nicht sehr viel Zeit, die Inverse einer 8x8-Matrix zu berechnen. Lösen Sie nun die obige Gleichung (von Hand) nach $\\mathbf{x}$ auf und geben Sie über die gefundene Formel die Lösung $\\mathbf{x}$ für diesen Graphen aus."
   ]
  },
  {
   "cell_type": "code",
   "execution_count": 575,
   "metadata": {
    "pycharm": {
     "name": "#%%\n"
    }
   },
   "outputs": [
    {
     "data": {
      "text/plain": "array([0.01875, 0.01875, 0.01875, 0.01875, 0.01875, 0.01875, 0.01875,\n       0.01875])"
     },
     "execution_count": 575,
     "metadata": {},
     "output_type": "execute_result"
    }
   ],
   "source": [
    "d = 0.85\n",
    "n = A.shape[0]\n",
    "\n",
    "# Berechnen die rechte Seite der Gleichung\n",
    "rhs = (1 - d) / n * np.ones(n)\n",
    "rhs\n"
   ]
  },
  {
   "cell_type": "code",
   "execution_count": 576,
   "outputs": [
    {
     "data": {
      "text/plain": "array([[1.        , 0.66536204, 0.56555773, 0.        , 0.        ,\n        0.12866396, 0.45410808, 0.47407045],\n       [0.        , 1.56555773, 1.33072407, 0.        , 0.        ,\n        0.0537203 , 0.18960105, 0.61545988],\n       [0.        , 0.66536204, 1.56555773, 0.        , 0.        ,\n        0.04137915, 0.14604405, 0.47407045],\n       [0.        , 0.        , 0.        , 1.        , 0.        ,\n        0.32661205, 0.15274841, 0.2125    ],\n       [0.        , 0.        , 0.        , 0.        , 1.        ,\n        0.30806403, 0.08728481, 0.        ],\n       [0.        , 0.        , 0.        , 0.        , 0.        ,\n        1.08728481, 0.30806403, 0.        ],\n       [0.        , 0.        , 0.        , 0.        , 0.        ,\n        0.30806403, 1.08728481, 0.        ],\n       [0.        , 0.        , 0.        , 0.        , 0.        ,\n        0.08728481, 0.30806403, 1.        ]])"
     },
     "execution_count": 576,
     "metadata": {},
     "output_type": "execute_result"
    }
   ],
   "source": [
    "# Berechnen der Inversen von H\n",
    "H_inv = np.linalg.inv(np.eye(n) -d * H)\n",
    "H_inv"
   ],
   "metadata": {
    "collapsed": false,
    "pycharm": {
     "name": "#%%\n"
    }
   }
  },
  {
   "cell_type": "code",
   "execution_count": 577,
   "outputs": [
    {
     "data": {
      "text/plain": "array([0.06164554, 0.07040743, 0.05423275, 0.03172238, 0.02616279,\n       0.02616279, 0.02616279, 0.02616279])"
     },
     "execution_count": 577,
     "metadata": {},
     "output_type": "execute_result"
    }
   ],
   "source": [
    "# Berechnen der Lösung\n",
    "x = H_inv @ rhs\n",
    "x"
   ],
   "metadata": {
    "collapsed": false,
    "pycharm": {
     "name": "#%%\n"
    }
   }
  },
  {
   "cell_type": "markdown",
   "metadata": {
    "pycharm": {
     "name": "#%% md\n"
    }
   },
   "source": [
    "Auch hier können wir unseren Graphen mit den entsprechenden Knotengewichten wieder visualisieren:"
   ]
  },
  {
   "cell_type": "code",
   "execution_count": 578,
   "metadata": {
    "pycharm": {
     "name": "#%%\n"
    }
   },
   "outputs": [
    {
     "data": {
      "text/plain": "<Figure size 800x800 with 1 Axes>",
      "image/png": "[encoded data removed]"
     },
     "metadata": {},
     "output_type": "display_data"
    }
   ],
   "source": [
    "plot_graph( A, knoten_gewichte=x )"
   ]
  },
  {
   "cell_type": "markdown",
   "metadata": {
    "pycharm": {
     "name": "#%% md\n"
    }
   },
   "source": [
    "Im Unterschied zur Eigenvector Centrality sollten nun alle Knoten ein einigermassen 'vernünftiges' Gewicht haben."
   ]
  },
  {
   "cell_type": "markdown",
   "metadata": {
    "pycharm": {
     "name": "#%% md\n"
    }
   },
   "source": [
    "## Aufgabe 4: Berechnung von Page Rank ohne Matrixinversion\n",
    "\n",
    "Nicht immer ist eine Inversion der Matrix $H$ möglich oder effizient genug, bei sehr grossen Matrizen dauert eine Inversion sehr sehr lange und wird numerisch instabil (Die Matrixinversion wächst effizient implementiert mit $\\mathcal{O}(n^{2.373})$, das Invertieren einer Matrix mit einer doppelt so grossen Anzahl Zeilen und Spalten braucht also $2^{2.373} \\approx 5$ mal länger). Für Graphen mit vielen Knoten ist meistens eine iterative Annäherung wesentlich schneller und stabiler. Im Folgenden haben wir zwei Ansätze für Sie vorbereitet, die Page Rank von zwei verschiedenen Seiten betrachten."
   ]
  },
  {
   "cell_type": "markdown",
   "metadata": {
    "pycharm": {
     "name": "#%% md\n"
    }
   },
   "source": [
    "### Teilaufgabe a) Iterative Lösung: Die Power-Methode\n",
    "\n",
    "In Aufgabe 2b) haben Sie ein iteratives Verfahren kennengelernt (das als *Fixpunkt-Verfahren* bezeichnet wird). \n",
    "Auch dieses Problem kann iterativ gelöst werden. Setzen wir $\\mathbf{x}$ iterativ immer wieder in die Formel ein, so führt das zu folgendem Ergebnis (Übung: Versuchen Sie diese Formel selbst von Hand herzuleiten):\n",
    "\n",
    "$$ \\mathbf{x} = \\frac{1-d}{n} \\left(\\sum_{k=0}^\\infty d^k H^k\\right) \\mathbf{1},$$\n",
    "\n",
    "wobei $\\mathbf{1}$ wiederum ein Vektor aus Einsen ist. Natürlich können Sie nicht die ganze unendliche Summe berechnen, da aber $d<1$ können wir annehmen, dass die Reihe irgendwann konvergiert. Berechnen Sie mit dieser einfachen Formel den Page Rank des Graphen. Ist das Resultat mit dem Resultat aus Aufgabe 3b) vergleichbar? Wie viele Potenzen von $H$ sind nötig, um an das Resultat von 3b) heranzukommen?\n",
    "\n",
    "Um die PageRank-Werte für den Graphen mit der Power-Methode zu berechnen, führen wir die folgenden Schritte aus:\n",
    "\n",
    "1. Wir initialisieren einen Vektor x (der den PageRank repräsentiert) mit Werten 1/n für alle Knoten.\n",
    "2. Wir berechnen ein neues x, indem wir die PageRank-Formel anwenden.\n",
    "3. Wir vergleichen das alte x mit dem neuen x. Wenn der Unterschied kleiner als eine bestimmte Toleranz ist, brechen wir die Iteration ab. Andernfalls setzen wir das neue x als altes x und wiederholen den Schritt 2.\n",
    "\n",
    "Dieses iterative Verfahren konvergiert in der Regel nach einer Anzahl von Iterationen zur Lösung."
   ]
  },
  {
   "cell_type": "code",
   "execution_count": 579,
   "metadata": {
    "pycharm": {
     "name": "#%%\n"
    }
   },
   "outputs": [],
   "source": [
    "# IHR CODE\n",
    "def calculate_page_rank(H, d=0.85, tol=1e-6):\n",
    "    n = H.shape[0]\n",
    "    x = np.ones(n) / n\n",
    "    x_new = np.ones(n) / n\n",
    "    while np.linalg.norm(x - x_new) > tol:\n",
    "        x = x_new\n",
    "        x_new = (1 - d) / n + d * H @ x\n",
    "    return x_new"
   ]
  },
  {
   "cell_type": "code",
   "execution_count": 580,
   "metadata": {
    "pycharm": {
     "name": "#%%\n"
    }
   },
   "outputs": [
    {
     "data": {
      "text/plain": "array([0.125, 0.125, 0.125, 0.125, 0.125, 0.125, 0.125, 0.125])"
     },
     "execution_count": 580,
     "metadata": {},
     "output_type": "execute_result"
    }
   ],
   "source": [
    "calculate_page_rank(A)"
   ]
  },
  {
   "cell_type": "markdown",
   "metadata": {
    "pycharm": {
     "name": "#%% md\n"
    }
   },
   "source": [
    "### Teilaufgabe b) Random Surfer - Modell"
   ]
  },
  {
   "cell_type": "markdown",
   "metadata": {
    "pycharm": {
     "name": "#%% md\n"
    }
   },
   "source": [
    "Page Rank kann auch als *stochastischer Prozess* modelliert werden, mit dem sogenannten *Random Surfer -  Modell*:\n",
    "Stellen Sie sich vor, Sie starteten auf einer beliebigen Seite im Web (als Knoten im Graphen modelliert). Nun haben Sie folgende Möglichkeiten:\n",
    "\n",
    "(1) Sie klicken auf einen zufälligen Link auf der Webseite und gelangen dadurch auf eine nächste Webseite (Sie springen also über eine Verbindung vom aktuellen Knoten im Graphen auf einen nächsten).\n",
    "\n",
    "(2) Sie entscheiden sich für eine andere Webseite, die Sie zufällig im Kopf haben und springen auf diese, ohne einer Verbindung vom aktuellen Knoten zu folgen (Sie springen also zufällig auf einen x-beliebigen Knoten des Graphen, wird im Page Rank - Jargon oft als *Teleportation* bezeichnet).\n",
    "\n",
    "Variante (1) machen Sie hier mit einer Wahrscheinlichkeit von p=d=85% und Variante (2) mit einer Wahrscheinlichkeit von p=1-d=15%. Damit ist auch die Rolle des Dämpfungsterms ein wenig geklärt.\n",
    "\n",
    "Hier ist der Algorithmus noch einmal zusammengefasst:\n",
    "\n",
    "* Setze zufällig einen Knoten als Startknoten\n",
    "* Führe `n_jumps` mal den folgenden Ablauf durch:\n",
    "    * Bezeichne den aktuellen Knoten als $k$\n",
    "    * Ziehe eine zufällige Zahl $z$ zwischen 0 und 1\n",
    "    * Falls $z >= d$:\n",
    "        * springe zu einem zufälligen neuen Knoten $k$ im System ('Teleportation')\n",
    "    * Andernfalls:\n",
    "        * erstelle aus der Adjazenzmatrix eine Liste $L$ mit allen Knoten, die mit Knoten $k$ verbunden sind\n",
    "        * wähle zufällig einen neuen Knoten $k$ aus der Liste $L$ als Sprungziel\n",
    "\n",
    "Implementieren Sie eine Funktion, die `n_jumps` Sprünge durchführt entsprechend der obigen Beschreibung und die realisierte Knotenfolge als Liste ausgibt.\n",
    "\n",
    "**Hinweise**:\n",
    "* Eine Zahl zwischen 0 und 1 können Sie mit `np.random.rand()` erzeugen\n",
    "* Ein zufällige Ganzzahl zwischen 0 und $n-1$ können Sie mit `np.random.randint(n)` erzeugen\n",
    "* Ein zufälliges Element aus einer Liste `L` können Sie mit `np.random.choice(L)` ziehen\n",
    "* Erstellen Sie eine Liste mit den erreichten Knoten. Mit `l.append(k)` können Sie die Zahl `k` and die Liste `l` anhängen. Mit `l[-1]` greifen Sie auf das letzte Element einer Liste zu."
   ]
  },
  {
   "cell_type": "code",
   "execution_count": 581,
   "metadata": {
    "pycharm": {
     "name": "#%%\n"
    }
   },
   "outputs": [],
   "source": [
    "def random_surfer( A, n_jumps, d=0.85 ):\n",
    "    \"\"\"\n",
    "    Funktion, die einen Random Surfer simuliert. Der Surfer startet bei einem zufälligen Knoten und folgt mit\n",
    "    einer Wahrscheinlichkeit von d entweder einer der Verbindungen oder 'teleportiert' andernfalls auf einen zufällig\n",
    "    ausgewählten Knoten im Graphen.\n",
    "    \n",
    "    Arguments:\n",
    "    A -- Adjazenzmatrix des Graphen (shape (n,n))\n",
    "    n_jumps -- Anzahl durchzuführende Sprünge\n",
    "    d -- Dämpfungsfaktor, wird meistens auf 0.85 gesetzt\n",
    "        \n",
    "    Returns: \n",
    "    knoten -- eine Liste mit den Knoten, die in diesem Durchlauf erreicht wurden\n",
    "    \"\"\"\n",
    "    \n",
    "    # IHR CODE STARTET HIER\n",
    "\n",
    "   # Anzahl der Knoten\n",
    "    n = A.shape[0]\n",
    "\n",
    "    # Liste der besuchten Knoten\n",
    "    visited_nodes = []\n",
    "\n",
    "    # Zufälliger Startknoten\n",
    "    k = np.random.randint(n)\n",
    "    visited_nodes.append(k)\n",
    "\n",
    "    # Durchführung der Sprünge\n",
    "    for _ in range(n_jumps):\n",
    "        z = np.random.rand()\n",
    "\n",
    "        if z < d and A[k].any():  # Prüfen, ob Knoten k Verbindungen hat\n",
    "            # Erstelle Liste L aller Knoten, die mit Knoten k verbunden sind\n",
    "            L = np.where(A[k])[0]  # np.where gibt die Indizes der nicht-Null-Elemente zurück\n",
    "            # Wähle zufällig einen neuen Knoten k aus der Liste L\n",
    "            k = np.random.choice(L)\n",
    "        else:\n",
    "            # Springe zu einem zufälligen Knoten k\n",
    "            k = np.random.randint(n)\n",
    "\n",
    "        visited_nodes.append(k)\n",
    "\n",
    "    # IHR CODE ENDET HIER\n",
    "        \n",
    "jumps = random_surfer( A, 10000 )\n",
    "jumps"
   ]
  },
  {
   "cell_type": "markdown",
   "metadata": {
    "pycharm": {
     "name": "#%% md\n"
    }
   },
   "source": [
    "Der Page Rank jedes Knotens ist approximiert als seine relative Häufigkeit in der errechneten Knotenfolge. Die Funktion `np.unique( .., return_counts=True )` gibt Ihnen eine Liste der Knoten (`unique`) und der Anzahl mit der sie erreicht wurden (`counts`) zurück, womit Sie die relativen Häufigkeiten berechnen können:"
   ]
  },
  {
   "cell_type": "code",
   "execution_count": 583,
   "metadata": {
    "pycharm": {
     "name": "#%%\n"
    }
   },
   "outputs": [
    {
     "data": {
      "text/plain": "[1.0]"
     },
     "execution_count": 583,
     "metadata": {},
     "output_type": "execute_result"
    }
   ],
   "source": [
    "unique, counts = np.unique( jumps, return_counts=True )\n",
    "list( counts / counts.sum() )"
   ]
  },
  {
   "cell_type": "markdown",
   "metadata": {
    "pycharm": {
     "name": "#%% md\n"
    }
   },
   "source": [
    "Sie sollten auch hier ungefähr das gleiche Resultat wie in Aufgabe 3b) bekommen.\n",
    "\n",
    "## Ausblick\n",
    "\n",
    "Damit haben Sie zwei äquivalente Modelle für das gleiche Problem kennengelernt: Das erste definiert die Wichtigkeit einer Webseite als die Summe der relativen Wichtigkeiten der sie verlinkenden Webseiten plus einem Dämpfungsterm für die numerische Stabilität und das zweite simuliert einen 'Surfer', der zufällig entweder einzelnen Links folgt oder auf eine beliebige andere Webseite springt. Viele mathematische Probleme können aus äquivalenten determinisitischen und stochastischen Blickwinkeln betrachtet werden (siehe zB lineare Regression). Die beiden Anschauungsarten erlauben oft sehr komplementäre Erkenntnisse über das betrachtete System."
   ]
  },
  {
   "cell_type": "markdown",
   "metadata": {
    "pycharm": {
     "name": "#%% md\n"
    }
   },
   "source": [
    "## Referenzen\n",
    "\n",
    "1. Page, Brin, Motwani, Winograd: The PageRank Citation Ranking: Bringing Order to the Web (1998) [PDF](http://ilpubs.stanford.edu:8090/422/1/1999-66.pdf)."
   ]
  }
 ],
 "metadata": {
  "kernelspec": {
   "display_name": "Python 3",
   "language": "python",
   "name": "python3"
  },
  "language_info": {
   "codemirror_mode": {
    "name": "ipython",
    "version": 3
   },
   "file_extension": ".py",
   "mimetype": "text/x-python",
   "name": "python",
   "nbconvert_exporter": "python",
   "pygments_lexer": "ipython3",
   "version": "3.5.2"
  }
 },
 "nbformat": 4,
 "nbformat_minor": 4
}